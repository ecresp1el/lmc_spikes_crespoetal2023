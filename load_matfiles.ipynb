{
 "cells": [
  {
   "cell_type": "code",
   "execution_count": 1,
   "metadata": {},
   "outputs": [
    {
     "name": "stdout",
     "output_type": "stream",
     "text": [
      "dict_keys(['Lmc_noopsin', 'Lmc_opsin'])\n",
      "For the group Lmc_noopsin there are 2 mice\n",
      "For the recording lmc_noch_1_3096_rec1 there are 5 cells\n",
      "For the recording lmc_noch_1_3096_rec2 there are 4 cells\n",
      "For the group Lmc_opsin there are 3 mice\n",
      "For the recording lmc_ch_1_3094_rec1 there are 7 cells\n",
      "For the recording lmc_ch_1_3094_rec2 there are 3 cells\n",
      "For the recording lmc_ch_2_3093_rec1 there are 4 cells\n"
     ]
    },
    {
     "data": {
      "text/plain": [
       "dict_keys(['Lmc_noopsin', 'Lmc_opsin'])"
      ]
     },
     "execution_count": 1,
     "metadata": {},
     "output_type": "execute_result"
    }
   ],
   "source": [
    "from Extract_ephys_from_struct import ExtractEphysData\n",
    "\n",
    "#now test the class\n",
    "#initialize the class\n",
    "EED = ExtractEphysData('/Users/cresp1el/Documents/MATLAB/lmc_20ms_data.mat')\n",
    "\n",
    "#test the methods of the class\n",
    "EED.load_matfiles_printdata()\n",
    "\n",
    "#test the extract_ephys_data method\n",
    "EED.extract_ephys_data('Lmc_opsin', 'lmc_ch_1_3094_rec1', 'cid134')\n",
    "\n",
    "#what are the group names?\n",
    "EED.group_names"
   ]
  },
  {
   "cell_type": "code",
   "execution_count": 10,
   "metadata": {},
   "outputs": [
    {
     "data": {
      "text/plain": [
       "dict_keys(['FRs_baseline', 'FRs_baseline_vec', 'FRs_stim', 'FanoFactor_baseline', 'FanoFactor_stim', 'FirstSpikeLatency', 'FirstSpikeLatency_Reliability', 'FirstSpikeLatency_pdf_x', 'FirstSpikeLatency_pdf_y', 'FirstSpikeLatency_perTrial', 'ISI_baseline_CV', 'ISI_baseline_vec', 'ISI_pdf_peak_xy', 'ISI_pdf_x', 'ISI_pdf_y', 'MeanFR_baseline', 'MeanFR_inst_baseline', 'MeanFR_inst_stim', 'MeanFR_stim', 'ModulationIndex', 'PSTHs_conv', 'PSTHs_raw', 'PeakEvokedFR', 'PeakEvokedFR_Latency', 'SpikeTimes_baseline', 'SpikeTimes_stim', 'SpikeTimes_trials', 'SpikeTrains_baseline', 'SpikeTrains_baseline_ms', 'SpikeTrains_for_PSTHs', 'SpikeTrains_stim', 'SpikeTrains_stim_ms', 'SpikeTrains_trials', 'SpikeTrains_trials_ms', 'StimProb', 'StimResponsivity', 'Stim_Intensity', 'Stim_Offsets_samples', 'Stim_Onsets_samples'])"
      ]
     },
     "execution_count": 10,
     "metadata": {},
     "output_type": "execute_result"
    }
   ],
   "source": [
    "#get the pre and post stim data\n",
    "test = EED.get_pre_post_data('Lmc_opsin', 'lmc_ch_1_3094_rec1', 'cid134') \n",
    "\n",
    "#the pre and post stim data is in test[0] and test[1] respectively  \n",
    "test[0].keys()\n"
   ]
  },
  {
   "cell_type": "code",
   "execution_count": 11,
   "metadata": {},
   "outputs": [
    {
     "data": {
      "text/plain": [
       "2"
      ]
     },
     "execution_count": 11,
     "metadata": {},
     "output_type": "execute_result"
    }
   ],
   "source": [
    "len(test)"
   ]
  },
  {
   "cell_type": "code",
   "execution_count": null,
   "metadata": {},
   "outputs": [],
   "source": []
  }
 ],
 "metadata": {
  "language_info": {
   "name": "python"
  },
  "orig_nbformat": 4
 },
 "nbformat": 4,
 "nbformat_minor": 2
}

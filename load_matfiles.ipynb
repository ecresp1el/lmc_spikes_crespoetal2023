{
 "cells": [
  {
   "cell_type": "code",
   "execution_count": 1,
   "metadata": {},
   "outputs": [
    {
     "name": "stdout",
     "output_type": "stream",
     "text": [
      "dict_keys(['Lmc_noopsin', 'Lmc_opsin'])\n",
      "For the group Lmc_noopsin there are 2 mice\n",
      "For the recording lmc_noch_1_3096_rec1 there are 5 cells\n",
      "For the recording lmc_noch_1_3096_rec2 there are 4 cells\n",
      "For the group Lmc_opsin there are 3 mice\n",
      "For the recording lmc_ch_1_3094_rec1 there are 7 cells\n",
      "For the recording lmc_ch_1_3094_rec2 there are 3 cells\n",
      "For the recording lmc_ch_2_3093_rec1 there are 4 cells\n"
     ]
    },
    {
     "data": {
      "text/plain": [
       "dict_keys(['Lmc_noopsin', 'Lmc_opsin'])"
      ]
     },
     "execution_count": 1,
     "metadata": {},
     "output_type": "execute_result"
    }
   ],
   "source": [
    "from Extract_ephys_from_struct import ExtractEphysData, calculate_mean_responses, ResponseDistributionPlotter\n",
    "\n",
    "#from plotting_functions import plot_spike_distribution_boxplots, plot_spike_distribution, plot_psth, plot_raster\n",
    "\n",
    "#now test the class\n",
    "#initialize the class\n",
    "EED = ExtractEphysData('/Users/cresp1el/Documents/MATLAB/lmc_20ms_data.mat')\n",
    "\n",
    "#test the methods of the class\n",
    "EED.load_matfiles_printdata()\n",
    "\n",
    "#test the extract_ephys_data method\n",
    "# EED.extract_ephys_data('Lmc_opsin', 'lmc_ch_1_3094_rec1', 'cid134')\n",
    "\n",
    "#what are the group names?\n",
    "\n",
    "EED.group_names"
   ]
  },
  {
   "cell_type": "code",
   "execution_count": 2,
   "metadata": {},
   "outputs": [],
   "source": [
    "test = calculate_mean_responses(EED)"
   ]
  },
  {
   "cell_type": "code",
   "execution_count": 3,
   "metadata": {},
   "outputs": [
    {
     "name": "stdout",
     "output_type": "stream",
     "text": [
      "dict_keys(['Lmc_noopsin', 'Lmc_opsin'])\n",
      "dict_keys(['Pre', 'Post'])\n",
      "[{'Recording': 'lmc_ch_1_3094_rec1', 'CellID': 'cid134', 'Pre_Zero_early': 0.0975609756097561, 'Pre_Zero_late': 1.991869918699187, 'Pre_Low_early': 0.13846153846153847, 'Pre_Low_late': 1.4, 'Pre_Mid_early': 0.17777777777777778, 'Pre_Mid_late': 1.962962962962963, 'Pre_Max_early': 0.15789473684210525, 'Pre_Max_late': 1.7982456140350878, 'Pre_Pooled_early': 0.158311345646438, 'Pre_Pooled_late': 1.720316622691293, 'Post_Zero_early': 0.12962962962962962, 'Post_Zero_late': 1.5277777777777777, 'Post_Low_early': 0.06779661016949153, 'Post_Low_late': 1.652542372881356, 'Post_Mid_early': 0.03731343283582089, 'Post_Mid_late': 1.8208955223880596, 'Post_Max_early': 0.12903225806451613, 'Post_Max_late': 1.653225806451613, 'Post_Pooled_early': 0.07712765957446809, 'Post_Pooled_late': 1.7127659574468086}, {'Recording': 'lmc_ch_1_3094_rec1', 'CellID': 'cid145', 'Pre_Zero_early': 0.37398373983739835, 'Pre_Zero_late': 5.5528455284552845, 'Pre_Low_early': 0.34615384615384615, 'Pre_Low_late': 5.030769230769231, 'Pre_Mid_early': 0.4444444444444444, 'Pre_Mid_late': 4.807407407407408, 'Pre_Max_early': 0.4824561403508772, 'Pre_Max_late': 4.666666666666667, 'Pre_Pooled_early': 0.42216358839050133, 'Pre_Pooled_late': 4.841688654353562, 'Post_Zero_early': 0.39814814814814814, 'Post_Zero_late': 3.5277777777777777, 'Post_Low_early': 0.2542372881355932, 'Post_Low_late': 5.110169491525424, 'Post_Mid_early': 0.19402985074626866, 'Post_Mid_late': 4.955223880597015, 'Post_Max_early': 0.25806451612903225, 'Post_Max_late': 4.82258064516129, 'Post_Pooled_early': 0.23404255319148937, 'Post_Pooled_late': 4.960106382978723}, {'Recording': 'lmc_ch_1_3094_rec1', 'CellID': 'cid148', 'Pre_Zero_early': 0.12195121951219512, 'Pre_Zero_late': 1.3089430894308942, 'Pre_Low_early': 0.1, 'Pre_Low_late': 1.176923076923077, 'Pre_Mid_early': 0.02962962962962963, 'Pre_Mid_late': 0.6962962962962963, 'Pre_Max_early': 0.07894736842105263, 'Pre_Max_late': 0.7105263157894737, 'Pre_Pooled_early': 0.06860158311345646, 'Pre_Pooled_late': 0.8654353562005277, 'Post_Zero_early': 0.1111111111111111, 'Post_Zero_late': 1.1111111111111112, 'Post_Low_early': 0.06779661016949153, 'Post_Low_late': 1.4067796610169492, 'Post_Mid_early': 0.03731343283582089, 'Post_Mid_late': 1.626865671641791, 'Post_Max_early': 0.08064516129032258, 'Post_Max_late': 1.7580645161290323, 'Post_Pooled_early': 0.061170212765957445, 'Post_Pooled_late': 1.601063829787234}, {'Recording': 'lmc_ch_1_3094_rec1', 'CellID': 'cid156', 'Pre_Zero_early': 0.0, 'Pre_Zero_late': 0.04065040650406504, 'Pre_Low_early': 0.0, 'Pre_Low_late': 0.12307692307692308, 'Pre_Mid_early': 0.007407407407407408, 'Pre_Mid_late': 0.044444444444444446, 'Pre_Max_early': 0.008771929824561403, 'Pre_Max_late': 0.07894736842105263, 'Pre_Pooled_early': 0.005277044854881266, 'Pre_Pooled_late': 0.08179419525065963, 'Post_Zero_early': 0.027777777777777776, 'Post_Zero_late': 0.2037037037037037, 'Post_Low_early': 0.0, 'Post_Low_late': 0.4067796610169492, 'Post_Mid_early': 0.0, 'Post_Mid_late': 0.44029850746268656, 'Post_Max_early': 0.008064516129032258, 'Post_Max_late': 0.3709677419354839, 'Post_Pooled_early': 0.0026595744680851063, 'Post_Pooled_late': 0.40691489361702127}, {'Recording': 'lmc_ch_1_3094_rec1', 'CellID': 'cid238', 'Pre_Zero_early': 0.0, 'Pre_Zero_late': 0.0, 'Pre_Low_early': 0.0, 'Pre_Low_late': 0.023076923076923078, 'Pre_Mid_early': 0.007407407407407408, 'Pre_Mid_late': 0.007407407407407408, 'Pre_Max_early': 0.0, 'Pre_Max_late': 0.008771929824561403, 'Pre_Pooled_early': 0.002638522427440633, 'Pre_Pooled_late': 0.013192612137203167, 'Post_Zero_early': 0.046296296296296294, 'Post_Zero_late': 0.3055555555555556, 'Post_Low_early': 0.00847457627118644, 'Post_Low_late': 0.2711864406779661, 'Post_Mid_early': 0.007462686567164179, 'Post_Mid_late': 0.35074626865671643, 'Post_Max_early': 0.016129032258064516, 'Post_Max_late': 0.3064516129032258, 'Post_Pooled_early': 0.010638297872340425, 'Post_Pooled_late': 0.31117021276595747}, {'Recording': 'lmc_ch_1_3094_rec1', 'CellID': 'cid52', 'Pre_Zero_early': 0.04065040650406504, 'Pre_Zero_late': 0.6341463414634146, 'Pre_Low_early': 0.046153846153846156, 'Pre_Low_late': 0.7615384615384615, 'Pre_Mid_early': 0.05925925925925926, 'Pre_Mid_late': 0.45185185185185184, 'Pre_Max_early': 0.06140350877192982, 'Pre_Max_late': 0.5877192982456141, 'Pre_Pooled_early': 0.055408970976253295, 'Pre_Pooled_late': 0.5989445910290238, 'Post_Zero_early': 0.2037037037037037, 'Post_Zero_late': 2.2222222222222223, 'Post_Low_early': 0.1694915254237288, 'Post_Low_late': 3.0254237288135593, 'Post_Mid_early': 0.16417910447761194, 'Post_Mid_late': 3.014925373134328, 'Post_Max_early': 0.12096774193548387, 'Post_Max_late': 2.8951612903225805, 'Post_Pooled_early': 0.15159574468085107, 'Post_Pooled_late': 2.978723404255319}, {'Recording': 'lmc_ch_1_3094_rec1', 'CellID': 'cid91', 'Pre_Zero_early': 0.0, 'Pre_Zero_late': 0.13821138211382114, 'Pre_Low_early': 0.007692307692307693, 'Pre_Low_late': 0.06923076923076923, 'Pre_Mid_early': 0.0, 'Pre_Mid_late': 0.05925925925925926, 'Pre_Max_early': 0.0, 'Pre_Max_late': 0.07017543859649122, 'Pre_Pooled_early': 0.002638522427440633, 'Pre_Pooled_late': 0.06596306068601583, 'Post_Zero_early': 0.018518518518518517, 'Post_Zero_late': 0.37962962962962965, 'Post_Low_early': 0.03389830508474576, 'Post_Low_late': 0.3983050847457627, 'Post_Mid_early': 0.014925373134328358, 'Post_Mid_late': 0.5447761194029851, 'Post_Max_early': 0.03225806451612903, 'Post_Max_late': 0.6370967741935484, 'Post_Pooled_early': 0.026595744680851064, 'Post_Pooled_late': 0.5292553191489362}, {'Recording': 'lmc_ch_1_3094_rec2', 'CellID': 'cid113', 'Pre_Zero_early': 0.0, 'Pre_Zero_late': 0.20567375886524822, 'Pre_Low_early': 0.023076923076923078, 'Pre_Low_late': 0.2846153846153846, 'Pre_Mid_early': 0.05357142857142857, 'Pre_Mid_late': 0.39285714285714285, 'Pre_Max_early': 0.016, 'Pre_Max_late': 0.36, 'Pre_Pooled_early': 0.02997275204359673, 'Pre_Pooled_late': 0.34332425068119893, 'Post_Zero_early': 0.01834862385321101, 'Post_Zero_late': 0.43119266055045874, 'Post_Low_early': 0.06666666666666667, 'Post_Low_late': 0.7666666666666667, 'Post_Mid_early': 0.049586776859504134, 'Post_Mid_late': 0.8347107438016529, 'Post_Max_early': 0.02127659574468085, 'Post_Max_late': 0.9645390070921985, 'Post_Pooled_early': 0.04450261780104712, 'Post_Pooled_late': 0.8612565445026178}, {'Recording': 'lmc_ch_1_3094_rec2', 'CellID': 'cid79', 'Pre_Zero_early': 0.0070921985815602835, 'Pre_Zero_late': 0.028368794326241134, 'Pre_Low_early': 0.0, 'Pre_Low_late': 0.023076923076923078, 'Pre_Mid_early': 0.0, 'Pre_Mid_late': 0.017857142857142856, 'Pre_Max_early': 0.008, 'Pre_Max_late': 0.016, 'Pre_Pooled_early': 0.0027247956403269754, 'Pre_Pooled_late': 0.01907356948228883, 'Post_Zero_early': 0.009174311926605505, 'Post_Zero_late': 0.01834862385321101, 'Post_Low_early': 0.0, 'Post_Low_late': 0.03333333333333333, 'Post_Mid_early': 0.0, 'Post_Mid_late': 0.008264462809917356, 'Post_Max_early': 0.0, 'Post_Max_late': 0.014184397163120567, 'Post_Pooled_early': 0.0, 'Post_Pooled_late': 0.01832460732984293}, {'Recording': 'lmc_ch_1_3094_rec2', 'CellID': 'cid82', 'Pre_Zero_early': 0.0070921985815602835, 'Pre_Zero_late': 0.1702127659574468, 'Pre_Low_early': 0.015384615384615385, 'Pre_Low_late': 0.3, 'Pre_Mid_early': 0.026785714285714284, 'Pre_Mid_late': 0.39285714285714285, 'Pre_Max_early': 0.016, 'Pre_Max_late': 0.344, 'Pre_Pooled_early': 0.01907356948228883, 'Pre_Pooled_late': 0.34332425068119893, 'Post_Zero_early': 0.01834862385321101, 'Post_Zero_late': 0.44036697247706424, 'Post_Low_early': 0.06666666666666667, 'Post_Low_late': 0.7583333333333333, 'Post_Mid_early': 0.05785123966942149, 'Post_Mid_late': 0.9090909090909091, 'Post_Max_early': 0.028368794326241134, 'Post_Max_late': 1.0141843971631206, 'Post_Pooled_early': 0.049738219895287955, 'Post_Pooled_late': 0.900523560209424}, {'Recording': 'lmc_ch_2_3093_rec1', 'CellID': 'cid102', 'Pre_Zero_early': 0.008064516129032258, 'Pre_Zero_late': 0.08064516129032258, 'Pre_Low_early': 0.08208955223880597, 'Pre_Low_late': 0.9402985074626866, 'Pre_Mid_early': 0.07207207207207207, 'Pre_Mid_late': 0.22522522522522523, 'Pre_Max_early': 0.16666666666666666, 'Pre_Max_late': 0.2971014492753623, 'Pre_Pooled_early': 0.10966057441253264, 'Pre_Pooled_late': 0.5013054830287206, 'Post_Zero_early': 0.017543859649122806, 'Post_Zero_late': 0.24561403508771928, 'Post_Low_early': 0.047619047619047616, 'Post_Low_late': 0.4126984126984127, 'Post_Mid_early': 0.2, 'Post_Mid_late': 0.5, 'Post_Max_early': 0.3282442748091603, 'Post_Max_late': 0.31297709923664124, 'Post_Pooled_early': 0.19363395225464192, 'Post_Pooled_late': 0.40583554376657827}, {'Recording': 'lmc_ch_2_3093_rec1', 'CellID': 'cid39', 'Pre_Zero_early': 0.14516129032258066, 'Pre_Zero_late': 1.685483870967742, 'Pre_Low_early': 0.44029850746268656, 'Pre_Low_late': 2.171641791044776, 'Pre_Mid_early': 0.7567567567567568, 'Pre_Mid_late': 2.954954954954955, 'Pre_Max_early': 0.7318840579710145, 'Pre_Max_late': 2.528985507246377, 'Pre_Pooled_early': 0.6370757180156658, 'Pre_Pooled_late': 2.5274151436031334, 'Post_Zero_early': 0.09649122807017543, 'Post_Zero_late': 1.5789473684210527, 'Post_Low_early': 0.35714285714285715, 'Post_Low_late': 2.3333333333333335, 'Post_Mid_early': 0.5333333333333333, 'Post_Mid_late': 2.591666666666667, 'Post_Max_early': 0.5572519083969466, 'Post_Max_late': 2.9083969465648853, 'Post_Pooled_early': 0.4827586206896552, 'Post_Pooled_late': 2.6153846153846154}, {'Recording': 'lmc_ch_2_3093_rec1', 'CellID': 'cid81', 'Pre_Zero_early': 0.6370967741935484, 'Pre_Zero_late': 7.508064516129032, 'Pre_Low_early': 2.3507462686567164, 'Pre_Low_late': 10.164179104477611, 'Pre_Mid_early': 3.945945945945946, 'Pre_Mid_late': 13.81981981981982, 'Pre_Max_early': 4.333333333333333, 'Pre_Max_late': 13.456521739130435, 'Pre_Pooled_early': 3.5274151436031334, 'Pre_Pooled_late': 12.409921671018276, 'Post_Zero_early': 0.8070175438596491, 'Post_Zero_late': 8.368421052631579, 'Post_Low_early': 2.619047619047619, 'Post_Low_late': 15.468253968253968, 'Post_Mid_early': 3.9166666666666665, 'Post_Mid_late': 16.683333333333334, 'Post_Max_early': 4.076335877862595, 'Post_Max_late': 17.625954198473284, 'Post_Pooled_early': 3.5384615384615383, 'Post_Pooled_late': 16.604774535809018}, {'Recording': 'lmc_ch_2_3093_rec1', 'CellID': 'cid93', 'Pre_Zero_early': 0.1532258064516129, 'Pre_Zero_late': 1.7580645161290323, 'Pre_Low_early': 0.26865671641791045, 'Pre_Low_late': 1.955223880597015, 'Pre_Mid_early': 0.3783783783783784, 'Pre_Mid_late': 1.6216216216216217, 'Pre_Max_early': 0.427536231884058, 'Pre_Max_late': 1.1304347826086956, 'Pre_Pooled_early': 0.3577023498694517, 'Pre_Pooled_late': 1.5613577023498695, 'Post_Zero_early': 0.17543859649122806, 'Post_Zero_late': 0.7543859649122807, 'Post_Low_early': 0.15873015873015872, 'Post_Low_late': 0.6746031746031746, 'Post_Mid_early': 0.44166666666666665, 'Post_Mid_late': 1.1, 'Post_Max_early': 0.549618320610687, 'Post_Max_late': 1.1145038167938932, 'Post_Pooled_early': 0.38461538461538464, 'Post_Pooled_late': 0.9628647214854111}]\n"
     ]
    }
   ],
   "source": [
    "print(test.keys()) #these are the group names\n",
    "print(test['Lmc_opsin'].keys()) #these are the pre and post epoch names for each group\n",
    "print(test['Lmc_opsin']['Pre']) #these are the cell names for each epoch"
   ]
  },
  {
   "cell_type": "code",
   "execution_count": null,
   "metadata": {},
   "outputs": [],
   "source": [
    "# Assuming `mean_responses_data` is the dictionary obtained from the calculate_mean_responses function\n",
    "plotter = ResponseDistributionPlotter(test)\n",
    "plotter.plot_distribution('Lmc_opsin', 'Pre', 'Pooled', bins=100, overlay=True, phase='early') \n",
    "plotter.plot_distribution('Lmc_opsin', 'Post', 'Pooled', bins=100, overlay=True, phase='early')\n",
    "\n",
    "# Assuming `mean_responses_data` is the dictionary obtained from the calculate_mean_responses function\n",
    "plotter = ResponseDistributionPlotter(test)\n",
    "plotter.plot_distribution('Lmc_opsin', 'Pre', 'Pooled', bins=100, overlay=True, phase='late') \n",
    "plotter.plot_distribution('Lmc_opsin', 'Post', 'Pooled', bins=100, overlay=True, phase='late')"
   ]
  },
  {
   "cell_type": "code",
   "execution_count": null,
   "metadata": {},
   "outputs": [],
   "source": [
    "\n",
    "# plotter.plot_distribution('Lmc_opsin', epoch=None, stim_level='Zero', overlay=True)\n",
    "#plot the distribution for pre and post stim levels separately\n",
    "plotter.plot_distribution('Lmc_opsin', epoch='Pre', stim_level='Zero', overlay=True)\n",
    "plotter.plot_distribution('Lmc_opsin', epoch='Post', stim_level='Zero', overlay=True)\n",
    "\n",
    "# Plotting 'Pre' and 'Post' distributions on top of each other by setting overlay=True \n",
    "#loop over the 'Zero', 'Low', 'Mid', 'Max', or 'Pooled' stim levels to plot the distributions for each stim level\n",
    "for stim_level in ['Zero', 'Low', 'Mid', 'Max', 'Pooled']: \n",
    "    plotter.plot_distribution('Lmc_opsin', epoch=None, stim_level=stim_level, overlay=True)\n",
    "    \n",
    "    "
   ]
  },
  {
   "cell_type": "code",
   "execution_count": null,
   "metadata": {},
   "outputs": [],
   "source": [
    "#plot the pre and post for the low separated \n",
    "plotter.plot_distribution('Lmc_opsin', epoch='Pre', stim_level='Low', bins=100)\n",
    "plotter.plot_distribution('Lmc_opsin', epoch='Post', stim_level='Low', bins=100)\n",
    "\n",
    "#plot the pre and post for the high separated\n",
    "plotter.plot_distribution('Lmc_opsin', epoch='Pre', stim_level='Max', bins=100)\n",
    "plotter.plot_distribution('Lmc_opsin', epoch='Post', stim_level='Max', bins=100)\n"
   ]
  },
  {
   "cell_type": "code",
   "execution_count": null,
   "metadata": {},
   "outputs": [],
   "source": [
    "import matplotlib.pyplot as plt\n",
    "from collections import defaultdict\n",
    "\n",
    "def plot_box_and_whisker(data, group_name, stim_levels=['Zero', 'Low', 'Mid', 'Max', 'Pooled'], epoch='both', overlay=False):\n",
    "    \"\"\"\n",
    "    Plots a box and whisker plot of the mean responses for the specified group and stimulation levels.\n",
    "\n",
    "    Parameters:\n",
    "    - data (dict): The data dictionary containing the mean responses.\n",
    "    - group_name (str): The name of the group to plot data for.\n",
    "    - stim_levels (list or str): The stimulation levels to plot data for (e.g., ['Zero', 'Low', 'Mid', 'Max', 'Pooled'] or 'Zero'). Default is all levels.\n",
    "    - epoch (str): The epoch to plot data for ('Pre', 'Post', or 'both'). Default is 'both'.\n",
    "    - overlay (bool): Whether to overlay the 'Pre' and 'Post' data on a single plot. Default is False.\n",
    "    \"\"\"\n",
    "\n",
    "    if isinstance(stim_levels, str):\n",
    "        stim_levels = [stim_levels]\n",
    "\n",
    "    # Get the mean responses for the specified group\n",
    "    group_data = data[group_name]\n",
    "\n",
    "    # Get the data to plot\n",
    "    data_to_plot = defaultdict(list)\n",
    "    epochs_to_plot = ['Pre', 'Post'] if epoch == 'both' else [epoch]\n",
    "    for epoch in epochs_to_plot:\n",
    "        for stim_level in stim_levels:\n",
    "            stim_data = [unit_data[f'{epoch}_{stim_level}'] for unit_data in group_data[epoch]]\n",
    "            data_to_plot[epoch].append(stim_data)\n",
    "\n",
    "    # Create a new figure\n",
    "    plt.figure()\n",
    "\n",
    "    # Create a box plot for each epoch\n",
    "    colors = {'Pre': 'grey', 'Post': 'blue'}\n",
    "    for i, (epoch, stim_data) in enumerate(data_to_plot.items()):\n",
    "        position = range(i * (len(stim_levels) + 1) + 1, (i + 1) * (len(stim_levels) + 1))\n",
    "        bp = plt.boxplot(stim_data, positions=position, labels=stim_levels if i == 0 else [''] * len(stim_levels), patch_artist=True)\n",
    "        \n",
    "        # Set colors\n",
    "        for box in bp['boxes']:\n",
    "            box.set_facecolor(colors[epoch])\n",
    "        \n",
    "    # Set the plot title and labels\n",
    "    plt.title(f'{group_name} Mean Responses')\n",
    "    plt.ylabel('Mean Response')\n",
    "    plt.xlabel('Stimulation Level')\n",
    "    \n",
    "    # Adding epoch labels\n",
    "    if epoch == 'both':\n",
    "        mid_point = len(stim_levels) / 2\n",
    "        plt.text(mid_point, plt.gca().get_ylim()[1], 'Pre', ha='center', va='center', fontsize=12, fontweight='bold')\n",
    "        plt.text(len(stim_levels) + 1 + mid_point, plt.gca().get_ylim()[1], 'Post', ha='center', va='center', fontsize=12, fontweight='bold')\n",
    "\n",
    "    # Show the plot\n",
    "    if not overlay:\n",
    "        plt.show()\n",
    "\n",
    "# Usage example:\n",
    "# Assuming `data_dict` is your data dictionary obtained from `calculate_mean_responses` function\n",
    "plot_box_and_whisker(test, 'Lmc_opsin', 'Zero', 'both')\n",
    "\n",
    "\n",
    "\n"
   ]
  },
  {
   "cell_type": "code",
   "execution_count": null,
   "metadata": {},
   "outputs": [],
   "source": [
    "import matplotlib.pyplot as plt\n",
    "from collections import defaultdict\n",
    "\n",
    "def plot_box_and_whisker(data, group_name, stim_levels=['Zero', 'Low', 'Mid', 'Max', 'Pooled'], epoch='both', overlay=False):\n",
    "    \"\"\"\n",
    "    Plots a box and whisker plot of the mean responses for the specified group and stimulation levels.\n",
    "\n",
    "    Parameters:\n",
    "    - data (dict): The data dictionary containing the mean responses.\n",
    "    - group_name (str): The name of the group to plot data for.\n",
    "    - stim_levels (list or str): The stimulation levels to plot data for (e.g., ['Zero', 'Low', 'Mid', 'Max', 'Pooled'] or 'Zero'). Default is all levels.\n",
    "    - epoch (str): The epoch to plot data for ('Pre', 'Post', or 'both'). Default is 'both'.\n",
    "    - overlay (bool): Whether to overlay the 'Pre' and 'Post' data on a single plot. Default is False.\n",
    "    \"\"\"\n",
    "\n",
    "    if isinstance(stim_levels, str):\n",
    "        stim_levels = [stim_levels]\n",
    "\n",
    "    # Get the mean responses for the specified group\n",
    "    group_data = data[group_name]\n",
    "\n",
    "    # Get the data to plot\n",
    "    data_to_plot = defaultdict(list)\n",
    "    epochs_to_plot = ['Pre', 'Post'] if epoch == 'both' else [epoch]\n",
    "    for epoch in epochs_to_plot:\n",
    "        for stim_level in stim_levels:\n",
    "            stim_data = [unit_data[f'{epoch}_{stim_level}'] for unit_data in group_data[epoch]]\n",
    "            data_to_plot[epoch].append(stim_data)\n",
    "\n",
    "    # Create a new figure\n",
    "    plt.figure()\n",
    "\n",
    "    # Create a box plot for each epoch\n",
    "    colors = {'Pre': 'grey', 'Post': 'blue'}\n",
    "    for i, (epoch, stim_data) in enumerate(data_to_plot.items()):\n",
    "        position = range(i * (len(stim_levels) + 1) + 1, (i + 1) * (len(stim_levels) + 1))\n",
    "        labels = [f'{epoch}{level}' for level in stim_levels]\n",
    "        bp = plt.boxplot(stim_data, positions=position, labels=labels, patch_artist=True)\n",
    "        \n",
    "        # Set colors\n",
    "        for box in bp['boxes']:\n",
    "            box.set_facecolor(colors[epoch])\n",
    "        \n",
    "    # Set the plot title and labels\n",
    "    plt.title(f'{group_name} Mean Responses')\n",
    "    plt.ylabel('Mean Response')\n",
    "    plt.xlabel('Stimulation Level Epoch')\n",
    "    \n",
    "    # Show the plot\n",
    "    if not overlay:\n",
    "        plt.show()\n",
    "\n",
    "\n",
    "\n",
    "# Usage example:\n",
    "\n",
    "# Assuming `data_dict` is your data dictionary obtained from `calculate_mean_responses` function\n",
    "plot_box_and_whisker(test, 'Lmc_opsin', 'Max', 'both')\n"
   ]
  },
  {
   "cell_type": "code",
   "execution_count": null,
   "metadata": {},
   "outputs": [],
   "source": [
    "import matplotlib.pyplot as plt\n",
    "from collections import defaultdict\n",
    "\n",
    "def plot_box_and_whisker(data, group_name, stim_levels=['Zero', 'Low', 'Mid', 'Max', 'Pooled'], epoch='both', overlay=False, plot_hist=False):\n",
    "    \"\"\"\n",
    "    Plots a box and whisker plot of the mean responses for the specified group and stimulation levels.\n",
    "\n",
    "    Parameters:\n",
    "    - data (dict): The data dictionary containing the mean responses.\n",
    "    - group_name (str): The name of the group to plot data for.\n",
    "    - stim_levels (list or str): The stimulation levels to plot data for (e.g., ['Zero', 'Low', 'Mid', 'Max', 'Pooled'] or 'Zero'). Default is all levels.\n",
    "    - epoch (str): The epoch to plot data for ('Pre', 'Post', or 'both'). Default is 'both'.\n",
    "    - overlay (bool): Whether to overlay the 'Pre' and 'Post' data on a single plot. Default is False.\n",
    "    - plot_hist (bool): Whether to plot the histogram distribution. Default is False.\n",
    "    \"\"\"\n",
    "\n",
    "    if isinstance(stim_levels, str):\n",
    "        stim_levels = [stim_levels]\n",
    "\n",
    "    # Get the mean responses for the specified group\n",
    "    group_data = data[group_name]\n",
    "\n",
    "    # Get the data to plot\n",
    "    data_to_plot = defaultdict(list)\n",
    "    epochs_to_plot = ['Pre', 'Post'] if epoch == 'both' else [epoch]\n",
    "    for epoch in epochs_to_plot:\n",
    "        for stim_level in stim_levels:\n",
    "            stim_data = [unit_data[f'{epoch}_{stim_level}'] for unit_data in group_data[epoch]]\n",
    "            data_to_plot[epoch].append(stim_data)\n",
    "\n",
    "    # Create a new figure\n",
    "    plt.figure()\n",
    "\n",
    "    # Create a box plot for each epoch\n",
    "    colors = {'Pre': 'grey', 'Post': 'blue'}\n",
    "    for i, (epoch, stim_data) in enumerate(data_to_plot.items()):\n",
    "        position = range(i * (len(stim_levels) + 1) + 1, (i + 1) * (len(stim_levels) + 1))\n",
    "        labels = [f'{epoch}_{level}' for level in stim_levels]\n",
    "        bp = plt.boxplot(stim_data, positions=position, labels=labels, patch_artist=True)\n",
    "        \n",
    "        # Set colors\n",
    "        for box in bp['boxes']:\n",
    "            box.set_facecolor(colors[epoch])\n",
    "        \n",
    "    # Set the plot title and labels\n",
    "    plt.title(f'{group_name} Mean Responses')\n",
    "    plt.ylabel('Mean Response')\n",
    "    plt.xlabel('Stimulation Level Epoch')\n",
    "    \n",
    "    # Rotate x-axis labels for better visibility\n",
    "    plt.xticks(rotation=45)\n",
    "    \n",
    "    # Plot the histogram distribution if specified\n",
    "    if plot_hist:\n",
    "        plt.figure()\n",
    "        for epoch in epochs_to_plot:\n",
    "            for stim_level in stim_levels:\n",
    "                stim_data = [unit_data[f'{epoch}_{stim_level}'] for unit_data in group_data[epoch]]\n",
    "                plt.hist(stim_data, alpha=0.5, label=f'{epoch}_{stim_level}', color=colors[epoch], histtype='step')\n",
    "        plt.xlabel('Mean Response')\n",
    "        plt.ylabel('Frequency')\n",
    "        plt.title(f'{group_name} Response Distributions')\n",
    "        plt.legend()\n",
    "    \n",
    "    # Show the plot\n",
    "    if not overlay:\n",
    "        plt.show()\n",
    "\n",
    "\n",
    "# Usage example:\n",
    "# Assuming `data_dict` is your data dictionary obtained from `calculate_mean_responses` function\n",
    "plot_box_and_whisker(test, 'Lmc_opsin', 'Zero', 'both', plot_hist=True)\n",
    "\n",
    "# Assuming `data_dict` is your data dictionary obtained from your data processing\n",
    "plot_box_and_whisker(test, group_name='Lmc_opsin')\n"
   ]
  },
  {
   "cell_type": "code",
   "execution_count": null,
   "metadata": {},
   "outputs": [],
   "source": [
    "# Example 1: Basic Usage with Default Parameters\n",
    "plot_box_and_whisker(test, group_name='Lmc_opsin')\n",
    "\n",
    "#Example 2: Plotting for a Single Epoch with Histograms\n",
    "plot_box_and_whisker(test, group_name='Lmc_opsin', epoch='Pre', plot_hist=True)\n",
    "\n",
    "#Example 3: Plotting for Specific Stimulation Levels \n",
    "plot_box_and_whisker(test, group_name='Lmc_opsin', stim_levels=['Zero', 'Max'], plot_hist=True)\n",
    "\n",
    "#Example 4: Overlaying 'Pre' and 'Post' Data on a Single Plot\n",
    "plot_box_and_whisker(test, group_name='Lmc_opsin', overlay=True)\n",
    "\n",
    "# Example 5: Plotting for a Single Stimulation Level\n",
    "plot_box_and_whisker(test, group_name='Lmc_opsin', stim_levels='Zero', plot_hist=True)"
   ]
  },
  {
   "cell_type": "code",
   "execution_count": null,
   "metadata": {},
   "outputs": [],
   "source": [
    "from scipy import stats\n",
    "import numpy as np\n",
    "import matplotlib.pyplot as plt\n",
    "\n",
    "def plot_regression(data, stimulation='Pooled', overlay=True, log_scale=False):\n",
    "    \n",
    "    pre_early = []\n",
    "    pre_late = []\n",
    "    post_early = []\n",
    "    post_late = []\n",
    "\n",
    "    for group in data.values():\n",
    "        for epoch_data in group.values():\n",
    "            for record in epoch_data:\n",
    "                pre_early.append(record[f'Pre_{stimulation}_early'])\n",
    "                pre_late.append(record[f'Pre_{stimulation}_late'])\n",
    "                post_early.append(record[f'Post_{stimulation}_early'])\n",
    "                post_late.append(record[f'Post_{stimulation}_late'])\n",
    "\n",
    "    fig, ax = plt.subplots(1, 2 if not overlay else 1, figsize=(10, 5))\n",
    "\n",
    "    if log_scale:\n",
    "        pre_early = [np.log(x+1) for x in pre_early]\n",
    "        pre_late = [np.log(x+1) for x in pre_late]\n",
    "        post_early = [np.log(x+1) for x in post_early]\n",
    "        post_late = [np.log(x+1) for x in post_late]\n",
    "\n",
    "    if overlay:\n",
    "        ax.scatter(pre_early, pre_late, color='grey', alpha=0.5, label='Pre')\n",
    "        ax.scatter(post_early, post_late, color='blue', alpha=0.5, label='Post')\n",
    "        \n",
    "        # Adding simple linear regression lines\n",
    "        slope, intercept, _, _, _ = stats.linregress(pre_early, pre_late)\n",
    "        ax.plot(pre_early, np.array(pre_early)*slope + intercept, color='grey')\n",
    "        \n",
    "        slope, intercept, _, _, _ = stats.linregress(post_early, post_late)\n",
    "        ax.plot(post_early, np.array(post_early)*slope + intercept, color='blue')\n",
    "        \n",
    "        ax.set_xlabel('Early Phase')\n",
    "        ax.set_ylabel('Late Phase')\n",
    "    else:\n",
    "        ax[0].scatter(pre_early, pre_late, color='grey', alpha=0.5, label='Pre')\n",
    "        ax[1].scatter(post_early, post_late, color='blue', alpha=0.5, label='Post')\n",
    "        \n",
    "        # Adding simple linear regression lines\n",
    "        slope, intercept, _, _, _ = stats.linregress(pre_early, pre_late)\n",
    "        ax[0].plot(pre_early, np.array(pre_early)*slope + intercept, color='grey')\n",
    "        \n",
    "        slope, intercept, _, _, _ = stats.linregress(post_early, post_late)\n",
    "        ax[1].plot(post_early, np.array(post_early)*slope + intercept, color='blue')\n",
    "        \n",
    "        ax[0].set_xlabel('Early Phase')\n",
    "        ax[0].set_ylabel('Late Phase')\n",
    "        ax[1].set_xlabel('Early Phase')\n",
    "        ax[1].set_ylabel('Late Phase')\n",
    "        \n",
    "        ax[0].legend()\n",
    "\n",
    "    plt.legend()\n",
    "    plt.show()\n",
    "\n",
    "# Example commands to test the function\n",
    "# Replace 'test' with your actual data dictionary\n",
    "plot_regression(test, stimulation='Pooled', overlay=True, log_scale=True)\n",
    "plot_regression(test, stimulation='Pooled', overlay=False, log_scale=True)\n",
    "plot_regression(test, stimulation='Low', overlay=True, log_scale=False)\n"
   ]
  },
  {
   "cell_type": "code",
   "execution_count": null,
   "metadata": {},
   "outputs": [],
   "source": [
    "print(type(test['Lmc_opsin']['Pre'])) #prints the type of the data\n",
    "print(len(test['Lmc_opsin']['Pre'])) #print the number of units in the pre epoch of the Lmc_opsin group\n",
    "print(test['Lmc_opsin']['Pre'][0].keys()) #print the keys of the first element in the list "
   ]
  },
  {
   "cell_type": "code",
   "execution_count": null,
   "metadata": {},
   "outputs": [],
   "source": [
    "print(type(test['Lmc_opsin']['Pre'])) #prints the type of the data\n",
    "print(len(test['Lmc_opsin']['Pre'])) #print the number of units in the pre epoch of the Lmc_opsin group\n",
    "print(test['Lmc_opsin']['Pre'][0].keys()) #print the keys of the first element in the list "
   ]
  },
  {
   "cell_type": "code",
   "execution_count": null,
   "metadata": {},
   "outputs": [],
   "source": [
    "from scipy import stats\n",
    "import numpy as np\n",
    "\n",
    "def calculate_pearson_correlations(EED, group_name=None):\n",
    "    \"\"\"\n",
    "    Calculate the Pearson correlation coefficients using the individual trial responses from both the early and late windows during both the pre and post epochs for each unit.\n",
    "\n",
    "    Parameters:\n",
    "    EED (object): The object containing the electrophysiology data.\n",
    "    group_name (str, optional): The name of the group to analyze. Defaults to None, in which case all groups are analyzed.\n",
    "\n",
    "    Returns:\n",
    "    dict: A dictionary containing the Pearson correlation coefficients for each unit.\n",
    "    \"\"\"\n",
    "    \n",
    "    # Get list of group names\n",
    "    group_names = [group_name] if group_name else EED.group_names\n",
    "    \n",
    "    # Dictionary to store the Pearson correlation coefficients for each group\n",
    "    pearson_correlations = {}\n",
    "    \n",
    "    # Loop through each group\n",
    "    for group in group_names:\n",
    "        recording_names = EED.get_recording_names(group)\n",
    "        \n",
    "        # Dictionary to store the Pearson correlation coefficients for all units in the current group\n",
    "        group_pearson_correlations = {'Pre': [], 'Post': []}\n",
    "        \n",
    "        # Loop through each recording\n",
    "        for recording in recording_names:\n",
    "            cellid_names = EED.get_cellid_names(group, recording)\n",
    "            \n",
    "            # Loop through each cell ID\n",
    "            for cell_id in cellid_names:\n",
    "                # Get the pre and post stim data\n",
    "                data = EED.get_pre_post_data(group, recording, cell_id)\n",
    "                \n",
    "                # Define stimulation levels and pooled stimulation levels\n",
    "                stim_levels = ['Zero', 'Low', 'Mid', 'Max', 'Pooled']\n",
    "                \n",
    "                # Dictionary to store the Pearson correlation coefficients for the current unit\n",
    "                unit_pearson_correlations = {'Recording': recording, 'CellID': cell_id}\n",
    "                \n",
    "                # Loop through each epoch (pre and post) and stimulation level to calculate Pearson correlation coefficients\n",
    "                for epoch in ['Pre', 'Post']: #loop through the pre and post epochs\n",
    "                    for stim_level in stim_levels: #loop through the stim levels\n",
    "                        if stim_level == 'Pooled': #if the stim level is pooled, then use all stim levels\n",
    "                            stim_indices = [1, 2, 3] #indices for the stim levels\n",
    "                        else: #otherwise, use the stim level specified\n",
    "                            stim_indices = [stim_levels.index(stim_level)] #create a list with the index of the stim level\n",
    "                        \n",
    "                        # Get spike trains for the current stimulation level\n",
    "                        spiketrains = np.concatenate([data[epoch]['SpikeTrains_for_PSTHs'][i] for i in stim_indices], axis=0) #list comprehension to get the spike trains for the stim level by looping through the stim indices\n",
    "                        \n",
    "                        # Extract spike data for the early phase (0-50 ms post-stimulus)\n",
    "                        early_phase = spiketrains[:, 500:550]  # Adjust indices as necessary\n",
    "                        \n",
    "                        # Extract spike data for the late phase (100-700 ms post-stimulus)\n",
    "                        late_phase = spiketrains[:, 600:1200]  # Adjust indices as necessary\n",
    "                        \n",
    "                        # Calculate the total number of spikes in each trial during the early and late phases\n",
    "                        early_response = early_phase.sum(axis=1) #sum across the rows which are the trials for the early phase\n",
    "                        late_response = late_phase.sum(axis=1) #sum across the rows which are the trials for the late phase\n",
    "                        \n",
    "                        # Calculate the Pearson correlation coefficient for the early and late responses\n",
    "                        corr, _ = stats.pearsonr(early_response, late_response)\n",
    "                        \n",
    "                        # Add the Pearson correlation coefficient to the dictionary\n",
    "                        unit_pearson_correlations[f'{epoch}_{stim_level}_Pearson_Correlation'] = corr\n",
    "                \n",
    "                # Calculate the difference between post and pre Pearson correlation coefficients for each stimulation level\n",
    "                for stim_level in stim_levels:\n",
    "                    pre_corr = unit_pearson_correlations[f'Pre_{stim_level}_Pearson_Correlation']\n",
    "                    post_corr = unit_pearson_correlations[f'Post_{stim_level}_Pearson_Correlation']\n",
    "                    unit_pearson_correlations[f'{stim_level}_Correlation_Difference'] = post_corr - pre_corr\n",
    "                \n",
    "                # Add the Pearson correlation coefficients for the current unit to the list\n",
    "                group_pearson_correlations['Pre'].append(unit_pearson_correlations)\n",
    "                group_pearson_correlations['Post'].append(unit_pearson_correlations)\n",
    "        \n",
    "        # Add the Pearson correlation coefficients for the current group to the dictionary\n",
    "        pearson_correlations[group] = group_pearson_correlations\n",
    "    \n",
    "    return pearson_correlations\n",
    "\n",
    "\n",
    "# use the function\n",
    "pearson_correlations = calculate_pearson_correlations(EED, group_name=None)"
   ]
  },
  {
   "cell_type": "code",
   "execution_count": null,
   "metadata": {},
   "outputs": [],
   "source": [
    "pearson_correlations.keys() #prints the keys of the dictionary\n",
    "pearson_correlations['Lmc_opsin'].keys() \n",
    "pearson_correlations['Lmc_opsin']['Pre'][0]"
   ]
  },
  {
   "cell_type": "code",
   "execution_count": null,
   "metadata": {},
   "outputs": [],
   "source": [
    "print(list(pearson_correlations.values())[0].keys())"
   ]
  },
  {
   "cell_type": "code",
   "execution_count": null,
   "metadata": {},
   "outputs": [],
   "source": [
    "import matplotlib.pyplot as plt\n",
    "import matplotlib.colors as mcolors\n",
    "import numpy as np\n",
    "\n",
    "def plot_correlation_differences(correlation_data, stimulation_level):\n",
    "    \"\"\"\n",
    "    Plot the correlation differences for all units, ranked from least to most, for a specified stimulation level.\n",
    "\n",
    "    Parameters:\n",
    "    correlation_data (dict): The dictionary containing the Pearson correlation data for each unit.\n",
    "    stimulation_level (str): The stimulation level to plot (one of 'Zero', 'Low', 'Mid', 'Max', 'Pooled').\n",
    "\n",
    "    Returns:\n",
    "    None: The function will plot the data but not return any values.\n",
    "    \"\"\"\n",
    "    \n",
    "    # Loop through each group in the correlation data\n",
    "    for group_name, group_data in correlation_data.items():\n",
    "        \n",
    "        # List to store all units and their correlation differences\n",
    "        all_units_correlation_differences = []\n",
    "\n",
    "        # Loop through each unit in the 'Pre' epoch to get its correlation difference for the specified stimulation level\n",
    "        for unit in group_data['Pre']:\n",
    "            # Get the correlation difference for the current unit and the specified stimulation level\n",
    "            correlation_difference = unit.get(f'{stimulation_level}_Correlation_Difference') # Returns None if the key doesn't exist\n",
    "            \n",
    "            # Skip units with invalid correlation differences\n",
    "            if correlation_difference is None or np.isnan(correlation_difference):\n",
    "                continue\n",
    "            \n",
    "            # Get the cell ID for the current unit\n",
    "            cell_id = unit['CellID']\n",
    "            \n",
    "            # Add the unit's cell ID and correlation difference to the list\n",
    "            all_units_correlation_differences.append((cell_id, correlation_difference))\n",
    "        \n",
    "        # Print the list of units and their correlation differences\n",
    "        print(all_units_correlation_differences)  \n",
    "\n",
    "        # Sort the units by their correlation differences from least to most\n",
    "        sorted_units = sorted(all_units_correlation_differences, key=lambda x: x[1])\n",
    "        \n",
    "        # Get the cell IDs and correlation differences as separate lists\n",
    "        cell_ids, correlation_differences = zip(*sorted_units)\n",
    "        \n",
    "        # Create a bar plot of the correlation differences\n",
    "        plt.figure(figsize=(10, 6))\n",
    "        \n",
    "        # Create a colormap for the bar colors\n",
    "        norm = mcolors.Normalize(vmin=-1, vmax=1)\n",
    "        cmap = plt.cm.get_cmap('coolwarm')\n",
    "        \n",
    "        # Create a bar plot with colors based on the correlation differences\n",
    "        plt.bar(range(len(correlation_differences)), correlation_differences, tick_label=cell_ids, color=cmap(norm(correlation_differences)))\n",
    "        \n",
    "        # Add a colorbar to the plot\n",
    "        sm = plt.cm.ScalarMappable(cmap=cmap, norm=norm)\n",
    "        sm.set_array([])\n",
    "        plt.colorbar(sm, label='Correlation Difference')\n",
    "        \n",
    "        # Add labels and title to the plot\n",
    "        plt.xlabel('Cell ID')\n",
    "        plt.ylabel('Correlation Difference')\n",
    "        plt.title(f'Correlation Differences for {stimulation_level} Stimulation in {group_name} group')\n",
    "        \n",
    "        # Rotate the x-axis labels for better readability\n",
    "        plt.xticks(rotation=90)\n",
    "        \n",
    "        # Display the plot\n",
    "        plt.show()\n",
    "\n",
    "\n",
    "\n",
    "plot_correlation_differences(pearson_correlations, 'Mid')\n",
    "\n",
    "#loop over the stimulation levels\n",
    "for stimulation_level in ['Zero', 'Low', 'Mid', 'Max', 'Pooled']:\n",
    "    plot_correlation_differences(pearson_correlations, stimulation_level)\n"
   ]
  },
  {
   "cell_type": "code",
   "execution_count": null,
   "metadata": {},
   "outputs": [],
   "source": [
    "from scipy import stats\n",
    "import numpy as np\n",
    "\n",
    "def calculate_global_pearson_correlations(EED, group_name=None):\n",
    "    \"\"\"\n",
    "    Calculate the Pearson correlation coefficients using the mean responses from both the early and late windows during both the pre and post epochs for each unit.\n",
    "\n",
    "    Parameters:\n",
    "    EED (object): The object containing the electrophysiology data.\n",
    "    group_name (str, optional): The name of the group to analyze. Defaults to None, in which case all groups are analyzed.\n",
    "\n",
    "    Returns:\n",
    "    dict: A dictionary containing the Pearson correlation coefficients for each unit.\n",
    "    \"\"\"\n",
    "    \n",
    "    group_names = [group_name] if group_name else EED.group_names\n",
    "    \n",
    "    detailed_data = {}\n",
    "    \n",
    "    for group in group_names:\n",
    "        recording_names = EED.get_recording_names(group)\n",
    "        \n",
    "        for recording in recording_names:\n",
    "            cellid_names = EED.get_cellid_names(group, recording)\n",
    "            \n",
    "            for cell_id in cellid_names:\n",
    "                data = EED.get_pre_post_data(group, recording, cell_id)\n",
    "                \n",
    "                stim_levels = ['Zero', 'Low', 'Mid', 'Max', 'Pooled']\n",
    "                \n",
    "                for epoch in ['Pre', 'Post']:\n",
    "                    for stim_level in stim_levels:\n",
    "                        if stim_level == 'Pooled':\n",
    "                            stim_indices = [1, 2, 3]\n",
    "                        else:\n",
    "                            stim_indices = [stim_levels.index(stim_level)]\n",
    "                        \n",
    "                        spiketrains = np.concatenate([data[epoch]['SpikeTrains_for_PSTHs'][i] for i in stim_indices], axis=0)\n",
    "                        \n",
    "                        early_phase = spiketrains[:, 500:550]\n",
    "                        late_phase = spiketrains[:, 600:1200]\n",
    "                        \n",
    "                        early_response = early_phase.sum(axis=1) / early_phase.shape[1]\n",
    "                        late_response = late_phase.sum(axis=1) / late_phase.shape[1]\n",
    "                        \n",
    "                        early_mean = early_response.mean()\n",
    "                        late_mean = late_response.mean()\n",
    "                        \n",
    "                        detailed_data.setdefault(group, {}).setdefault(recording, {}).setdefault(cell_id, {}).setdefault(epoch, {}).setdefault(stim_level, {\n",
    "                            'early_phase': early_phase,\n",
    "                            'late_phase': late_phase,\n",
    "                            'early_response': early_response,\n",
    "                            'late_response': late_response,\n",
    "                            'early_mean': early_mean,\n",
    "                            'late_mean': late_mean\n",
    "                        })\n",
    "    \n",
    "    return detailed_data\n",
    "\n",
    "# use the function\n",
    "# detailed_data = calculate_global_pearson_correlations(EED, group_name=None)\n",
    "\n",
    "\n",
    "# use the function\n",
    "pearson_correlations_global = calculate_global_pearson_correlations(EED, group_name=None)\n"
   ]
  },
  {
   "cell_type": "code",
   "execution_count": null,
   "metadata": {},
   "outputs": [],
   "source": [
    "pearson_correlations_global.keys() #prints the keys of the dictionary"
   ]
  },
  {
   "cell_type": "code",
   "execution_count": null,
   "metadata": {},
   "outputs": [],
   "source": [
    "from scipy import stats\n",
    "\n",
    "def calculate_pearson_correlations(EED, detailed_data):\n",
    "    \"\"\"\n",
    "    Calculate the Pearson correlation coefficients using the mean responses from the detailed data.\n",
    "\n",
    "    Parameters:\n",
    "    EED (object): The object containing the electrophysiology data.\n",
    "    detailed_data (dict): The dictionary containing the detailed data including early and late mean responses.\n",
    "\n",
    "    Returns:\n",
    "    dict: A dictionary containing the Pearson correlation coefficients for each stimulation level and epoch.\n",
    "    dict: A dictionary containing the cell IDs that were removed due to NaN values.\n",
    "    \"\"\"\n",
    "\n",
    "    pearson_correlations = {}\n",
    "    removed_cell_ids = {}\n",
    "\n",
    "    # Get list of group names\n",
    "    group_names = EED.group_names\n",
    "\n",
    "    # Define stimulation levels\n",
    "    stim_levels = ['Zero', 'Low', 'Mid', 'Max', 'Pooled']\n",
    "\n",
    "    # Loop through each group\n",
    "    for group in group_names:\n",
    "        group_correlations = {}\n",
    "\n",
    "        # Loop through each epoch (pre and post) and stimulation level to calculate Pearson correlation coefficients\n",
    "        for epoch in ['Pre', 'Post']: \n",
    "            for stim_level in stim_levels: \n",
    "\n",
    "                # Pool early and late means from all units for the current group, epoch, and stimulation level\n",
    "                early_means = []\n",
    "                late_means = []\n",
    "\n",
    "                recording_names = EED.get_recording_names(group)\n",
    "                for recording in recording_names:\n",
    "                    cellid_names = EED.get_cellid_names(group, recording)\n",
    "                    for cell_id in cellid_names:\n",
    "                        early_mean = detailed_data[group][recording][cell_id][epoch][stim_level]['early_mean']\n",
    "                        late_mean = detailed_data[group][recording][cell_id][epoch][stim_level]['late_mean']\n",
    "\n",
    "                        if not np.isnan(early_mean) and not np.isnan(late_mean):\n",
    "                            early_means.append(early_mean)\n",
    "                            late_means.append(late_mean)\n",
    "                        else:\n",
    "                            removed_cell_ids.setdefault(group, {}).setdefault(recording, {}).setdefault(epoch, {}).setdefault(stim_level, []).append(cell_id)\n",
    "\n",
    "                # Calculate the Pearson correlation coefficient\n",
    "                if early_means and late_means:  # Ensure the lists are not empty\n",
    "                    corr, _ = stats.pearsonr(early_means, late_means)\n",
    "                else:\n",
    "                    corr = None\n",
    "\n",
    "                # Store the Pearson correlation coefficient in the dictionary\n",
    "                group_correlations.setdefault(epoch, {}).setdefault(stim_level, corr)\n",
    "\n",
    "        # Add the Pearson correlation coefficients for the current group to the dictionary\n",
    "        pearson_correlations[group] = group_correlations\n",
    "\n",
    "    return pearson_correlations, removed_cell_ids\n",
    "\n",
    "# Use the function\n",
    "pearson_correlations, removed_cell_ids = calculate_pearson_correlations(EED, pearson_correlations_global)\n"
   ]
  },
  {
   "cell_type": "code",
   "execution_count": null,
   "metadata": {},
   "outputs": [],
   "source": [
    "pearson_correlations['Lmc_opsin']"
   ]
  },
  {
   "cell_type": "code",
   "execution_count": null,
   "metadata": {},
   "outputs": [],
   "source": [
    "import numpy as np\n",
    "import pandas as pd\n",
    "\n",
    "def individual_unit_analysis(EED, group_name=None):\n",
    "    \"\"\"\n",
    "    Perform a comprehensive individual unit analysis including descriptive statistics, \n",
    "    time series analysis, correlation analysis, visualization, response profiling, \n",
    "    and outlier identification.\n",
    "\n",
    "    Parameters:\n",
    "    EED (object): The object containing the electrophysiology data.\n",
    "    group_name (str, optional): The name of the group to analyze. Defaults to None, in which case all groups are analyzed.\n",
    "\n",
    "    Returns:\n",
    "    dict: A dictionary containing the results of all the analyses for each unit.\n",
    "    \"\"\"\n",
    "    \n",
    "    # Get list of group names\n",
    "    group_names = [group_name] if group_name else EED.group_names\n",
    "    \n",
    "    # Dictionary to store the analysis results for each group\n",
    "    analysis_results = {}\n",
    "    \n",
    "    # Loop through each group\n",
    "    for group in group_names:\n",
    "        recording_names = EED.get_recording_names(group)\n",
    "        \n",
    "        # Dictionary to store the analysis results for all units in the current group\n",
    "        group_analysis_results = {}\n",
    "        \n",
    "        # Loop through each recording\n",
    "        for recording in recording_names:\n",
    "            cellid_names = EED.get_cellid_names(group, recording)\n",
    "            \n",
    "            # Loop through each cell ID\n",
    "            for cell_id in cellid_names:\n",
    "                # Get the pre and post stim data\n",
    "                data = EED.get_pre_post_data(group, recording, cell_id)\n",
    "                \n",
    "                # Define stimulation levels and pooled stimulation levels\n",
    "                stim_levels = ['Zero', 'Low', 'Mid', 'Max', 'Pooled']\n",
    "                \n",
    "                # Dictionary to store the analysis results for the current unit\n",
    "                unit_analysis_results = {'Recording': recording, 'CellID': cell_id}\n",
    "                \n",
    "                # Loop through each epoch (pre and post) and stimulation level to calculate descriptive statistics\n",
    "                for epoch in ['Pre', 'Post']: #loop through the pre and post epochs\n",
    "                    for stim_level in stim_levels: #loop through the stim levels\n",
    "                        if stim_level == 'Pooled': #if the stim level is pooled, then use all stim levels\n",
    "                            stim_indices = [1, 2, 3] #indices for the stim levels\n",
    "                        else: #otherwise, use the stim level specified\n",
    "                            stim_indices = [stim_levels.index(stim_level)] #create a list with the index of the stim level\n",
    "                        \n",
    "                        # Get spike trains for the current stimulation level\n",
    "                        spiketrains = np.concatenate([data[epoch]['SpikeTrains_for_PSTHs'][i] for i in stim_indices], axis=0) #list comprehension to get the spike trains for the stim level by looping through the stim indices\n",
    "                        \n",
    "                        # Extract spike data for the early phase (0-50 ms post-stimulus)\n",
    "                        early_phase = spiketrains[:, 500:550]  # Adjust indices as necessary\n",
    "                        \n",
    "                        # Extract spike data for the late phase (100-700 ms post-stimulus)\n",
    "                        late_phase = spiketrains[:, 600:1200]  # Adjust indices as necessary\n",
    "                        \n",
    "                        # Calculate the total number of spikes in each trial during the early and late phases\n",
    "                        early_response = early_phase.sum(axis=1) / early_phase.shape[0] # Normalize by the number of trials which is the number of rows\n",
    "                        late_response = late_phase.sum(axis=1) / late_phase.shape[0] # Normalize by the number of trials which is the number of rows\n",
    "                        \n",
    "                        # Calculate descriptive statistics\n",
    "                        early_mean = np.mean(early_response)\n",
    "                        late_mean = np.mean(late_response)\n",
    "                        early_median = np.median(early_response)\n",
    "                        late_median = np.median(late_response)\n",
    "                        early_std = np.std(early_response)\n",
    "                        late_std = np.std(late_response) \n",
    "                        \n",
    "                        # Calculate the mean of the standard deviations across trials\n",
    "                        mean_std_early = np.mean(np.std(early_phase, axis=1))\n",
    "                        mean_std_late = np.mean(np.std(late_phase, axis=1))\n",
    "                        \n",
    "                        # Step 2: Time Series Analysis\n",
    "                        # Calculate the autocorrelation of the early and late responses\n",
    "                        early_autocorr = np.correlate(early_response, early_response, mode='full')\n",
    "                        late_autocorr = np.correlate(late_response, late_response, mode='full')\n",
    "                        \n",
    "                        # Step 3: Correlation Analysis\n",
    "                        # Calculate the Pearson correlation coefficient between the early and late responses\n",
    "                        corr, p_value = stats.pearsonr(early_response, late_response)\n",
    "\n",
    "                        # Step 5: Creating Response Profiles\n",
    "                        # Calculate the difference between the mean responses in the early and late phases\n",
    "                        mean_response_difference = late_mean - early_mean\n",
    "                        # Calculate the fold change relative to the early mean\n",
    "                        fold_change = late_mean / early_mean if early_mean != 0 else np.nan\n",
    "                        \n",
    " \n",
    "                        # Store the data and descriptive statistics in the dictionary\n",
    "                        unit_analysis_results[f'{epoch}_{stim_level}_early_phase'] = early_phase\n",
    "                        unit_analysis_results[f'{epoch}_{stim_level}_late_phase'] = late_phase\n",
    "                        unit_analysis_results[f'{epoch}_{stim_level}_early_response'] = early_response\n",
    "                        unit_analysis_results[f'{epoch}_{stim_level}_late_response'] = late_response\n",
    "                        unit_analysis_results[f'{epoch}_{stim_level}_early_mean'] = early_mean\n",
    "                        unit_analysis_results[f'{epoch}_{stim_level}_late_mean'] = late_mean\n",
    "                        unit_analysis_results[f'{epoch}_{stim_level}_early_median'] = early_median\n",
    "                        unit_analysis_results[f'{epoch}_{stim_level}_late_median'] = late_median\n",
    "                        unit_analysis_results[f'{epoch}_{stim_level}_early_std'] = early_std\n",
    "                        unit_analysis_results[f'{epoch}_{stim_level}_late_std'] = late_std\n",
    "                        unit_analysis_results[f'{epoch}_{stim_level}_mean_std_early'] = mean_std_early\n",
    "                        unit_analysis_results[f'{epoch}_{stim_level}_mean_std_late'] = mean_std_late\n",
    "                        \n",
    "                        # Store the autocorrelation data in the dictionary\n",
    "                        unit_analysis_results[f'{epoch}_{stim_level}_early_autocorr'] = early_autocorr\n",
    "                        unit_analysis_results[f'{epoch}_{stim_level}_late_autocorr'] = late_autocorr\n",
    "                        \n",
    "                        # Store the Pearson correlation coefficient and the p-value in the dictionary\n",
    "                        unit_analysis_results[f'{epoch}_{stim_level}_Pearson_Correlation'] = corr\n",
    "                        unit_analysis_results[f'{epoch}_{stim_level}_P_value'] = p_value\n",
    "                        \n",
    "                        # Store the response profile metrics in the dictionary\n",
    "                        unit_analysis_results[f'{epoch}_{stim_level}_mean_response_difference'] = mean_response_difference\n",
    "                        unit_analysis_results[f'{epoch}_{stim_level}_fold_change'] = fold_change\n",
    "                        \n",
    "                # Add the analysis results for the current unit to the dictionary\n",
    "                group_analysis_results[cell_id] = unit_analysis_results\n",
    "        \n",
    "        # Add the analysis results for the current group to the dictionary\n",
    "        analysis_results[group] = group_analysis_results\n",
    "        \n",
    "    # Convert the nested dictionary to a pandas DataFrame for easy data manipulation and visualization\n",
    "    analysis_results_df = pd.DataFrame.from_dict({(group_name, cell_id): analysis_results[group_name][cell_id] \n",
    "                                                  for group_name in analysis_results.keys() \n",
    "                                                  for cell_id in analysis_results[group_name].keys()},\n",
    "                                                 orient='index')\n",
    "\n",
    "    return  analysis_results, analysis_results_df\n",
    "\n",
    "\n",
    "\n",
    "\n",
    "individual_unit_analysis_output, individual_unit_analysis_df_output = individual_unit_analysis(EED, group_name=None)\n",
    "\n"
   ]
  },
  {
   "cell_type": "code",
   "execution_count": null,
   "metadata": {},
   "outputs": [],
   "source": [
    "individual_unit_analysis_df_output "
   ]
  },
  {
   "cell_type": "code",
   "execution_count": null,
   "metadata": {},
   "outputs": [],
   "source": [
    "individual_unit_analysis_output['Lmc_opsin']['cid102']['Post_Low_early_autocorr']\n",
    "\n",
    "#now plot this data individual_unit_analysis_output['Lmc_opsin']['cid102']['Post_Low_early_autocorr']\n",
    "plt.plot(individual_unit_analysis_output['Lmc_opsin']['cid93']['Post_Low_early_autocorr'])"
   ]
  },
  {
   "cell_type": "code",
   "execution_count": null,
   "metadata": {},
   "outputs": [],
   "source": [
    "individual_unit_analysis_output['Lmc_opsin']['cid102']['Post_Low_Pearson_Correlation']\n",
    "#now look at mid \n",
    "individual_unit_analysis_output['Lmc_opsin']['cid102']['Post_Mid_Pearson_Correlation']\n",
    "#now look at max\n",
    "individual_unit_analysis_output['Lmc_opsin']['cid102']['Post_Max_Pearson_Correlation'] \n",
    "#now look at zero\n",
    "individual_unit_analysis_output['Lmc_opsin']['cid102']['Post_Zero_Pearson_Correlation']\n",
    "\n",
    "#repeat this process for cid102 and print the pearson correlation coefficients for each stimulation level\n",
    "print(individual_unit_analysis_output['Lmc_opsin']['cid102']['Post_Zero_Pearson_Correlation'])\n",
    "print(individual_unit_analysis_output['Lmc_opsin']['cid102']['Post_Low_Pearson_Correlation'])\n",
    "print(individual_unit_analysis_output['Lmc_opsin']['cid102']['Post_Mid_Pearson_Correlation'])\n",
    "print(individual_unit_analysis_output['Lmc_opsin']['cid102']['Post_Max_Pearson_Correlation'])\n",
    "\n",
    "#now print the mean for cid 102 for each stimulation level \n",
    "print(individual_unit_analysis_output['Lmc_opsin']['cid102']['Post_Zero_late_mean'])\n",
    "print(individual_unit_analysis_output['Lmc_opsin']['cid102']['Post_Low_late_mean'])\n",
    "print(individual_unit_analysis_output['Lmc_opsin']['cid102']['Post_Mid_late_mean'])\n",
    "print(individual_unit_analysis_output['Lmc_opsin']['cid102']['Post_Max_late_mean'])\n",
    "\n"
   ]
  },
  {
   "cell_type": "code",
   "execution_count": 46,
   "metadata": {},
   "outputs": [
    {
     "name": "stderr",
     "output_type": "stream",
     "text": [
      "/Users/cresp1el/anaconda3/envs/matlab_python_proj/lib/python3.11/site-packages/scipy/stats/_stats_py.py:4781: ConstantInputWarning:\n",
      "\n",
      "An input array is constant; the correlation coefficient is not defined.\n",
      "\n"
     ]
    }
   ],
   "source": [
    "import numpy as np\n",
    "import pandas as pd\n",
    "import matplotlib.pyplot as plt\n",
    "from scipy import stats\n",
    "import matplotlib.colors as mcolors\n",
    "\n",
    "import plotly.graph_objects as go\n",
    "\n",
    "class NeuralDataAnalysis:\n",
    "    def __init__(self, EED, group_name=None):\n",
    "        self.EED = EED\n",
    "        self.group_name = group_name\n",
    "        self.analysis_results = None\n",
    "        self.analysis_df = None\n",
    "\n",
    "    def individual_unit_analysis(self):\n",
    "        \"\"\"\n",
    "        Perform a comprehensive individual unit analysis including descriptive statistics, \n",
    "        time series analysis, correlation analysis, visualization, response profiling, \n",
    "        and outlier identification.\n",
    "\n",
    "        Parameters:\n",
    "        EED (object): The object containing the electrophysiology data.\n",
    "        group_name (str, optional): The name of the group to analyze. Defaults to None, in which case all groups are analyzed.\n",
    "\n",
    "        Returns:\n",
    "        dict: A dictionary containing the results of all the analyses for each unit.\n",
    "        \"\"\"\n",
    "        \n",
    "        # Get list of group names\n",
    "        group_names = [self.group_name] if self.group_name else self.EED.group_names\n",
    "        \n",
    "        # Dictionary to store the analysis results for each group\n",
    "        analysis_results = {}\n",
    "        \n",
    "        # Loop through each group\n",
    "        for group in group_names:\n",
    "            recording_names = EED.get_recording_names(group)\n",
    "            \n",
    "            # Dictionary to store the analysis results for all units in the current group\n",
    "            group_analysis_results = {}\n",
    "            \n",
    "            # Loop through each recording\n",
    "            for recording in recording_names:\n",
    "                cellid_names = EED.get_cellid_names(group, recording)\n",
    "                \n",
    "                # Loop through each cell ID\n",
    "                for cell_id in cellid_names:\n",
    "                    # Get the pre and post stim data\n",
    "                    data = EED.get_pre_post_data(group, recording, cell_id)\n",
    "                    \n",
    "                    # Define stimulation levels and pooled stimulation levels\n",
    "                    stim_levels = ['Zero', 'Low', 'Mid', 'Max', 'Pooled']\n",
    "                    \n",
    "                    # Dictionary to store the analysis results for the current unit\n",
    "                    unit_analysis_results = {'Recording': recording, 'CellID': cell_id}\n",
    "                    \n",
    "                    # Loop through each epoch (pre and post) and stimulation level to calculate descriptive statistics\n",
    "                    for epoch in ['Pre', 'Post']: #loop through the pre and post epochs\n",
    "                        for stim_level in stim_levels: #loop through the stim levels\n",
    "                            if stim_level == 'Pooled': #if the stim level is pooled, then use all stim levels\n",
    "                                stim_indices = [1, 2, 3] #indices for the stim levels\n",
    "                            else: #otherwise, use the stim level specified\n",
    "                                stim_indices = [stim_levels.index(stim_level)] #create a list with the index of the stim level\n",
    "                            \n",
    "                            # Get spike trains for the current stimulation level\n",
    "                            spiketrains = np.concatenate([data[epoch]['SpikeTrains_for_PSTHs'][i] for i in stim_indices], axis=0) #list comprehension to get the spike trains for the stim level by looping through the stim indices\n",
    "                            \n",
    "                            # Extract spike data for the early phase (0-50 ms post-stimulus)\n",
    "                            early_phase = spiketrains[:, 500:550]  # Adjust indices as necessary\n",
    "                            \n",
    "                            # Extract spike data for the late phase (100-700 ms post-stimulus)\n",
    "                            late_phase = spiketrains[:, 600:1200]  # Adjust indices as necessary\n",
    "                            \n",
    "                            # Calculate the total number of spikes in each trial during the early and late phases\n",
    "                            early_response = early_phase.sum(axis=1) / early_phase.shape[0] # Normalize by the number of trials which is the number of rows\n",
    "                            late_response = late_phase.sum(axis=1) / late_phase.shape[0] # Normalize by the number of trials which is the number of rows\n",
    "                            \n",
    "                            # Calculate descriptive statistics\n",
    "                            early_mean = np.mean(early_response)\n",
    "                            late_mean = np.mean(late_response)\n",
    "                            early_median = np.median(early_response)\n",
    "                            late_median = np.median(late_response)\n",
    "                            early_std = np.std(early_response)\n",
    "                            late_std = np.std(late_response) \n",
    "                            \n",
    "                            # Calculate the mean of the standard deviations across trials\n",
    "                            mean_std_early = np.mean(np.std(early_phase, axis=1))\n",
    "                            mean_std_late = np.mean(np.std(late_phase, axis=1))\n",
    "                            \n",
    "                            # Step 2: Time Series Analysis\n",
    "                            # Calculate the autocorrelation of the early and late responses\n",
    "                            early_autocorr = np.correlate(early_response, early_response, mode='full')\n",
    "                            late_autocorr = np.correlate(late_response, late_response, mode='full')\n",
    "                            \n",
    "                            # Step 3: Correlation Analysis\n",
    "                            # Calculate the Pearson correlation coefficient between the early and late responses\n",
    "                            corr, p_value = stats.pearsonr(early_response, late_response)\n",
    "\n",
    "                            # Step 5: Creating Response Profiles\n",
    "                            # Calculate the difference between the mean responses in the early and late phases\n",
    "                            mean_response_difference = late_mean - early_mean\n",
    "                            # Calculate the fold change relative to the early mean\n",
    "                            fold_change = late_mean / early_mean if early_mean != 0 else np.nan\n",
    "                            \n",
    "    \n",
    "                            # Store the data and descriptive statistics in the dictionary\n",
    "                            unit_analysis_results[f'{epoch}_{stim_level}_early_phase'] = early_phase\n",
    "                            unit_analysis_results[f'{epoch}_{stim_level}_late_phase'] = late_phase\n",
    "                            unit_analysis_results[f'{epoch}_{stim_level}_early_response'] = early_response\n",
    "                            unit_analysis_results[f'{epoch}_{stim_level}_late_response'] = late_response\n",
    "                            unit_analysis_results[f'{epoch}_{stim_level}_early_mean'] = early_mean\n",
    "                            unit_analysis_results[f'{epoch}_{stim_level}_late_mean'] = late_mean\n",
    "                            unit_analysis_results[f'{epoch}_{stim_level}_early_median'] = early_median\n",
    "                            unit_analysis_results[f'{epoch}_{stim_level}_late_median'] = late_median\n",
    "                            unit_analysis_results[f'{epoch}_{stim_level}_early_std'] = early_std\n",
    "                            unit_analysis_results[f'{epoch}_{stim_level}_late_std'] = late_std\n",
    "                            unit_analysis_results[f'{epoch}_{stim_level}_mean_std_early'] = mean_std_early\n",
    "                            unit_analysis_results[f'{epoch}_{stim_level}_mean_std_late'] = mean_std_late\n",
    "                            \n",
    "                            # Store the autocorrelation data in the dictionary\n",
    "                            unit_analysis_results[f'{epoch}_{stim_level}_early_autocorr'] = early_autocorr\n",
    "                            unit_analysis_results[f'{epoch}_{stim_level}_late_autocorr'] = late_autocorr\n",
    "                            \n",
    "                            # Store the Pearson correlation coefficient and the p-value in the dictionary\n",
    "                            unit_analysis_results[f'{epoch}_{stim_level}_Pearson_Correlation'] = corr\n",
    "                            unit_analysis_results[f'{epoch}_{stim_level}_P_value'] = p_value\n",
    "                            \n",
    "                            # Store the response profile metrics in the dictionary\n",
    "                            unit_analysis_results[f'{epoch}_{stim_level}_mean_response_difference'] = mean_response_difference\n",
    "                            unit_analysis_results[f'{epoch}_{stim_level}_fold_change'] = fold_change\n",
    "                            \n",
    "                    # Add the analysis results for the current unit to the dictionary\n",
    "                    group_analysis_results[cell_id] = unit_analysis_results\n",
    "            \n",
    "            # Add the analysis results for the current group to the dictionary\n",
    "            analysis_results[group] = group_analysis_results\n",
    "            \n",
    "        # Convert the nested dictionary to a pandas DataFrame for easy data manipulation and visualization\n",
    "        analysis_results_df = pd.DataFrame.from_dict({(group_name, cell_id): analysis_results[group_name][cell_id] \n",
    "                                                    for group_name in analysis_results.keys() \n",
    "                                                    for cell_id in analysis_results[group_name].keys()},\n",
    "                                                    orient='index')\n",
    "\n",
    "\n",
    "        # Set the analysis_results attribute with the results dictionary\n",
    "        self.analysis_results = analysis_results\n",
    "        self.analysis_df = analysis_results_df\n",
    "        \n",
    "        # Return the DataFrame for inspection\n",
    "        return analysis_results_df, analysis_results\n",
    "\n",
    "    def rank_units_by_metric(self, group_name, column_name, ascending=True):\n",
    "        \"\"\"\n",
    "        Rank units within a specified group based on a specified metric (e.g., Pearson correlation, fold change).\n",
    "\n",
    "        Parameters:\n",
    "        group_name (str): The name of the group to rank the units for.\n",
    "        column_name (str): The name of the column (metric) to base the rankings on.\n",
    "        ascending (bool): Whether to rank in ascending order. Defaults to True.\n",
    "\n",
    "        Returns:\n",
    "        pd.DataFrame: A DataFrame containing the unit IDs and their respective rankings.\n",
    "        \"\"\"\n",
    "        \n",
    "        \n",
    "        group_data = self.analysis_df.loc[group_name].copy()\n",
    "        \n",
    "        # Rank the units based on the specified column\n",
    "        group_data['Rank'] = group_data[column_name].rank(ascending=ascending)\n",
    "        \n",
    "        # Get a DataFrame with only the Cell IDs and their rankings\n",
    "        ranking_df = group_data[['CellID', 'Rank']]\n",
    "        \n",
    "        return ranking_df \n",
    "\n",
    "\n",
    "\n",
    "    def plot_ranked_units(self, group_name, column_name, ascending=True):\n",
    "        \"\"\"\n",
    "        Plot the ranked units within a specified group based on a specified metric (e.g., Pearson correlation, fold change).\n",
    "\n",
    "        Parameters:\n",
    "        group_name (str): The name of the group to rank the units for.\n",
    "        column_name (str): The name of the column (metric) to base the rankings on.\n",
    "        ascending (bool): Whether to rank in ascending order. Defaults to True.\n",
    "\n",
    "        Returns:\n",
    "        None: The function will plot the data but not return any values.\n",
    "        \"\"\"\n",
    "        \n",
    "        # Get the ranking data\n",
    "        ranking_df = self.rank_units_by_metric(group_name, column_name, ascending)\n",
    "        \n",
    "        # Get the data to plot\n",
    "        group_data = self.analysis_df.loc[group_name]\n",
    "        \n",
    "        # Merge the ranking data with the group data to get the values for the specified column\n",
    "        plot_data = group_data.merge(ranking_df, on='CellID')\n",
    "        \n",
    "        # Sort the data based on the rank\n",
    "        plot_data.sort_values(by='Rank', inplace=True)\n",
    "        \n",
    "        # Get a colormap\n",
    "        cmap = plt.get_cmap('viridis')\n",
    "        \n",
    "        # Get the range of data values to set the color range\n",
    "        data_min = plot_data[column_name].min()\n",
    "        data_max = plot_data[column_name].max()\n",
    "        \n",
    "        # Create a normalized color range based on the data values\n",
    "        norm = mcolors.Normalize(vmin=data_min, vmax=data_max)\n",
    "        \n",
    "        # Get a list of colors based on the normalized data values\n",
    "        colors = cmap(norm(plot_data[column_name].values))\n",
    "        \n",
    "        # Plot the data with the colors\n",
    "        plt.figure(figsize=(10, 6))\n",
    "        plt.bar(plot_data['CellID'], plot_data[column_name], color=colors)\n",
    "        \n",
    "        # Set labels, title, etc.\n",
    "        plt.xlabel('Cell ID')\n",
    "        plt.ylabel(column_name)\n",
    "        plt.title(f'Ranking of Units in {group_name} based on {column_name}')\n",
    "        plt.xticks(rotation=90)\n",
    "        plt.grid(axis='y')\n",
    "        \n",
    "        # Add a colorbar to show the color mapping\n",
    "        sm = plt.cm.ScalarMappable(cmap=cmap, norm=norm)\n",
    "        sm.set_array([])\n",
    "        plt.colorbar(sm)\n",
    "        \n",
    "        plt.show()\n",
    "        \n",
    "    def plot_mean_firing(self, stim_level, group_name=None):\n",
    "        \"\"\"\n",
    "        This method plots the mean firing rates for individual units and the grand mean across units \n",
    "        during the early and late phases of the pre and post epochs. The early and late mean firing \n",
    "        rates are represented by lines connecting empty and filled circles, respectively. The grand \n",
    "        mean is represented by a red line.\n",
    "\n",
    "        Parameters:\n",
    "        stim_level (str): The stimulation level to consider ('Zero', 'Low', 'Mid', 'Max', or 'Pooled').\n",
    "        group_name (str, optional): The name of the group to plot data for. If None, data for all groups are plotted.\n",
    "\n",
    "        Returns:\n",
    "        None: The method displays the plot but does not return any values.\n",
    "        \"\"\"\n",
    "        \n",
    "        # Ensure the analysis results DataFrame is available\n",
    "        if self.analysis_df is None:\n",
    "            print(\"Please run the individual_unit_analysis method first.\")\n",
    "            return\n",
    "\n",
    "        # Get the list of group names\n",
    "        group_names = [group_name] if group_name else self.EED.group_names\n",
    "        \n",
    "        # Create a 1x2 subplot with shared y-axis\n",
    "        fig, axes = plt.subplots(1, 2, figsize=(8, 4), sharey=True)\n",
    "\n",
    "        # Loop through each group\n",
    "        for group in group_names:\n",
    "            \n",
    "            # Loop through each epoch (Pre and Post) to create the plots\n",
    "            for i, epoch in enumerate(['Pre', 'Post']):\n",
    "                early_means = self.analysis_df.loc[group, f'{epoch}_{stim_level}_early_mean']\n",
    "                late_means = self.analysis_df.loc[group, f'{epoch}_{stim_level}_late_mean']\n",
    "                \n",
    "                unit_ids = self.analysis_df.loc[group].index.get_level_values(0).unique()\n",
    "                \n",
    "                # Lists to store the early and late means for all units\n",
    "                early_means_list = []\n",
    "                late_means_list = []\n",
    "                \n",
    "                # Loop through each unit to gather the early and late means\n",
    "                for unit_id in unit_ids:\n",
    "                    early_mean = early_means.loc[unit_id]\n",
    "                    late_mean = late_means.loc[unit_id]\n",
    "                    \n",
    "                    early_means_list.append(early_mean)\n",
    "                    late_means_list.append(late_mean)\n",
    "                \n",
    "                # Now you have lists of early and late means for all units, and you can plot lines connecting these values\n",
    "                for j, unit_id in enumerate(unit_ids):\n",
    "                    color = 'grey' if epoch == 'Pre' else 'blue'\n",
    "                    axes[i].plot([1, 2], [early_means_list[j], late_means_list[j]], marker='o', markersize=5, markerfacecolor=color, markeredgecolor=color, linestyle='-', color=color)\n",
    "                    axes[i].plot(1, early_means_list[j], marker='o', markersize=5, markerfacecolor='white', markeredgecolor=color, linestyle='-', color=color)\n",
    "                \n",
    "                # Calculate the grand mean for all units\n",
    "                grand_mean_early = np.mean(early_means_list)\n",
    "                grand_mean_late = np.mean(late_means_list)\n",
    "                \n",
    "                # Plot the grand mean\n",
    "                axes[i].plot([1, 2], [grand_mean_early, grand_mean_late], marker='o', markersize=7, markerfacecolor='none', color='red', linewidth=2, label='Grand Mean')\n",
    "                \n",
    "                # Set the x-ticks labels and title\n",
    "                axes[i].set_xticks([1, 2])\n",
    "                axes[i].set_xticklabels(['Early-Phase', 'Late-Phase'])\n",
    "                axes[i].set_title(f'{epoch} Epoch with {stim_level} Stimulation')\n",
    "                axes[i].set_xlabel('Phase')\n",
    "                axes[i].set_ylabel('Mean Firing Rate')\n",
    "            \n",
    "            # Display a legend in the second plot\n",
    "            axes[1].legend(loc='upper left', bbox_to_anchor=(1, 1), ncol=1)\n",
    "            \n",
    "            # Adjust the layout to prevent overlapping\n",
    "            plt.tight_layout()\n",
    "            \n",
    "            # Display the plot\n",
    "            plt.show()\n",
    "            \n",
    "    def plot_standard_deviation(self, stim_level, group_name=None):\n",
    "        \"\"\"\n",
    "        This method plots the standard deviation of firing rates for individual units and the grand mean across units \n",
    "        during the early and late phases of the pre and post epochs. The early and late standard deviations \n",
    "        are represented by lines connecting empty and filled circles, respectively. The grand mean is represented \n",
    "        by a red line for the pre epoch and a green line for the post epoch.\n",
    "\n",
    "        Parameters:\n",
    "        stim_level (str): The stimulation level to consider ('Zero', 'Low', 'Mid', 'Max', or 'Pooled').\n",
    "        group_name (str, optional): The name of the group to plot data for. If None, data for all groups are plotted.\n",
    "\n",
    "        Returns:\n",
    "        None: The method displays the plot but does not return any values.\n",
    "        \"\"\"\n",
    "        \n",
    "        # Ensure the analysis results DataFrame is available\n",
    "        if self.analysis_df is None:\n",
    "            print(\"Please run the individual_unit_analysis method first.\")\n",
    "            return\n",
    "\n",
    "        # Get the list of group names\n",
    "        group_names = [group_name] if group_name else self.EED.group_names\n",
    "        \n",
    "        # Create a 1x2 subplot with shared y-axis\n",
    "        fig, axes = plt.subplots(1, 2, figsize=(8, 4), sharey=True)\n",
    "        \n",
    "        # Loop through each group\n",
    "        for group in group_names:\n",
    "            \n",
    "            # Loop through each epoch (Pre and Post) to create the plots\n",
    "            for i, epoch in enumerate(['Pre', 'Post']):\n",
    "                early_stds = self.analysis_df.loc[group, f'{epoch}_{stim_level}_early_std']\n",
    "                late_stds = self.analysis_df.loc[group, f'{epoch}_{stim_level}_late_std']\n",
    "                \n",
    "                unit_ids = self.analysis_df.loc[group].index.get_level_values(0).unique()\n",
    "                \n",
    "                # Lists to store the early and late standard deviations for all units\n",
    "                early_stds_list = []\n",
    "                late_stds_list = []\n",
    "                \n",
    "                # Loop through each unit to gather the early and late standard deviations\n",
    "                for unit_id in unit_ids:\n",
    "                    early_std = early_stds.loc[unit_id]\n",
    "                    late_std = late_stds.loc[unit_id]\n",
    "                    \n",
    "                    early_stds_list.append(early_std)\n",
    "                    late_stds_list.append(late_std)\n",
    "                \n",
    "                # Now you have lists of early and late standard deviations for all units, and you can plot lines connecting these values\n",
    "                for j, unit_id in enumerate(unit_ids):\n",
    "                    color = 'grey' if epoch == 'Pre' else 'blue'\n",
    "                    axes[i].plot([1, 2], [early_stds_list[j], late_stds_list[j]], marker='o', markersize=5, markerfacecolor=color, markeredgecolor=color, linestyle='-', color=color)\n",
    "                    axes[i].plot(1, early_stds_list[j], marker='o', markersize=5, markerfacecolor='white', markeredgecolor=color, linestyle='-', color=color)\n",
    "                    \n",
    "\n",
    "                \n",
    "                # Calculate the grand mean for all units\n",
    "                grand_mean_early = np.mean(early_stds_list)\n",
    "                grand_mean_late = np.mean(late_stds_list)\n",
    "                \n",
    "                # Plot the grand mean\n",
    "                axes[i].plot([1, 2], [grand_mean_early, grand_mean_late], marker='o', markersize=7, markerfacecolor='none', color='red', linewidth=2, label='Grand Mean')\n",
    "                \n",
    "                # Set the x-ticks labels and title\n",
    "                # And update the x-ticks and labels as follows:\n",
    "                axes[i].set_xticks([1, 2])\n",
    "                axes[i].set_xticklabels(['Early-Phase', 'Late-Phase'])\n",
    "                axes[i].set_title(f'{epoch} Epoch with {stim_level} Stimulation')\n",
    "                axes[i].set_xlabel('Phase')\n",
    "                axes[i].set_ylabel('Standard Deviation of Firing Rate')\n",
    "            \n",
    "            # Display a legend in the second plot\n",
    "            axes[1].legend(loc='upper left', bbox_to_anchor=(1, 1), ncol=1)\n",
    "            \n",
    "            # Adjust the layout to prevent overlapping\n",
    "            plt.tight_layout()\n",
    "            \n",
    "            # Display the plot\n",
    "            plt.show()\n",
    "    def plot_fold_change(self, stim_level, group_name=None):\n",
    "        \"\"\"\n",
    "        This method plots the fold change of firing rates for individual units and the grand mean across units \n",
    "        during the early and late phases of the pre and post epochs. The fold changes \n",
    "        are represented by lines connecting circles, with the baseline represented as 1. The grand mean is represented \n",
    "        by a red line.\n",
    "\n",
    "        Parameters:\n",
    "        stim_level (str): The stimulation level to consider ('Zero', 'Low', 'Mid', 'Max', or 'Pooled').\n",
    "        group_name (str, optional): The name of the group to plot data for. If None, data for all groups are plotted.\n",
    "\n",
    "        Returns:\n",
    "        None: The method displays the plot but does not return any values.\n",
    "        \"\"\"\n",
    "        \n",
    "        # Ensure the analysis results DataFrame is available\n",
    "        if self.analysis_df is None:\n",
    "            print(\"Please run the individual_unit_analysis method first.\")\n",
    "            return\n",
    "\n",
    "        # Get the list of group names\n",
    "        group_names = [group_name] if group_name else self.EED.group_names\n",
    "        \n",
    "        # Create a 1x2 subplot with shared y-axis\n",
    "        fig, axes = plt.subplots(1, 2, figsize=(8, 4), sharey=True)\n",
    "        \n",
    "        # Loop through each group\n",
    "        for group in group_names:\n",
    "            \n",
    "            # Loop through each epoch (Pre and Post) to create the plots\n",
    "            for i, epoch in enumerate(['Pre', 'Post']):\n",
    "                \n",
    "                fold_changes = self.analysis_df.loc[group, f'{epoch}_{stim_level}_fold_change']\n",
    "                unit_ids = self.analysis_df.loc[group].index.get_level_values(0).unique()\n",
    "                \n",
    "                # Lists to store the fold changes for all units\n",
    "                fold_changes_list = []\n",
    "                \n",
    "                # Loop through each unit to gather the fold changes\n",
    "                for unit_id in unit_ids:\n",
    "                    fold_change = fold_changes.loc[unit_id]\n",
    "                    fold_changes_list.append(fold_change)\n",
    "                \n",
    "                # Now you have a list of fold changes for all units, and you can plot lines connecting these values\n",
    "                for j, unit_id in enumerate(unit_ids):\n",
    "                    color = 'grey' if epoch == 'Pre' else 'blue'\n",
    "                    axes[i].plot([1, 2], [1, fold_changes_list[j]], marker='o', markersize=5, markerfacecolor=color, markeredgecolor=color, linestyle='-', color=color)\n",
    "                    \n",
    "                # Calculate the grand mean for all units\n",
    "                grand_mean_baseline = 1  # The baseline is 1 for fold change\n",
    "                grand_mean_fold_change = np.mean(fold_changes_list)\n",
    "                \n",
    "                # Plot the grand mean\n",
    "                axes[i].plot([1, 2], [grand_mean_baseline, grand_mean_fold_change], marker='o', markersize=7, markerfacecolor='none', color='red', linewidth=2, label='Grand Mean')\n",
    "                \n",
    "                # Set the x-ticks labels and title\n",
    "                axes[i].set_xticks([1, 2])\n",
    "                axes[i].set_xticklabels(['Baseline', 'Fold Change'])\n",
    "                axes[i].set_title(f'{epoch} Epoch with {stim_level} Stimulation')\n",
    "                axes[i].set_xlabel('Phase')\n",
    "                axes[i].set_ylabel('Fold Change of Firing Rate')\n",
    "            \n",
    "            # Display a legend in the second plot\n",
    "            axes[1].legend(loc='upper left', bbox_to_anchor=(1, 1), ncol=1)\n",
    "            \n",
    "            # Adjust the layout to prevent overlapping\n",
    "            plt.tight_layout()\n",
    "            \n",
    "            # Display the plot\n",
    "            plt.show()\n",
    "            \n",
    "    def plot_fold_change_plotly(self, stim_level, group_name=None):\n",
    "        \"\"\"\n",
    "        This method plots the fold change of firing rates for individual units and the grand mean across units \n",
    "        during the baseline and fold change phases of the pre and post epochs using Plotly for interactive visualization. \n",
    "        The baseline and fold change values are represented by lines connecting markers at x=1 and x=2, respectively. \n",
    "        The grand mean is represented by a red line for the pre epoch and a green line for the post epoch.\n",
    "\n",
    "        Parameters:\n",
    "        stim_level (str): The stimulation level to consider ('Zero', 'Low', 'Mid', 'Max', or 'Pooled').\n",
    "        group_name (str, optional): The name of the group to plot data for. If None, data for all groups are plotted.\n",
    "\n",
    "        Returns:\n",
    "        None: The method displays the plot but does not return any values.\n",
    "        \"\"\"\n",
    "        \n",
    "        # Ensure the analysis results DataFrame is available\n",
    "        if self.analysis_df is None:\n",
    "            print(\"Please run the individual_unit_analysis method first.\")\n",
    "            return\n",
    "\n",
    "        # Get the list of group names\n",
    "        group_names = [group_name] if group_name else self.EED.group_names\n",
    "        \n",
    "        # Loop through each group\n",
    "        for group in group_names:\n",
    "            \n",
    "            # Create a Plotly figure\n",
    "            fig = go.Figure()\n",
    "            \n",
    "            # Loop through each epoch (Pre and Post) to create the plots\n",
    "            for i, epoch in enumerate(['Pre', 'Post']):\n",
    "                fold_changes = self.analysis_df.loc[group, f'{epoch}_{stim_level}_fold_change']\n",
    "                \n",
    "                unit_ids = self.analysis_df.loc[group].index.get_level_values(0).unique()\n",
    "                \n",
    "                # Lists to store the baseline and fold change values for all units\n",
    "                baseline_list = [1] * len(unit_ids)\n",
    "                fold_changes_list = []\n",
    "                \n",
    "                # Loop through each unit to gather the baseline and fold change values\n",
    "                for unit_id in unit_ids:\n",
    "                    fold_change = fold_changes.loc[unit_id]\n",
    "                    fold_changes_list.append(fold_change)\n",
    "                \n",
    "                # Now you have lists of baseline and fold change values for all units, and you can plot lines connecting these values\n",
    "                for j, unit_id in enumerate(unit_ids):\n",
    "                    color = 'grey' if epoch == 'Pre' else 'blue'\n",
    "                    fig.add_trace(go.Scatter(x=[1, 2], y=[1, fold_changes_list[j]], mode='lines+markers', marker=dict(color=color), line=dict(color=color), name=f'{unit_id} {epoch}', hovertemplate=f'Unit ID: {unit_id}<br>Phase: '+'%{x}<br>Fold Change: '+'%{y}'))\n",
    "\n",
    "                # Calculate the grand mean for all units\n",
    "                grand_mean_baseline = np.nanmean(baseline_list)\n",
    "                grand_mean_fold_change = np.nanmean(fold_changes_list)\n",
    "                \n",
    "                \n",
    "                # Plot the grand mean\n",
    "                color = 'red' if epoch == 'Pre' else 'green'\n",
    "                fig.add_trace(go.Scatter(x=[1, 2], y=[grand_mean_baseline, grand_mean_fold_change], mode='lines+markers', marker=dict(color=color), line=dict(color=color, width=2), name=f'Grand Mean {epoch}'))\n",
    "            \n",
    "            # Set the x-ticks labels and title            \n",
    "            fig.update_layout(\n",
    "                xaxis=dict(tickvals=[1, 2], ticktext=['Baseline', 'Fold Change']),\n",
    "                title=f'Fold Change with {stim_level} Stimulation for group {group}',\n",
    "                xaxis_title='Phase',\n",
    "                yaxis_title='Fold Change',\n",
    "                template='plotly_white',  # Change the template here\n",
    "                width=800,  # Set the width of the plot (in pixels)\n",
    "                height=600,  # Set the height of the plot (in pixels)\n",
    "            )\n",
    "            # Get the total number of traces (2 grand means + number of units for pre and post)\n",
    "            num_traces = len(fig.data)\n",
    "\n",
    "            # Define the dropdown buttons with dynamic visibility lists\n",
    "            buttons = [\n",
    "                dict(\n",
    "                    args=[{'visible': [True] * num_traces}],  # Show all traces (both pre and post)\n",
    "                    label='Both',\n",
    "                    method='update'\n",
    "                ),\n",
    "                dict(\n",
    "                    args=[{'visible': [True if i < num_traces // 2 else False for i in range(num_traces)]}],  # Show only pre traces\n",
    "                    label='Pre',\n",
    "                    method='update'\n",
    "                ),\n",
    "                dict(\n",
    "                    args=[{'visible': [False if i < num_traces // 2 else True for i in range(num_traces)]}],  # Show only post traces\n",
    "                    label='Post',\n",
    "                    method='update'\n",
    "                )\n",
    "            ]\n",
    "\n",
    "            # Add the dropdown buttons to the figure\n",
    "            fig.update_layout(\n",
    "                updatemenus=[\n",
    "                    dict(\n",
    "                        x=1.15,\n",
    "                        y=1.2,\n",
    "                        xanchor='left',\n",
    "                        yanchor='top',\n",
    "                        buttons=buttons\n",
    "                    )\n",
    "                ]\n",
    "            )\n",
    "            # Display the plot\n",
    "            fig.show()\n",
    "\n",
    "    def plot_standard_deviation_plotly(self, stim_level, group_name=None, data_type='both'):\n",
    "            # Ensure the analysis results DataFrame is available\n",
    "            if self.analysis_df is None:\n",
    "                print(\"Please run the individual_unit_analysis method first.\")\n",
    "                return\n",
    "\n",
    "            # Get the list of group names\n",
    "            group_names = [group_name] if group_name else self.EED.group_names\n",
    "            \n",
    "            # Loop through each group\n",
    "            for group in group_names:\n",
    "                \n",
    "                # Create a Plotly figure\n",
    "                fig = go.Figure()\n",
    "                \n",
    "                # Loop through each epoch (Pre and Post) to create the plots\n",
    "                for i, epoch in enumerate(['Pre', 'Post']):\n",
    "                    \n",
    "                    # Get the standard deviations for the early and late phases\n",
    "                    early_std_devs = self.analysis_df.loc[group, f'{epoch}_{stim_level}_early_std']\n",
    "                    late_std_devs = self.analysis_df.loc[group, f'{epoch}_{stim_level}_late_std']\n",
    "                    \n",
    "                    unit_ids = self.analysis_df.loc[group].index.get_level_values(0).unique()\n",
    "                    \n",
    "                    # Loop through each unit to gather the standard deviation values for early and late phases\n",
    "                    for unit_id in unit_ids:\n",
    "                        early_std_dev = early_std_devs.loc[unit_id]\n",
    "                        late_std_dev = late_std_devs.loc[unit_id]\n",
    "                        \n",
    "                        color = 'grey' if epoch == 'Pre' else 'blue'\n",
    "                        fig.add_trace(go.Scatter(x=['Early', 'Late'], y=[early_std_dev, late_std_dev], mode='lines+markers', marker=dict(color=color), line=dict(color=color), name=f'{unit_id} {epoch}', hovertemplate=f'Unit ID: {unit_id}<br>Phase: '+'%{x}<br>Std Dev: '+'%{y}'))\n",
    "                    \n",
    "                    # Get the mean standard deviations across units for early and late phases\n",
    "                    mean_early_std_dev = np.nanmean(early_std_devs)\n",
    "                    mean_late_std_dev = np.nanmean(late_std_devs)\n",
    "\n",
    "                    color = 'red' if epoch == 'Pre' else 'green'\n",
    "                    fig.add_trace(go.Scatter(x=['Early', 'Late'], y=[mean_early_std_dev, mean_late_std_dev], mode='lines+markers', marker=dict(color=color), line=dict(color=color, width=2), name=f'Mean Std Dev {epoch}'))\n",
    "            \n",
    "            # Set the x-ticks labels and title            \n",
    "            fig.update_layout(\n",
    "                xaxis=dict(tickvals=[0, 1], ticktext=['Early', 'Late']),\n",
    "                title=f'Standard Deviation with {stim_level} Stimulation for group {group}',\n",
    "                xaxis_title='Phase',\n",
    "                yaxis_title='Standard Deviation',\n",
    "                template='plotly_white',\n",
    "                width=800,\n",
    "                height=600,\n",
    "            )\n",
    "            \n",
    "            # Get the total number of traces (2 grand means + number of units for pre and post)\n",
    "            num_traces = len(fig.data)\n",
    "\n",
    "            # Define the dropdown buttons with dynamic visibility lists\n",
    "            buttons = [\n",
    "                dict(\n",
    "                    args=[{'visible': [True] * num_traces}],  # Show all traces (both pre and post)\n",
    "                    label='Both',\n",
    "                    method='update'\n",
    "                ),\n",
    "                dict(\n",
    "                    args=[{'visible': [True if i < num_traces // 2 else False for i in range(num_traces)]}],  # Show only pre traces\n",
    "                    label='Pre',\n",
    "                    method='update'\n",
    "                ),\n",
    "                dict(\n",
    "                    args=[{'visible': [False if i < num_traces // 2 else True for i in range(num_traces)]}],  # Show only post traces\n",
    "                    label='Post',\n",
    "                    method='update'\n",
    "                )\n",
    "            ]\n",
    "\n",
    "            # Add the dropdown buttons to the figure\n",
    "            fig.update_layout(\n",
    "                updatemenus=[           \n",
    "                    dict(\n",
    "                        x=1.15,\n",
    "                        y=1.2,\n",
    "                        xanchor='left',\n",
    "                        yanchor='top',\n",
    "                        buttons=buttons\n",
    "                    )\n",
    "                ]\n",
    "            )\n",
    "            \n",
    "            # Display the plot\n",
    "            fig.show()\n",
    "\n",
    "\n",
    "\n",
    "analysis_instance = NeuralDataAnalysis(EED, group_name=None)\n",
    "\n",
    "result_df, results_dict = analysis_instance.individual_unit_analysis()"
   ]
  },
  {
   "cell_type": "code",
   "execution_count": 10,
   "metadata": {},
   "outputs": [
    {
     "data": {
      "text/html": [
       "<div>\n",
       "<style scoped>\n",
       "    .dataframe tbody tr th:only-of-type {\n",
       "        vertical-align: middle;\n",
       "    }\n",
       "\n",
       "    .dataframe tbody tr th {\n",
       "        vertical-align: top;\n",
       "    }\n",
       "\n",
       "    .dataframe thead th {\n",
       "        text-align: right;\n",
       "    }\n",
       "</style>\n",
       "<table border=\"1\" class=\"dataframe\">\n",
       "  <thead>\n",
       "    <tr style=\"text-align: right;\">\n",
       "      <th></th>\n",
       "      <th></th>\n",
       "      <th>Recording</th>\n",
       "      <th>CellID</th>\n",
       "      <th>Pre_Zero_early_phase</th>\n",
       "      <th>Pre_Zero_late_phase</th>\n",
       "      <th>Pre_Zero_early_response</th>\n",
       "      <th>Pre_Zero_late_response</th>\n",
       "      <th>Pre_Zero_early_mean</th>\n",
       "      <th>Pre_Zero_late_mean</th>\n",
       "      <th>Pre_Zero_early_median</th>\n",
       "      <th>Pre_Zero_late_median</th>\n",
       "      <th>...</th>\n",
       "      <th>Post_Pooled_early_std</th>\n",
       "      <th>Post_Pooled_late_std</th>\n",
       "      <th>Post_Pooled_mean_std_early</th>\n",
       "      <th>Post_Pooled_mean_std_late</th>\n",
       "      <th>Post_Pooled_early_autocorr</th>\n",
       "      <th>Post_Pooled_late_autocorr</th>\n",
       "      <th>Post_Pooled_Pearson_Correlation</th>\n",
       "      <th>Post_Pooled_P_value</th>\n",
       "      <th>Post_Pooled_mean_response_difference</th>\n",
       "      <th>Post_Pooled_fold_change</th>\n",
       "    </tr>\n",
       "  </thead>\n",
       "  <tbody>\n",
       "    <tr>\n",
       "      <th rowspan=\"9\" valign=\"top\">Lmc_noopsin</th>\n",
       "      <th>cid159</th>\n",
       "      <td>lmc_noch_1_3096_rec1</td>\n",
       "      <td>cid159</td>\n",
       "      <td>[[0, 0, 0, 0, 0, 0, 0, 0, 0, 0, 0, 0, 0, 0, 0,...</td>\n",
       "      <td>[[0, 0, 0, 0, 0, 0, 0, 0, 0, 0, 0, 0, 0, 0, 0,...</td>\n",
       "      <td>[0.0, 0.0, 0.0, 0.0, 0.0, 0.0, 0.0, 0.0, 0.0, ...</td>\n",
       "      <td>[0.0, 0.0, 0.0, 0.0, 0.0, 0.0, 0.0, 0.0, 0.0, ...</td>\n",
       "      <td>0.000000</td>\n",
       "      <td>0.000104</td>\n",
       "      <td>0.0</td>\n",
       "      <td>0.000000</td>\n",
       "      <td>...</td>\n",
       "      <td>0.000800</td>\n",
       "      <td>0.001178</td>\n",
       "      <td>0.013351</td>\n",
       "      <td>0.005220</td>\n",
       "      <td>[0.0, 0.0, 0.0, 0.0, 0.0, 0.0, 0.0, 0.0, 0.0, ...</td>\n",
       "      <td>[0.0, 0.0, 0.0, 0.0, 0.0, 0.0, 0.0, 0.0, 0.0, ...</td>\n",
       "      <td>0.022329</td>\n",
       "      <td>6.698526e-01</td>\n",
       "      <td>0.000126</td>\n",
       "      <td>1.485714</td>\n",
       "    </tr>\n",
       "    <tr>\n",
       "      <th>cid169</th>\n",
       "      <td>lmc_noch_1_3096_rec1</td>\n",
       "      <td>cid169</td>\n",
       "      <td>[[0, 0, 0, 0, 0, 0, 0, 0, 0, 0, 0, 0, 0, 0, 0,...</td>\n",
       "      <td>[[0, 0, 0, 0, 0, 0, 0, 0, 0, 0, 0, 0, 0, 0, 0,...</td>\n",
       "      <td>[0.0, 0.0, 0.0, 0.0, 0.0, 0.0, 0.0, 0.0, 0.0, ...</td>\n",
       "      <td>[0.0, 0.0, 0.0, 0.0, 0.0, 0.0, 0.0, 0.0, 0.0, ...</td>\n",
       "      <td>0.000000</td>\n",
       "      <td>0.000673</td>\n",
       "      <td>0.0</td>\n",
       "      <td>0.000000</td>\n",
       "      <td>...</td>\n",
       "      <td>0.000201</td>\n",
       "      <td>0.000425</td>\n",
       "      <td>0.000763</td>\n",
       "      <td>0.000425</td>\n",
       "      <td>[0.0, 0.0, 0.0, 0.0, 0.0, 0.0, 0.0, 0.0, 0.0, ...</td>\n",
       "      <td>[0.0, 0.0, 0.0, 0.0, 0.0, 0.0, 0.0, 0.0, 0.0, ...</td>\n",
       "      <td>0.468029</td>\n",
       "      <td>2.237358e-21</td>\n",
       "      <td>0.000022</td>\n",
       "      <td>2.500000</td>\n",
       "    </tr>\n",
       "    <tr>\n",
       "      <th>cid24</th>\n",
       "      <td>lmc_noch_1_3096_rec1</td>\n",
       "      <td>cid24</td>\n",
       "      <td>[[0, 0, 0, 0, 0, 0, 0, 0, 0, 0, 0, 0, 0, 0, 0,...</td>\n",
       "      <td>[[0, 0, 0, 0, 0, 0, 0, 0, 0, 0, 0, 0, 0, 0, 0,...</td>\n",
       "      <td>[0.0, 0.0, 0.0, 0.0, 0.0, 0.0, 0.0, 0.00719424...</td>\n",
       "      <td>[0.0, 0.0, 0.0, 0.0, 0.0, 0.0, 0.0, 0.02158273...</td>\n",
       "      <td>0.000414</td>\n",
       "      <td>0.007867</td>\n",
       "      <td>0.0</td>\n",
       "      <td>0.000000</td>\n",
       "      <td>...</td>\n",
       "      <td>0.001528</td>\n",
       "      <td>0.003329</td>\n",
       "      <td>0.043026</td>\n",
       "      <td>0.021757</td>\n",
       "      <td>[0.0, 0.0, 0.0, 0.0, 0.0, 0.0, 0.0, 0.0, 0.0, ...</td>\n",
       "      <td>[2.2273533844634675e-05, 1.4849022563089783e-0...</td>\n",
       "      <td>0.166742</td>\n",
       "      <td>1.346410e-03</td>\n",
       "      <td>0.001284</td>\n",
       "      <td>2.418033</td>\n",
       "    </tr>\n",
       "    <tr>\n",
       "      <th>cid244</th>\n",
       "      <td>lmc_noch_1_3096_rec1</td>\n",
       "      <td>cid244</td>\n",
       "      <td>[[0, 0, 0, 0, 0, 0, 0, 0, 0, 0, 0, 0, 0, 0, 0,...</td>\n",
       "      <td>[[0, 0, 0, 0, 0, 0, 0, 0, 0, 0, 0, 0, 0, 0, 0,...</td>\n",
       "      <td>[0.0, 0.0, 0.0, 0.0, 0.0, 0.0, 0.0, 0.0, 0.0, ...</td>\n",
       "      <td>[0.0, 0.0, 0.0, 0.0, 0.0, 0.0, 0.0, 0.00719424...</td>\n",
       "      <td>0.000104</td>\n",
       "      <td>0.001449</td>\n",
       "      <td>0.0</td>\n",
       "      <td>0.000000</td>\n",
       "      <td>...</td>\n",
       "      <td>0.000588</td>\n",
       "      <td>0.001252</td>\n",
       "      <td>0.006866</td>\n",
       "      <td>0.004040</td>\n",
       "      <td>[0.0, 0.0, 0.0, 0.0, 0.0, 0.0, 0.0, 0.0, 0.0, ...</td>\n",
       "      <td>[0.0, 0.0, 0.0, 0.0, 7.424511281544892e-06, 0....</td>\n",
       "      <td>0.076690</td>\n",
       "      <td>1.425601e-01</td>\n",
       "      <td>0.000200</td>\n",
       "      <td>2.500000</td>\n",
       "    </tr>\n",
       "    <tr>\n",
       "      <th>cid251</th>\n",
       "      <td>lmc_noch_1_3096_rec1</td>\n",
       "      <td>cid251</td>\n",
       "      <td>[[0, 0, 0, 0, 0, 0, 0, 0, 0, 0, 0, 0, 0, 0, 0,...</td>\n",
       "      <td>[[0, 0, 0, 0, 0, 0, 0, 0, 0, 0, 0, 0, 0, 0, 0,...</td>\n",
       "      <td>[0.0, 0.0, 0.0, 0.0, 0.0, 0.0, 0.0, 0.0, 0.0, ...</td>\n",
       "      <td>[0.0, 0.0, 0.0, 0.0, 0.0, 0.0, 0.0, 0.00719424...</td>\n",
       "      <td>0.000052</td>\n",
       "      <td>0.001294</td>\n",
       "      <td>0.0</td>\n",
       "      <td>0.000000</td>\n",
       "      <td>...</td>\n",
       "      <td>0.000747</td>\n",
       "      <td>0.001008</td>\n",
       "      <td>0.011444</td>\n",
       "      <td>0.004787</td>\n",
       "      <td>[0.0, 0.0, 0.0, 0.0, 0.0, 0.0, 0.0, 0.0, 0.0, ...</td>\n",
       "      <td>[0.0, 0.0, 0.0, 0.0, 0.0, 0.0, 0.0, 0.0, 0.0, ...</td>\n",
       "      <td>0.113973</td>\n",
       "      <td>2.903053e-02</td>\n",
       "      <td>0.000119</td>\n",
       "      <td>1.533333</td>\n",
       "    </tr>\n",
       "    <tr>\n",
       "      <th>cid21</th>\n",
       "      <td>lmc_noch_1_3096_rec2</td>\n",
       "      <td>cid21</td>\n",
       "      <td>[[0, 0, 0, 0, 0, 0, 0, 0, 0, 0, 0, 0, 0, 0, 0,...</td>\n",
       "      <td>[[0, 0, 0, 0, 0, 0, 0, 0, 0, 0, 0, 0, 0, 0, 0,...</td>\n",
       "      <td>[0.0, 0.0, 0.0, 0.0, 0.0, 0.0, 0.0, 0.0, 0.0, ...</td>\n",
       "      <td>[0.0, 0.0, 0.0, 0.0, 0.0, 0.0, 0.0, 0.0, 0.0, ...</td>\n",
       "      <td>0.000000</td>\n",
       "      <td>0.000359</td>\n",
       "      <td>0.0</td>\n",
       "      <td>0.000000</td>\n",
       "      <td>...</td>\n",
       "      <td>0.000316</td>\n",
       "      <td>0.000918</td>\n",
       "      <td>0.001907</td>\n",
       "      <td>0.003564</td>\n",
       "      <td>[0.0, 0.0, 0.0, 0.0, 0.0, 0.0, 0.0, 0.0, 0.0, ...</td>\n",
       "      <td>[0.0, 0.0, 0.0, 0.0, 0.0, 0.0, 0.0, 0.0, 0.0, ...</td>\n",
       "      <td>0.245785</td>\n",
       "      <td>1.881006e-06</td>\n",
       "      <td>0.000223</td>\n",
       "      <td>7.000000</td>\n",
       "    </tr>\n",
       "    <tr>\n",
       "      <th>cid211</th>\n",
       "      <td>lmc_noch_1_3096_rec2</td>\n",
       "      <td>cid211</td>\n",
       "      <td>[[0, 0, 0, 0, 0, 0, 0, 0, 0, 0, 0, 0, 0, 0, 0,...</td>\n",
       "      <td>[[0, 0, 0, 0, 0, 0, 0, 0, 0, 0, 0, 0, 0, 0, 0,...</td>\n",
       "      <td>[0.0, 0.0, 0.0, 0.0, 0.0, 0.0, 0.0, 0.0, 0.0, ...</td>\n",
       "      <td>[0.0, 0.0, 0.0, 0.0, 0.0, 0.0, 0.0, 0.0, 0.0, ...</td>\n",
       "      <td>0.000072</td>\n",
       "      <td>0.001077</td>\n",
       "      <td>0.0</td>\n",
       "      <td>0.000000</td>\n",
       "      <td>...</td>\n",
       "      <td>0.000781</td>\n",
       "      <td>0.001640</td>\n",
       "      <td>0.009231</td>\n",
       "      <td>0.007960</td>\n",
       "      <td>[0.0, 0.0, 0.0, 0.0, 0.0, 0.0, 0.0, 0.0, 0.0, ...</td>\n",
       "      <td>[0.0, 0.0, 0.0, 0.0, 0.0, 7.424511281544892e-0...</td>\n",
       "      <td>0.012094</td>\n",
       "      <td>8.173849e-01</td>\n",
       "      <td>0.000460</td>\n",
       "      <td>3.384615</td>\n",
       "    </tr>\n",
       "    <tr>\n",
       "      <th>cid219</th>\n",
       "      <td>lmc_noch_1_3096_rec2</td>\n",
       "      <td>cid219</td>\n",
       "      <td>[[0, 0, 0, 0, 0, 0, 0, 0, 0, 0, 0, 0, 0, 0, 0,...</td>\n",
       "      <td>[[0, 0, 0, 0, 0, 0, 0, 0, 0, 0, 0, 0, 0, 0, 0,...</td>\n",
       "      <td>[0.0, 0.0, 0.0, 0.0, 0.0, 0.0, 0.0, 0.0, 0.0, ...</td>\n",
       "      <td>[0.0, 0.0, 0.0, 0.0, 0.0, 0.0, 0.0, 0.01694915...</td>\n",
       "      <td>0.000646</td>\n",
       "      <td>0.005099</td>\n",
       "      <td>0.0</td>\n",
       "      <td>0.000000</td>\n",
       "      <td>...</td>\n",
       "      <td>0.000983</td>\n",
       "      <td>0.003574</td>\n",
       "      <td>0.017624</td>\n",
       "      <td>0.016201</td>\n",
       "      <td>[0.0, 0.0, 0.0, 0.0, 0.0, 0.0, 0.0, 0.0, 0.0, ...</td>\n",
       "      <td>[0.0, 7.424511281544892e-06, 0.0, 0.0, 0.0, 7....</td>\n",
       "      <td>0.246235</td>\n",
       "      <td>1.798863e-06</td>\n",
       "      <td>0.001418</td>\n",
       "      <td>4.979167</td>\n",
       "    </tr>\n",
       "    <tr>\n",
       "      <th>cid22</th>\n",
       "      <td>lmc_noch_1_3096_rec2</td>\n",
       "      <td>cid22</td>\n",
       "      <td>[[0, 0, 0, 0, 0, 0, 0, 0, 0, 0, 0, 0, 0, 0, 0,...</td>\n",
       "      <td>[[0, 0, 0, 0, 0, 0, 0, 0, 0, 0, 0, 0, 0, 0, 0,...</td>\n",
       "      <td>[0.0, 0.0, 0.0, 0.0, 0.0, 0.0, 0.0, 0.0, 0.0, ...</td>\n",
       "      <td>[0.0, 0.0, 0.0, 0.0, 0.0, 0.0, 0.0, 0.0, 0.0, ...</td>\n",
       "      <td>0.000000</td>\n",
       "      <td>0.000287</td>\n",
       "      <td>0.0</td>\n",
       "      <td>0.000000</td>\n",
       "      <td>...</td>\n",
       "      <td>0.000245</td>\n",
       "      <td>0.001057</td>\n",
       "      <td>0.001144</td>\n",
       "      <td>0.003504</td>\n",
       "      <td>[0.0, 0.0, 0.0, 0.0, 0.0, 0.0, 0.0, 0.0, 0.0, ...</td>\n",
       "      <td>[0.0, 0.0, 0.0, 0.0, 0.0, 0.0, 0.0, 0.0, 0.0, ...</td>\n",
       "      <td>-0.023585</td>\n",
       "      <td>6.524625e-01</td>\n",
       "      <td>0.000252</td>\n",
       "      <td>12.333333</td>\n",
       "    </tr>\n",
       "    <tr>\n",
       "      <th rowspan=\"14\" valign=\"top\">Lmc_opsin</th>\n",
       "      <th>cid134</th>\n",
       "      <td>lmc_ch_1_3094_rec1</td>\n",
       "      <td>cid134</td>\n",
       "      <td>[[0, 0, 0, 0, 0, 0, 0, 0, 0, 0, 0, 0, 0, 0, 0,...</td>\n",
       "      <td>[[0, 0, 0, 0, 0, 0, 0, 0, 0, 0, 0, 0, 0, 0, 0,...</td>\n",
       "      <td>[0.0, 0.0, 0.0, 0.0, 0.0, 0.0, 0.0, 0.0, 0.0, ...</td>\n",
       "      <td>[0.0, 0.024390243902439025, 0.0081300813008130...</td>\n",
       "      <td>0.000793</td>\n",
       "      <td>0.016194</td>\n",
       "      <td>0.0</td>\n",
       "      <td>0.008130</td>\n",
       "      <td>...</td>\n",
       "      <td>0.000809</td>\n",
       "      <td>0.005643</td>\n",
       "      <td>0.009904</td>\n",
       "      <td>0.041664</td>\n",
       "      <td>[0.0, 0.0, 0.0, 0.0, 0.0, 0.0, 0.0, 0.0, 0.0, ...</td>\n",
       "      <td>[0.0, 1.4146672702580353e-05, 2.82933454051607...</td>\n",
       "      <td>0.203340</td>\n",
       "      <td>7.146678e-05</td>\n",
       "      <td>0.004350</td>\n",
       "      <td>22.206897</td>\n",
       "    </tr>\n",
       "    <tr>\n",
       "      <th>cid145</th>\n",
       "      <td>lmc_ch_1_3094_rec1</td>\n",
       "      <td>cid145</td>\n",
       "      <td>[[0, 0, 0, 0, 0, 0, 0, 0, 0, 0, 0, 0, 0, 0, 0,...</td>\n",
       "      <td>[[0, 0, 0, 0, 0, 0, 0, 0, 0, 0, 0, 0, 0, 0, 0,...</td>\n",
       "      <td>[0.0, 0.0, 0.0, 0.0, 0.0, 0.008130081300813009...</td>\n",
       "      <td>[0.04878048780487805, 0.024390243902439025, 0....</td>\n",
       "      <td>0.003041</td>\n",
       "      <td>0.045145</td>\n",
       "      <td>0.0</td>\n",
       "      <td>0.040650</td>\n",
       "      <td>...</td>\n",
       "      <td>0.001572</td>\n",
       "      <td>0.007659</td>\n",
       "      <td>0.027298</td>\n",
       "      <td>0.084928</td>\n",
       "      <td>[0.0, 2.1220009053870528e-05, 0.0, 0.0, 7.0733...</td>\n",
       "      <td>[5.658669081032141e-05, 0.00042440018107741057...</td>\n",
       "      <td>0.047663</td>\n",
       "      <td>3.567035e-01</td>\n",
       "      <td>0.012569</td>\n",
       "      <td>21.193182</td>\n",
       "    </tr>\n",
       "    <tr>\n",
       "      <th>cid148</th>\n",
       "      <td>lmc_ch_1_3094_rec1</td>\n",
       "      <td>cid148</td>\n",
       "      <td>[[0, 0, 0, 0, 0, 0, 0, 0, 0, 0, 0, 0, 0, 0, 0,...</td>\n",
       "      <td>[[0, 0, 0, 0, 0, 0, 0, 0, 0, 0, 0, 0, 0, 0, 0,...</td>\n",
       "      <td>[0.008130081300813009, 0.0, 0.0, 0.0, 0.0, 0.0...</td>\n",
       "      <td>[0.024390243902439025, 0.0, 0.0, 0.0, 0.032520...</td>\n",
       "      <td>0.000991</td>\n",
       "      <td>0.010642</td>\n",
       "      <td>0.0</td>\n",
       "      <td>0.000000</td>\n",
       "      <td>...</td>\n",
       "      <td>0.000771</td>\n",
       "      <td>0.004504</td>\n",
       "      <td>0.007631</td>\n",
       "      <td>0.040109</td>\n",
       "      <td>[0.0, 0.0, 0.0, 0.0, 0.0, 0.0, 0.0, 0.0, 0.0, ...</td>\n",
       "      <td>[0.0, 5.658669081032141e-05, 0.000127320054323...</td>\n",
       "      <td>0.060552</td>\n",
       "      <td>2.414708e-01</td>\n",
       "      <td>0.004095</td>\n",
       "      <td>26.173913</td>\n",
       "    </tr>\n",
       "    <tr>\n",
       "      <th>cid156</th>\n",
       "      <td>lmc_ch_1_3094_rec1</td>\n",
       "      <td>cid156</td>\n",
       "      <td>[[0, 0, 0, 0, 0, 0, 0, 0, 0, 0, 0, 0, 0, 0, 0,...</td>\n",
       "      <td>[[0, 0, 0, 0, 0, 0, 0, 0, 0, 0, 0, 0, 0, 0, 0,...</td>\n",
       "      <td>[0.0, 0.0, 0.0, 0.0, 0.0, 0.0, 0.0, 0.0, 0.0, ...</td>\n",
       "      <td>[0.0, 0.0, 0.0, 0.0, 0.0, 0.0, 0.0, 0.0, 0.0, ...</td>\n",
       "      <td>0.000000</td>\n",
       "      <td>0.000330</td>\n",
       "      <td>0.0</td>\n",
       "      <td>0.000000</td>\n",
       "      <td>...</td>\n",
       "      <td>0.000137</td>\n",
       "      <td>0.002128</td>\n",
       "      <td>0.000372</td>\n",
       "      <td>0.012925</td>\n",
       "      <td>[0.0, 0.0, 0.0, 0.0, 0.0, 0.0, 0.0, 0.0, 0.0, ...</td>\n",
       "      <td>[0.0, 0.0, 0.0, 0.0, 0.0, 0.0, 0.0, 0.0, 0.0, ...</td>\n",
       "      <td>-0.026261</td>\n",
       "      <td>6.117300e-01</td>\n",
       "      <td>0.001075</td>\n",
       "      <td>153.000000</td>\n",
       "    </tr>\n",
       "    <tr>\n",
       "      <th>cid238</th>\n",
       "      <td>lmc_ch_1_3094_rec1</td>\n",
       "      <td>cid238</td>\n",
       "      <td>[[0, 0, 0, 0, 0, 0, 0, 0, 0, 0, 0, 0, 0, 0, 0,...</td>\n",
       "      <td>[[0, 0, 0, 0, 0, 0, 0, 0, 0, 0, 0, 0, 0, 0, 0,...</td>\n",
       "      <td>[0.0, 0.0, 0.0, 0.0, 0.0, 0.0, 0.0, 0.0, 0.0, ...</td>\n",
       "      <td>[0.0, 0.0, 0.0, 0.0, 0.0, 0.0, 0.0, 0.0, 0.0, ...</td>\n",
       "      <td>0.000000</td>\n",
       "      <td>0.000000</td>\n",
       "      <td>0.0</td>\n",
       "      <td>0.000000</td>\n",
       "      <td>...</td>\n",
       "      <td>0.000273</td>\n",
       "      <td>0.001749</td>\n",
       "      <td>0.001489</td>\n",
       "      <td>0.010507</td>\n",
       "      <td>[0.0, 0.0, 0.0, 0.0, 0.0, 0.0, 0.0, 0.0, 0.0, ...</td>\n",
       "      <td>[0.0, 0.0, 0.0, 0.0, 0.0, 0.0, 0.0, 0.0, 0.0, ...</td>\n",
       "      <td>-0.009646</td>\n",
       "      <td>8.521139e-01</td>\n",
       "      <td>0.000799</td>\n",
       "      <td>29.250000</td>\n",
       "    </tr>\n",
       "    <tr>\n",
       "      <th>cid52</th>\n",
       "      <td>lmc_ch_1_3094_rec1</td>\n",
       "      <td>cid52</td>\n",
       "      <td>[[0, 0, 0, 0, 0, 0, 0, 0, 0, 0, 0, 0, 0, 0, 0,...</td>\n",
       "      <td>[[0, 0, 0, 0, 0, 0, 0, 0, 0, 0, 0, 0, 0, 0, 0,...</td>\n",
       "      <td>[0.0, 0.0, 0.0, 0.0, 0.0, 0.0, 0.0, 0.0, 0.0, ...</td>\n",
       "      <td>[0.0, 0.0, 0.0, 0.0, 0.0, 0.0, 0.0, 0.0, 0.0, ...</td>\n",
       "      <td>0.000330</td>\n",
       "      <td>0.005156</td>\n",
       "      <td>0.0</td>\n",
       "      <td>0.000000</td>\n",
       "      <td>...</td>\n",
       "      <td>0.001214</td>\n",
       "      <td>0.005032</td>\n",
       "      <td>0.017871</td>\n",
       "      <td>0.064094</td>\n",
       "      <td>[0.0, 0.0, 0.0, 0.0, 0.0, 0.0, 0.0, 0.0, 0.0, ...</td>\n",
       "      <td>[4.2440018107741056e-05, 0.0001626867360796740...</td>\n",
       "      <td>0.012973</td>\n",
       "      <td>8.020295e-01</td>\n",
       "      <td>0.007519</td>\n",
       "      <td>19.649123</td>\n",
       "    </tr>\n",
       "    <tr>\n",
       "      <th>cid91</th>\n",
       "      <td>lmc_ch_1_3094_rec1</td>\n",
       "      <td>cid91</td>\n",
       "      <td>[[0, 0, 0, 0, 0, 0, 0, 0, 0, 0, 0, 0, 0, 0, 0,...</td>\n",
       "      <td>[[0, 0, 0, 0, 0, 0, 0, 0, 0, 0, 0, 0, 0, 0, 0,...</td>\n",
       "      <td>[0.0, 0.0, 0.0, 0.0, 0.0, 0.0, 0.0, 0.0, 0.0, ...</td>\n",
       "      <td>[0.0, 0.0, 0.0, 0.0, 0.0, 0.0, 0.0, 0.0, 0.0, ...</td>\n",
       "      <td>0.000000</td>\n",
       "      <td>0.001124</td>\n",
       "      <td>0.0</td>\n",
       "      <td>0.000000</td>\n",
       "      <td>...</td>\n",
       "      <td>0.000470</td>\n",
       "      <td>0.002535</td>\n",
       "      <td>0.003500</td>\n",
       "      <td>0.016163</td>\n",
       "      <td>[0.0, 0.0, 0.0, 0.0, 0.0, 0.0, 0.0, 0.0, 0.0, ...</td>\n",
       "      <td>[0.0, 0.0, 0.0, 0.0, 0.0, 0.0, 0.0, 0.0, 0.0, ...</td>\n",
       "      <td>0.011173</td>\n",
       "      <td>8.290394e-01</td>\n",
       "      <td>0.001337</td>\n",
       "      <td>19.900000</td>\n",
       "    </tr>\n",
       "    <tr>\n",
       "      <th>cid113</th>\n",
       "      <td>lmc_ch_1_3094_rec2</td>\n",
       "      <td>cid113</td>\n",
       "      <td>[[0, 0, 0, 0, 0, 0, 0, 0, 0, 0, 0, 0, 0, 0, 0,...</td>\n",
       "      <td>[[0, 0, 0, 0, 0, 0, 0, 0, 0, 0, 0, 0, 0, 0, 0,...</td>\n",
       "      <td>[0.0, 0.0, 0.0, 0.0, 0.0, 0.0, 0.0, 0.0, 0.0, ...</td>\n",
       "      <td>[0.0, 0.0, 0.0, 0.0070921985815602835, 0.0, 0....</td>\n",
       "      <td>0.000000</td>\n",
       "      <td>0.001459</td>\n",
       "      <td>0.0</td>\n",
       "      <td>0.000000</td>\n",
       "      <td>...</td>\n",
       "      <td>0.000572</td>\n",
       "      <td>0.002896</td>\n",
       "      <td>0.006010</td>\n",
       "      <td>0.025580</td>\n",
       "      <td>[0.0, 0.0, 0.0, 0.0, 0.0, 0.0, 0.0, 0.0, 0.0, ...</td>\n",
       "      <td>[0.0, 0.0, 0.0, 0.0, 4.111729393382857e-05, 7....</td>\n",
       "      <td>0.068842</td>\n",
       "      <td>1.793747e-01</td>\n",
       "      <td>0.002138</td>\n",
       "      <td>19.352941</td>\n",
       "    </tr>\n",
       "    <tr>\n",
       "      <th>cid79</th>\n",
       "      <td>lmc_ch_1_3094_rec2</td>\n",
       "      <td>cid79</td>\n",
       "      <td>[[0, 0, 0, 0, 0, 0, 0, 0, 0, 0, 0, 0, 0, 0, 0,...</td>\n",
       "      <td>[[0, 0, 0, 0, 0, 0, 0, 0, 0, 0, 0, 0, 0, 0, 0,...</td>\n",
       "      <td>[0.0, 0.0, 0.0, 0.0, 0.0, 0.0, 0.0, 0.0, 0.0, ...</td>\n",
       "      <td>[0.0, 0.0, 0.0, 0.0, 0.0, 0.0, 0.0, 0.0, 0.0, ...</td>\n",
       "      <td>0.000050</td>\n",
       "      <td>0.000201</td>\n",
       "      <td>0.0</td>\n",
       "      <td>0.000000</td>\n",
       "      <td>...</td>\n",
       "      <td>0.000000</td>\n",
       "      <td>0.000351</td>\n",
       "      <td>0.000000</td>\n",
       "      <td>0.000747</td>\n",
       "      <td>[0.0, 0.0, 0.0, 0.0, 0.0, 0.0, 0.0, 0.0, 0.0, ...</td>\n",
       "      <td>[0.0, 0.0, 0.0, 0.0, 0.0, 0.0, 0.0, 0.0, 0.0, ...</td>\n",
       "      <td>NaN</td>\n",
       "      <td>NaN</td>\n",
       "      <td>0.000048</td>\n",
       "      <td>NaN</td>\n",
       "    </tr>\n",
       "    <tr>\n",
       "      <th>cid82</th>\n",
       "      <td>lmc_ch_1_3094_rec2</td>\n",
       "      <td>cid82</td>\n",
       "      <td>[[0, 0, 0, 0, 0, 0, 0, 0, 0, 0, 0, 0, 0, 0, 0,...</td>\n",
       "      <td>[[0, 0, 0, 0, 0, 0, 0, 0, 0, 0, 0, 0, 0, 0, 0,...</td>\n",
       "      <td>[0.0, 0.0, 0.0, 0.0, 0.0, 0.0, 0.0, 0.0, 0.0, ...</td>\n",
       "      <td>[0.0, 0.0, 0.0, 0.0070921985815602835, 0.0, 0....</td>\n",
       "      <td>0.000050</td>\n",
       "      <td>0.001207</td>\n",
       "      <td>0.0</td>\n",
       "      <td>0.000000</td>\n",
       "      <td>...</td>\n",
       "      <td>0.000600</td>\n",
       "      <td>0.002972</td>\n",
       "      <td>0.006743</td>\n",
       "      <td>0.026593</td>\n",
       "      <td>[0.0, 0.0, 0.0, 0.0, 0.0, 0.0, 0.0, 0.0, 0.0, ...</td>\n",
       "      <td>[0.0, 0.0, 0.0, 2.0558646966914285e-05, 2.7411...</td>\n",
       "      <td>0.069348</td>\n",
       "      <td>1.761915e-01</td>\n",
       "      <td>0.002227</td>\n",
       "      <td>18.105263</td>\n",
       "    </tr>\n",
       "    <tr>\n",
       "      <th>cid102</th>\n",
       "      <td>lmc_ch_2_3093_rec1</td>\n",
       "      <td>cid102</td>\n",
       "      <td>[[0, 0, 0, 0, 0, 0, 0, 0, 0, 0, 0, 0, 0, 0, 0,...</td>\n",
       "      <td>[[0, 0, 0, 0, 0, 0, 0, 0, 0, 0, 0, 0, 0, 0, 0,...</td>\n",
       "      <td>[0.0, 0.0, 0.0, 0.0, 0.0, 0.0, 0.0, 0.0, 0.0, ...</td>\n",
       "      <td>[0.0, 0.0, 0.0, 0.0, 0.0, 0.0, 0.0, 0.0, 0.0, ...</td>\n",
       "      <td>0.000065</td>\n",
       "      <td>0.000650</td>\n",
       "      <td>0.0</td>\n",
       "      <td>0.000000</td>\n",
       "      <td>...</td>\n",
       "      <td>0.001182</td>\n",
       "      <td>0.002401</td>\n",
       "      <td>0.025510</td>\n",
       "      <td>0.011950</td>\n",
       "      <td>[0.0, 0.0, 7.035861787531045e-06, 0.0, 0.0, 0....</td>\n",
       "      <td>[0.0, 0.0, 0.0, 0.0, 7.035861787531045e-06, 0....</td>\n",
       "      <td>0.120823</td>\n",
       "      <td>1.893642e-02</td>\n",
       "      <td>0.000563</td>\n",
       "      <td>2.095890</td>\n",
       "    </tr>\n",
       "    <tr>\n",
       "      <th>cid39</th>\n",
       "      <td>lmc_ch_2_3093_rec1</td>\n",
       "      <td>cid39</td>\n",
       "      <td>[[0, 0, 0, 0, 0, 0, 0, 0, 0, 0, 0, 0, 0, 0, 0,...</td>\n",
       "      <td>[[0, 0, 0, 0, 0, 0, 0, 0, 0, 0, 0, 0, 0, 0, 0,...</td>\n",
       "      <td>[0.0, 0.0, 0.0, 0.0, 0.0, 0.0, 0.0, 0.0, 0.0, ...</td>\n",
       "      <td>[0.0, 0.0, 0.0, 0.0, 0.0, 0.0, 0.0, 0.0, 0.0, ...</td>\n",
       "      <td>0.001171</td>\n",
       "      <td>0.013593</td>\n",
       "      <td>0.0</td>\n",
       "      <td>0.008065</td>\n",
       "      <td>...</td>\n",
       "      <td>0.001971</td>\n",
       "      <td>0.006124</td>\n",
       "      <td>0.056744</td>\n",
       "      <td>0.054891</td>\n",
       "      <td>[0.0, 0.0, 0.0, 0.0, 0.0, 7.035861787531045e-0...</td>\n",
       "      <td>[6.332275608777941e-05, 2.1107585362593138e-05...</td>\n",
       "      <td>0.281437</td>\n",
       "      <td>2.711231e-08</td>\n",
       "      <td>0.005657</td>\n",
       "      <td>5.417582</td>\n",
       "    </tr>\n",
       "    <tr>\n",
       "      <th>cid81</th>\n",
       "      <td>lmc_ch_2_3093_rec1</td>\n",
       "      <td>cid81</td>\n",
       "      <td>[[0, 0, 0, 0, 0, 0, 0, 0, 0, 0, 0, 0, 0, 0, 0,...</td>\n",
       "      <td>[[0, 0, 0, 0, 0, 0, 0, 0, 0, 0, 0, 0, 0, 0, 0,...</td>\n",
       "      <td>[0.008064516129032258, 0.0, 0.0, 0.00806451612...</td>\n",
       "      <td>[0.024193548387096774, 0.04032258064516129, 0....</td>\n",
       "      <td>0.005138</td>\n",
       "      <td>0.060549</td>\n",
       "      <td>0.0</td>\n",
       "      <td>0.040323</td>\n",
       "      <td>...</td>\n",
       "      <td>0.005979</td>\n",
       "      <td>0.021542</td>\n",
       "      <td>0.230611</td>\n",
       "      <td>0.157513</td>\n",
       "      <td>[0.00011257378860049672, 0.0002251475772009934...</td>\n",
       "      <td>[0.0040104412188926965, 0.004418521202569497, ...</td>\n",
       "      <td>0.133620</td>\n",
       "      <td>9.391024e-03</td>\n",
       "      <td>0.034659</td>\n",
       "      <td>4.692654</td>\n",
       "    </tr>\n",
       "    <tr>\n",
       "      <th>cid93</th>\n",
       "      <td>lmc_ch_2_3093_rec1</td>\n",
       "      <td>cid93</td>\n",
       "      <td>[[0, 0, 0, 0, 0, 0, 0, 0, 0, 0, 0, 0, 0, 0, 0,...</td>\n",
       "      <td>[[0, 0, 0, 0, 0, 0, 0, 0, 0, 0, 0, 0, 0, 0, 0,...</td>\n",
       "      <td>[0.0, 0.0, 0.0, 0.0, 0.0, 0.0, 0.0, 0.0, 0.0, ...</td>\n",
       "      <td>[0.0, 0.0, 0.0, 0.0, 0.0, 0.0, 0.0, 0.0, 0.0, ...</td>\n",
       "      <td>0.001236</td>\n",
       "      <td>0.014178</td>\n",
       "      <td>0.0</td>\n",
       "      <td>0.000000</td>\n",
       "      <td>...</td>\n",
       "      <td>0.002041</td>\n",
       "      <td>0.006407</td>\n",
       "      <td>0.042085</td>\n",
       "      <td>0.017015</td>\n",
       "      <td>[0.0, 0.0, 0.0, 0.0, 0.0, 0.0, 0.0, 0.0, 0.0, ...</td>\n",
       "      <td>[0.0, 0.0, 0.0, 0.0, 0.0, 0.0, 0.0, 0.0, 0.0, ...</td>\n",
       "      <td>0.198920</td>\n",
       "      <td>1.008973e-04</td>\n",
       "      <td>0.001534</td>\n",
       "      <td>2.503448</td>\n",
       "    </tr>\n",
       "  </tbody>\n",
       "</table>\n",
       "<p>23 rows × 182 columns</p>\n",
       "</div>"
      ],
      "text/plain": [
       "                               Recording  CellID  \\\n",
       "Lmc_noopsin cid159  lmc_noch_1_3096_rec1  cid159   \n",
       "            cid169  lmc_noch_1_3096_rec1  cid169   \n",
       "            cid24   lmc_noch_1_3096_rec1   cid24   \n",
       "            cid244  lmc_noch_1_3096_rec1  cid244   \n",
       "            cid251  lmc_noch_1_3096_rec1  cid251   \n",
       "            cid21   lmc_noch_1_3096_rec2   cid21   \n",
       "            cid211  lmc_noch_1_3096_rec2  cid211   \n",
       "            cid219  lmc_noch_1_3096_rec2  cid219   \n",
       "            cid22   lmc_noch_1_3096_rec2   cid22   \n",
       "Lmc_opsin   cid134    lmc_ch_1_3094_rec1  cid134   \n",
       "            cid145    lmc_ch_1_3094_rec1  cid145   \n",
       "            cid148    lmc_ch_1_3094_rec1  cid148   \n",
       "            cid156    lmc_ch_1_3094_rec1  cid156   \n",
       "            cid238    lmc_ch_1_3094_rec1  cid238   \n",
       "            cid52     lmc_ch_1_3094_rec1   cid52   \n",
       "            cid91     lmc_ch_1_3094_rec1   cid91   \n",
       "            cid113    lmc_ch_1_3094_rec2  cid113   \n",
       "            cid79     lmc_ch_1_3094_rec2   cid79   \n",
       "            cid82     lmc_ch_1_3094_rec2   cid82   \n",
       "            cid102    lmc_ch_2_3093_rec1  cid102   \n",
       "            cid39     lmc_ch_2_3093_rec1   cid39   \n",
       "            cid81     lmc_ch_2_3093_rec1   cid81   \n",
       "            cid93     lmc_ch_2_3093_rec1   cid93   \n",
       "\n",
       "                                                 Pre_Zero_early_phase  \\\n",
       "Lmc_noopsin cid159  [[0, 0, 0, 0, 0, 0, 0, 0, 0, 0, 0, 0, 0, 0, 0,...   \n",
       "            cid169  [[0, 0, 0, 0, 0, 0, 0, 0, 0, 0, 0, 0, 0, 0, 0,...   \n",
       "            cid24   [[0, 0, 0, 0, 0, 0, 0, 0, 0, 0, 0, 0, 0, 0, 0,...   \n",
       "            cid244  [[0, 0, 0, 0, 0, 0, 0, 0, 0, 0, 0, 0, 0, 0, 0,...   \n",
       "            cid251  [[0, 0, 0, 0, 0, 0, 0, 0, 0, 0, 0, 0, 0, 0, 0,...   \n",
       "            cid21   [[0, 0, 0, 0, 0, 0, 0, 0, 0, 0, 0, 0, 0, 0, 0,...   \n",
       "            cid211  [[0, 0, 0, 0, 0, 0, 0, 0, 0, 0, 0, 0, 0, 0, 0,...   \n",
       "            cid219  [[0, 0, 0, 0, 0, 0, 0, 0, 0, 0, 0, 0, 0, 0, 0,...   \n",
       "            cid22   [[0, 0, 0, 0, 0, 0, 0, 0, 0, 0, 0, 0, 0, 0, 0,...   \n",
       "Lmc_opsin   cid134  [[0, 0, 0, 0, 0, 0, 0, 0, 0, 0, 0, 0, 0, 0, 0,...   \n",
       "            cid145  [[0, 0, 0, 0, 0, 0, 0, 0, 0, 0, 0, 0, 0, 0, 0,...   \n",
       "            cid148  [[0, 0, 0, 0, 0, 0, 0, 0, 0, 0, 0, 0, 0, 0, 0,...   \n",
       "            cid156  [[0, 0, 0, 0, 0, 0, 0, 0, 0, 0, 0, 0, 0, 0, 0,...   \n",
       "            cid238  [[0, 0, 0, 0, 0, 0, 0, 0, 0, 0, 0, 0, 0, 0, 0,...   \n",
       "            cid52   [[0, 0, 0, 0, 0, 0, 0, 0, 0, 0, 0, 0, 0, 0, 0,...   \n",
       "            cid91   [[0, 0, 0, 0, 0, 0, 0, 0, 0, 0, 0, 0, 0, 0, 0,...   \n",
       "            cid113  [[0, 0, 0, 0, 0, 0, 0, 0, 0, 0, 0, 0, 0, 0, 0,...   \n",
       "            cid79   [[0, 0, 0, 0, 0, 0, 0, 0, 0, 0, 0, 0, 0, 0, 0,...   \n",
       "            cid82   [[0, 0, 0, 0, 0, 0, 0, 0, 0, 0, 0, 0, 0, 0, 0,...   \n",
       "            cid102  [[0, 0, 0, 0, 0, 0, 0, 0, 0, 0, 0, 0, 0, 0, 0,...   \n",
       "            cid39   [[0, 0, 0, 0, 0, 0, 0, 0, 0, 0, 0, 0, 0, 0, 0,...   \n",
       "            cid81   [[0, 0, 0, 0, 0, 0, 0, 0, 0, 0, 0, 0, 0, 0, 0,...   \n",
       "            cid93   [[0, 0, 0, 0, 0, 0, 0, 0, 0, 0, 0, 0, 0, 0, 0,...   \n",
       "\n",
       "                                                  Pre_Zero_late_phase  \\\n",
       "Lmc_noopsin cid159  [[0, 0, 0, 0, 0, 0, 0, 0, 0, 0, 0, 0, 0, 0, 0,...   \n",
       "            cid169  [[0, 0, 0, 0, 0, 0, 0, 0, 0, 0, 0, 0, 0, 0, 0,...   \n",
       "            cid24   [[0, 0, 0, 0, 0, 0, 0, 0, 0, 0, 0, 0, 0, 0, 0,...   \n",
       "            cid244  [[0, 0, 0, 0, 0, 0, 0, 0, 0, 0, 0, 0, 0, 0, 0,...   \n",
       "            cid251  [[0, 0, 0, 0, 0, 0, 0, 0, 0, 0, 0, 0, 0, 0, 0,...   \n",
       "            cid21   [[0, 0, 0, 0, 0, 0, 0, 0, 0, 0, 0, 0, 0, 0, 0,...   \n",
       "            cid211  [[0, 0, 0, 0, 0, 0, 0, 0, 0, 0, 0, 0, 0, 0, 0,...   \n",
       "            cid219  [[0, 0, 0, 0, 0, 0, 0, 0, 0, 0, 0, 0, 0, 0, 0,...   \n",
       "            cid22   [[0, 0, 0, 0, 0, 0, 0, 0, 0, 0, 0, 0, 0, 0, 0,...   \n",
       "Lmc_opsin   cid134  [[0, 0, 0, 0, 0, 0, 0, 0, 0, 0, 0, 0, 0, 0, 0,...   \n",
       "            cid145  [[0, 0, 0, 0, 0, 0, 0, 0, 0, 0, 0, 0, 0, 0, 0,...   \n",
       "            cid148  [[0, 0, 0, 0, 0, 0, 0, 0, 0, 0, 0, 0, 0, 0, 0,...   \n",
       "            cid156  [[0, 0, 0, 0, 0, 0, 0, 0, 0, 0, 0, 0, 0, 0, 0,...   \n",
       "            cid238  [[0, 0, 0, 0, 0, 0, 0, 0, 0, 0, 0, 0, 0, 0, 0,...   \n",
       "            cid52   [[0, 0, 0, 0, 0, 0, 0, 0, 0, 0, 0, 0, 0, 0, 0,...   \n",
       "            cid91   [[0, 0, 0, 0, 0, 0, 0, 0, 0, 0, 0, 0, 0, 0, 0,...   \n",
       "            cid113  [[0, 0, 0, 0, 0, 0, 0, 0, 0, 0, 0, 0, 0, 0, 0,...   \n",
       "            cid79   [[0, 0, 0, 0, 0, 0, 0, 0, 0, 0, 0, 0, 0, 0, 0,...   \n",
       "            cid82   [[0, 0, 0, 0, 0, 0, 0, 0, 0, 0, 0, 0, 0, 0, 0,...   \n",
       "            cid102  [[0, 0, 0, 0, 0, 0, 0, 0, 0, 0, 0, 0, 0, 0, 0,...   \n",
       "            cid39   [[0, 0, 0, 0, 0, 0, 0, 0, 0, 0, 0, 0, 0, 0, 0,...   \n",
       "            cid81   [[0, 0, 0, 0, 0, 0, 0, 0, 0, 0, 0, 0, 0, 0, 0,...   \n",
       "            cid93   [[0, 0, 0, 0, 0, 0, 0, 0, 0, 0, 0, 0, 0, 0, 0,...   \n",
       "\n",
       "                                              Pre_Zero_early_response  \\\n",
       "Lmc_noopsin cid159  [0.0, 0.0, 0.0, 0.0, 0.0, 0.0, 0.0, 0.0, 0.0, ...   \n",
       "            cid169  [0.0, 0.0, 0.0, 0.0, 0.0, 0.0, 0.0, 0.0, 0.0, ...   \n",
       "            cid24   [0.0, 0.0, 0.0, 0.0, 0.0, 0.0, 0.0, 0.00719424...   \n",
       "            cid244  [0.0, 0.0, 0.0, 0.0, 0.0, 0.0, 0.0, 0.0, 0.0, ...   \n",
       "            cid251  [0.0, 0.0, 0.0, 0.0, 0.0, 0.0, 0.0, 0.0, 0.0, ...   \n",
       "            cid21   [0.0, 0.0, 0.0, 0.0, 0.0, 0.0, 0.0, 0.0, 0.0, ...   \n",
       "            cid211  [0.0, 0.0, 0.0, 0.0, 0.0, 0.0, 0.0, 0.0, 0.0, ...   \n",
       "            cid219  [0.0, 0.0, 0.0, 0.0, 0.0, 0.0, 0.0, 0.0, 0.0, ...   \n",
       "            cid22   [0.0, 0.0, 0.0, 0.0, 0.0, 0.0, 0.0, 0.0, 0.0, ...   \n",
       "Lmc_opsin   cid134  [0.0, 0.0, 0.0, 0.0, 0.0, 0.0, 0.0, 0.0, 0.0, ...   \n",
       "            cid145  [0.0, 0.0, 0.0, 0.0, 0.0, 0.008130081300813009...   \n",
       "            cid148  [0.008130081300813009, 0.0, 0.0, 0.0, 0.0, 0.0...   \n",
       "            cid156  [0.0, 0.0, 0.0, 0.0, 0.0, 0.0, 0.0, 0.0, 0.0, ...   \n",
       "            cid238  [0.0, 0.0, 0.0, 0.0, 0.0, 0.0, 0.0, 0.0, 0.0, ...   \n",
       "            cid52   [0.0, 0.0, 0.0, 0.0, 0.0, 0.0, 0.0, 0.0, 0.0, ...   \n",
       "            cid91   [0.0, 0.0, 0.0, 0.0, 0.0, 0.0, 0.0, 0.0, 0.0, ...   \n",
       "            cid113  [0.0, 0.0, 0.0, 0.0, 0.0, 0.0, 0.0, 0.0, 0.0, ...   \n",
       "            cid79   [0.0, 0.0, 0.0, 0.0, 0.0, 0.0, 0.0, 0.0, 0.0, ...   \n",
       "            cid82   [0.0, 0.0, 0.0, 0.0, 0.0, 0.0, 0.0, 0.0, 0.0, ...   \n",
       "            cid102  [0.0, 0.0, 0.0, 0.0, 0.0, 0.0, 0.0, 0.0, 0.0, ...   \n",
       "            cid39   [0.0, 0.0, 0.0, 0.0, 0.0, 0.0, 0.0, 0.0, 0.0, ...   \n",
       "            cid81   [0.008064516129032258, 0.0, 0.0, 0.00806451612...   \n",
       "            cid93   [0.0, 0.0, 0.0, 0.0, 0.0, 0.0, 0.0, 0.0, 0.0, ...   \n",
       "\n",
       "                                               Pre_Zero_late_response  \\\n",
       "Lmc_noopsin cid159  [0.0, 0.0, 0.0, 0.0, 0.0, 0.0, 0.0, 0.0, 0.0, ...   \n",
       "            cid169  [0.0, 0.0, 0.0, 0.0, 0.0, 0.0, 0.0, 0.0, 0.0, ...   \n",
       "            cid24   [0.0, 0.0, 0.0, 0.0, 0.0, 0.0, 0.0, 0.02158273...   \n",
       "            cid244  [0.0, 0.0, 0.0, 0.0, 0.0, 0.0, 0.0, 0.00719424...   \n",
       "            cid251  [0.0, 0.0, 0.0, 0.0, 0.0, 0.0, 0.0, 0.00719424...   \n",
       "            cid21   [0.0, 0.0, 0.0, 0.0, 0.0, 0.0, 0.0, 0.0, 0.0, ...   \n",
       "            cid211  [0.0, 0.0, 0.0, 0.0, 0.0, 0.0, 0.0, 0.0, 0.0, ...   \n",
       "            cid219  [0.0, 0.0, 0.0, 0.0, 0.0, 0.0, 0.0, 0.01694915...   \n",
       "            cid22   [0.0, 0.0, 0.0, 0.0, 0.0, 0.0, 0.0, 0.0, 0.0, ...   \n",
       "Lmc_opsin   cid134  [0.0, 0.024390243902439025, 0.0081300813008130...   \n",
       "            cid145  [0.04878048780487805, 0.024390243902439025, 0....   \n",
       "            cid148  [0.024390243902439025, 0.0, 0.0, 0.0, 0.032520...   \n",
       "            cid156  [0.0, 0.0, 0.0, 0.0, 0.0, 0.0, 0.0, 0.0, 0.0, ...   \n",
       "            cid238  [0.0, 0.0, 0.0, 0.0, 0.0, 0.0, 0.0, 0.0, 0.0, ...   \n",
       "            cid52   [0.0, 0.0, 0.0, 0.0, 0.0, 0.0, 0.0, 0.0, 0.0, ...   \n",
       "            cid91   [0.0, 0.0, 0.0, 0.0, 0.0, 0.0, 0.0, 0.0, 0.0, ...   \n",
       "            cid113  [0.0, 0.0, 0.0, 0.0070921985815602835, 0.0, 0....   \n",
       "            cid79   [0.0, 0.0, 0.0, 0.0, 0.0, 0.0, 0.0, 0.0, 0.0, ...   \n",
       "            cid82   [0.0, 0.0, 0.0, 0.0070921985815602835, 0.0, 0....   \n",
       "            cid102  [0.0, 0.0, 0.0, 0.0, 0.0, 0.0, 0.0, 0.0, 0.0, ...   \n",
       "            cid39   [0.0, 0.0, 0.0, 0.0, 0.0, 0.0, 0.0, 0.0, 0.0, ...   \n",
       "            cid81   [0.024193548387096774, 0.04032258064516129, 0....   \n",
       "            cid93   [0.0, 0.0, 0.0, 0.0, 0.0, 0.0, 0.0, 0.0, 0.0, ...   \n",
       "\n",
       "                    Pre_Zero_early_mean  Pre_Zero_late_mean  \\\n",
       "Lmc_noopsin cid159             0.000000            0.000104   \n",
       "            cid169             0.000000            0.000673   \n",
       "            cid24              0.000414            0.007867   \n",
       "            cid244             0.000104            0.001449   \n",
       "            cid251             0.000052            0.001294   \n",
       "            cid21              0.000000            0.000359   \n",
       "            cid211             0.000072            0.001077   \n",
       "            cid219             0.000646            0.005099   \n",
       "            cid22              0.000000            0.000287   \n",
       "Lmc_opsin   cid134             0.000793            0.016194   \n",
       "            cid145             0.003041            0.045145   \n",
       "            cid148             0.000991            0.010642   \n",
       "            cid156             0.000000            0.000330   \n",
       "            cid238             0.000000            0.000000   \n",
       "            cid52              0.000330            0.005156   \n",
       "            cid91              0.000000            0.001124   \n",
       "            cid113             0.000000            0.001459   \n",
       "            cid79              0.000050            0.000201   \n",
       "            cid82              0.000050            0.001207   \n",
       "            cid102             0.000065            0.000650   \n",
       "            cid39              0.001171            0.013593   \n",
       "            cid81              0.005138            0.060549   \n",
       "            cid93              0.001236            0.014178   \n",
       "\n",
       "                    Pre_Zero_early_median  Pre_Zero_late_median  ...  \\\n",
       "Lmc_noopsin cid159                    0.0              0.000000  ...   \n",
       "            cid169                    0.0              0.000000  ...   \n",
       "            cid24                     0.0              0.000000  ...   \n",
       "            cid244                    0.0              0.000000  ...   \n",
       "            cid251                    0.0              0.000000  ...   \n",
       "            cid21                     0.0              0.000000  ...   \n",
       "            cid211                    0.0              0.000000  ...   \n",
       "            cid219                    0.0              0.000000  ...   \n",
       "            cid22                     0.0              0.000000  ...   \n",
       "Lmc_opsin   cid134                    0.0              0.008130  ...   \n",
       "            cid145                    0.0              0.040650  ...   \n",
       "            cid148                    0.0              0.000000  ...   \n",
       "            cid156                    0.0              0.000000  ...   \n",
       "            cid238                    0.0              0.000000  ...   \n",
       "            cid52                     0.0              0.000000  ...   \n",
       "            cid91                     0.0              0.000000  ...   \n",
       "            cid113                    0.0              0.000000  ...   \n",
       "            cid79                     0.0              0.000000  ...   \n",
       "            cid82                     0.0              0.000000  ...   \n",
       "            cid102                    0.0              0.000000  ...   \n",
       "            cid39                     0.0              0.008065  ...   \n",
       "            cid81                     0.0              0.040323  ...   \n",
       "            cid93                     0.0              0.000000  ...   \n",
       "\n",
       "                    Post_Pooled_early_std  Post_Pooled_late_std  \\\n",
       "Lmc_noopsin cid159               0.000800              0.001178   \n",
       "            cid169               0.000201              0.000425   \n",
       "            cid24                0.001528              0.003329   \n",
       "            cid244               0.000588              0.001252   \n",
       "            cid251               0.000747              0.001008   \n",
       "            cid21                0.000316              0.000918   \n",
       "            cid211               0.000781              0.001640   \n",
       "            cid219               0.000983              0.003574   \n",
       "            cid22                0.000245              0.001057   \n",
       "Lmc_opsin   cid134               0.000809              0.005643   \n",
       "            cid145               0.001572              0.007659   \n",
       "            cid148               0.000771              0.004504   \n",
       "            cid156               0.000137              0.002128   \n",
       "            cid238               0.000273              0.001749   \n",
       "            cid52                0.001214              0.005032   \n",
       "            cid91                0.000470              0.002535   \n",
       "            cid113               0.000572              0.002896   \n",
       "            cid79                0.000000              0.000351   \n",
       "            cid82                0.000600              0.002972   \n",
       "            cid102               0.001182              0.002401   \n",
       "            cid39                0.001971              0.006124   \n",
       "            cid81                0.005979              0.021542   \n",
       "            cid93                0.002041              0.006407   \n",
       "\n",
       "                    Post_Pooled_mean_std_early  Post_Pooled_mean_std_late  \\\n",
       "Lmc_noopsin cid159                    0.013351                   0.005220   \n",
       "            cid169                    0.000763                   0.000425   \n",
       "            cid24                     0.043026                   0.021757   \n",
       "            cid244                    0.006866                   0.004040   \n",
       "            cid251                    0.011444                   0.004787   \n",
       "            cid21                     0.001907                   0.003564   \n",
       "            cid211                    0.009231                   0.007960   \n",
       "            cid219                    0.017624                   0.016201   \n",
       "            cid22                     0.001144                   0.003504   \n",
       "Lmc_opsin   cid134                    0.009904                   0.041664   \n",
       "            cid145                    0.027298                   0.084928   \n",
       "            cid148                    0.007631                   0.040109   \n",
       "            cid156                    0.000372                   0.012925   \n",
       "            cid238                    0.001489                   0.010507   \n",
       "            cid52                     0.017871                   0.064094   \n",
       "            cid91                     0.003500                   0.016163   \n",
       "            cid113                    0.006010                   0.025580   \n",
       "            cid79                     0.000000                   0.000747   \n",
       "            cid82                     0.006743                   0.026593   \n",
       "            cid102                    0.025510                   0.011950   \n",
       "            cid39                     0.056744                   0.054891   \n",
       "            cid81                     0.230611                   0.157513   \n",
       "            cid93                     0.042085                   0.017015   \n",
       "\n",
       "                                           Post_Pooled_early_autocorr  \\\n",
       "Lmc_noopsin cid159  [0.0, 0.0, 0.0, 0.0, 0.0, 0.0, 0.0, 0.0, 0.0, ...   \n",
       "            cid169  [0.0, 0.0, 0.0, 0.0, 0.0, 0.0, 0.0, 0.0, 0.0, ...   \n",
       "            cid24   [0.0, 0.0, 0.0, 0.0, 0.0, 0.0, 0.0, 0.0, 0.0, ...   \n",
       "            cid244  [0.0, 0.0, 0.0, 0.0, 0.0, 0.0, 0.0, 0.0, 0.0, ...   \n",
       "            cid251  [0.0, 0.0, 0.0, 0.0, 0.0, 0.0, 0.0, 0.0, 0.0, ...   \n",
       "            cid21   [0.0, 0.0, 0.0, 0.0, 0.0, 0.0, 0.0, 0.0, 0.0, ...   \n",
       "            cid211  [0.0, 0.0, 0.0, 0.0, 0.0, 0.0, 0.0, 0.0, 0.0, ...   \n",
       "            cid219  [0.0, 0.0, 0.0, 0.0, 0.0, 0.0, 0.0, 0.0, 0.0, ...   \n",
       "            cid22   [0.0, 0.0, 0.0, 0.0, 0.0, 0.0, 0.0, 0.0, 0.0, ...   \n",
       "Lmc_opsin   cid134  [0.0, 0.0, 0.0, 0.0, 0.0, 0.0, 0.0, 0.0, 0.0, ...   \n",
       "            cid145  [0.0, 2.1220009053870528e-05, 0.0, 0.0, 7.0733...   \n",
       "            cid148  [0.0, 0.0, 0.0, 0.0, 0.0, 0.0, 0.0, 0.0, 0.0, ...   \n",
       "            cid156  [0.0, 0.0, 0.0, 0.0, 0.0, 0.0, 0.0, 0.0, 0.0, ...   \n",
       "            cid238  [0.0, 0.0, 0.0, 0.0, 0.0, 0.0, 0.0, 0.0, 0.0, ...   \n",
       "            cid52   [0.0, 0.0, 0.0, 0.0, 0.0, 0.0, 0.0, 0.0, 0.0, ...   \n",
       "            cid91   [0.0, 0.0, 0.0, 0.0, 0.0, 0.0, 0.0, 0.0, 0.0, ...   \n",
       "            cid113  [0.0, 0.0, 0.0, 0.0, 0.0, 0.0, 0.0, 0.0, 0.0, ...   \n",
       "            cid79   [0.0, 0.0, 0.0, 0.0, 0.0, 0.0, 0.0, 0.0, 0.0, ...   \n",
       "            cid82   [0.0, 0.0, 0.0, 0.0, 0.0, 0.0, 0.0, 0.0, 0.0, ...   \n",
       "            cid102  [0.0, 0.0, 7.035861787531045e-06, 0.0, 0.0, 0....   \n",
       "            cid39   [0.0, 0.0, 0.0, 0.0, 0.0, 7.035861787531045e-0...   \n",
       "            cid81   [0.00011257378860049672, 0.0002251475772009934...   \n",
       "            cid93   [0.0, 0.0, 0.0, 0.0, 0.0, 0.0, 0.0, 0.0, 0.0, ...   \n",
       "\n",
       "                                            Post_Pooled_late_autocorr  \\\n",
       "Lmc_noopsin cid159  [0.0, 0.0, 0.0, 0.0, 0.0, 0.0, 0.0, 0.0, 0.0, ...   \n",
       "            cid169  [0.0, 0.0, 0.0, 0.0, 0.0, 0.0, 0.0, 0.0, 0.0, ...   \n",
       "            cid24   [2.2273533844634675e-05, 1.4849022563089783e-0...   \n",
       "            cid244  [0.0, 0.0, 0.0, 0.0, 7.424511281544892e-06, 0....   \n",
       "            cid251  [0.0, 0.0, 0.0, 0.0, 0.0, 0.0, 0.0, 0.0, 0.0, ...   \n",
       "            cid21   [0.0, 0.0, 0.0, 0.0, 0.0, 0.0, 0.0, 0.0, 0.0, ...   \n",
       "            cid211  [0.0, 0.0, 0.0, 0.0, 0.0, 7.424511281544892e-0...   \n",
       "            cid219  [0.0, 7.424511281544892e-06, 0.0, 0.0, 0.0, 7....   \n",
       "            cid22   [0.0, 0.0, 0.0, 0.0, 0.0, 0.0, 0.0, 0.0, 0.0, ...   \n",
       "Lmc_opsin   cid134  [0.0, 1.4146672702580353e-05, 2.82933454051607...   \n",
       "            cid145  [5.658669081032141e-05, 0.00042440018107741057...   \n",
       "            cid148  [0.0, 5.658669081032141e-05, 0.000127320054323...   \n",
       "            cid156  [0.0, 0.0, 0.0, 0.0, 0.0, 0.0, 0.0, 0.0, 0.0, ...   \n",
       "            cid238  [0.0, 0.0, 0.0, 0.0, 0.0, 0.0, 0.0, 0.0, 0.0, ...   \n",
       "            cid52   [4.2440018107741056e-05, 0.0001626867360796740...   \n",
       "            cid91   [0.0, 0.0, 0.0, 0.0, 0.0, 0.0, 0.0, 0.0, 0.0, ...   \n",
       "            cid113  [0.0, 0.0, 0.0, 0.0, 4.111729393382857e-05, 7....   \n",
       "            cid79   [0.0, 0.0, 0.0, 0.0, 0.0, 0.0, 0.0, 0.0, 0.0, ...   \n",
       "            cid82   [0.0, 0.0, 0.0, 2.0558646966914285e-05, 2.7411...   \n",
       "            cid102  [0.0, 0.0, 0.0, 0.0, 7.035861787531045e-06, 0....   \n",
       "            cid39   [6.332275608777941e-05, 2.1107585362593138e-05...   \n",
       "            cid81   [0.0040104412188926965, 0.004418521202569497, ...   \n",
       "            cid93   [0.0, 0.0, 0.0, 0.0, 0.0, 0.0, 0.0, 0.0, 0.0, ...   \n",
       "\n",
       "                    Post_Pooled_Pearson_Correlation  Post_Pooled_P_value  \\\n",
       "Lmc_noopsin cid159                         0.022329         6.698526e-01   \n",
       "            cid169                         0.468029         2.237358e-21   \n",
       "            cid24                          0.166742         1.346410e-03   \n",
       "            cid244                         0.076690         1.425601e-01   \n",
       "            cid251                         0.113973         2.903053e-02   \n",
       "            cid21                          0.245785         1.881006e-06   \n",
       "            cid211                         0.012094         8.173849e-01   \n",
       "            cid219                         0.246235         1.798863e-06   \n",
       "            cid22                         -0.023585         6.524625e-01   \n",
       "Lmc_opsin   cid134                         0.203340         7.146678e-05   \n",
       "            cid145                         0.047663         3.567035e-01   \n",
       "            cid148                         0.060552         2.414708e-01   \n",
       "            cid156                        -0.026261         6.117300e-01   \n",
       "            cid238                        -0.009646         8.521139e-01   \n",
       "            cid52                          0.012973         8.020295e-01   \n",
       "            cid91                          0.011173         8.290394e-01   \n",
       "            cid113                         0.068842         1.793747e-01   \n",
       "            cid79                               NaN                  NaN   \n",
       "            cid82                          0.069348         1.761915e-01   \n",
       "            cid102                         0.120823         1.893642e-02   \n",
       "            cid39                          0.281437         2.711231e-08   \n",
       "            cid81                          0.133620         9.391024e-03   \n",
       "            cid93                          0.198920         1.008973e-04   \n",
       "\n",
       "                    Post_Pooled_mean_response_difference  \\\n",
       "Lmc_noopsin cid159                              0.000126   \n",
       "            cid169                              0.000022   \n",
       "            cid24                               0.001284   \n",
       "            cid244                              0.000200   \n",
       "            cid251                              0.000119   \n",
       "            cid21                               0.000223   \n",
       "            cid211                              0.000460   \n",
       "            cid219                              0.001418   \n",
       "            cid22                               0.000252   \n",
       "Lmc_opsin   cid134                              0.004350   \n",
       "            cid145                              0.012569   \n",
       "            cid148                              0.004095   \n",
       "            cid156                              0.001075   \n",
       "            cid238                              0.000799   \n",
       "            cid52                               0.007519   \n",
       "            cid91                               0.001337   \n",
       "            cid113                              0.002138   \n",
       "            cid79                               0.000048   \n",
       "            cid82                               0.002227   \n",
       "            cid102                              0.000563   \n",
       "            cid39                               0.005657   \n",
       "            cid81                               0.034659   \n",
       "            cid93                               0.001534   \n",
       "\n",
       "                    Post_Pooled_fold_change  \n",
       "Lmc_noopsin cid159                 1.485714  \n",
       "            cid169                 2.500000  \n",
       "            cid24                  2.418033  \n",
       "            cid244                 2.500000  \n",
       "            cid251                 1.533333  \n",
       "            cid21                  7.000000  \n",
       "            cid211                 3.384615  \n",
       "            cid219                 4.979167  \n",
       "            cid22                 12.333333  \n",
       "Lmc_opsin   cid134                22.206897  \n",
       "            cid145                21.193182  \n",
       "            cid148                26.173913  \n",
       "            cid156               153.000000  \n",
       "            cid238                29.250000  \n",
       "            cid52                 19.649123  \n",
       "            cid91                 19.900000  \n",
       "            cid113                19.352941  \n",
       "            cid79                       NaN  \n",
       "            cid82                 18.105263  \n",
       "            cid102                 2.095890  \n",
       "            cid39                  5.417582  \n",
       "            cid81                  4.692654  \n",
       "            cid93                  2.503448  \n",
       "\n",
       "[23 rows x 182 columns]"
      ]
     },
     "execution_count": 10,
     "metadata": {},
     "output_type": "execute_result"
    }
   ],
   "source": [
    "result_df"
   ]
  },
  {
   "cell_type": "code",
   "execution_count": 34,
   "metadata": {},
   "outputs": [
    {
     "name": "stdout",
     "output_type": "stream",
     "text": [
      "Index(['Pre_Zero_early_std', 'Pre_Zero_late_std', 'Pre_Zero_mean_std_early',\n",
      "       'Pre_Zero_mean_std_late', 'Pre_Low_early_std', 'Pre_Low_late_std',\n",
      "       'Pre_Low_mean_std_early', 'Pre_Low_mean_std_late', 'Pre_Mid_early_std',\n",
      "       'Pre_Mid_late_std', 'Pre_Mid_mean_std_early', 'Pre_Mid_mean_std_late',\n",
      "       'Pre_Max_early_std', 'Pre_Max_late_std', 'Pre_Max_mean_std_early',\n",
      "       'Pre_Max_mean_std_late', 'Pre_Pooled_early_std', 'Pre_Pooled_late_std',\n",
      "       'Pre_Pooled_mean_std_early', 'Pre_Pooled_mean_std_late',\n",
      "       'Post_Zero_early_std', 'Post_Zero_late_std', 'Post_Zero_mean_std_early',\n",
      "       'Post_Zero_mean_std_late', 'Post_Low_early_std', 'Post_Low_late_std',\n",
      "       'Post_Low_mean_std_early', 'Post_Low_mean_std_late',\n",
      "       'Post_Mid_early_std', 'Post_Mid_late_std', 'Post_Mid_mean_std_early',\n",
      "       'Post_Mid_mean_std_late', 'Post_Max_early_std', 'Post_Max_late_std',\n",
      "       'Post_Max_mean_std_early', 'Post_Max_mean_std_late',\n",
      "       'Post_Pooled_early_std', 'Post_Pooled_late_std',\n",
      "       'Post_Pooled_mean_std_early', 'Post_Pooled_mean_std_late'],\n",
      "      dtype='object')\n"
     ]
    }
   ],
   "source": [
    "#query the data frame to get columns names with 'fold_change' in them\n",
    "result_df.filter(like='fold_change', axis=1)\n",
    "\n",
    "#print the columns names with 'fold_change' in them\n",
    "print(result_df.filter(like='std', axis=1).columns)"
   ]
  },
  {
   "cell_type": "code",
   "execution_count": 12,
   "metadata": {},
   "outputs": [
    {
     "name": "stderr",
     "output_type": "stream",
     "text": [
      "/var/folders/ws/rz9dhstn6hbcglgm5d7dxjdw0000gq/T/ipykernel_98054/1689641937.py:231: MatplotlibDeprecationWarning: Unable to determine Axes to steal space for Colorbar. Using gca(), but will raise in the future. Either provide the *cax* argument to use as the Axes for the Colorbar, provide the *ax* argument to steal space from it, or add *mappable* to an Axes.\n",
      "  plt.colorbar(sm)\n"
     ]
    },
    {
     "data": {
      "image/png": "[encoded data removed]",
      "text/plain": [
       "<Figure size 1000x600 with 2 Axes>"
      ]
     },
     "metadata": {},
     "output_type": "display_data"
    }
   ],
   "source": [
    "# Plot the ranked units based on a specific metric\n",
    "analysis_instance.plot_ranked_units('Lmc_opsin', 'Post_Mid_fold_change', ascending=True)"
   ]
  },
  {
   "cell_type": "code",
   "execution_count": 13,
   "metadata": {},
   "outputs": [
    {
     "data": {
      "image/png": "[encoded data removed]",
      "text/plain": [
       "<Figure size 800x400 with 2 Axes>"
      ]
     },
     "metadata": {},
     "output_type": "display_data"
    }
   ],
   "source": [
    "#plot the mean firing rate for the mid stimulation level\n",
    "analysis_instance.plot_mean_firing('Low', group_name='Lmc_opsin')"
   ]
  },
  {
   "cell_type": "code",
   "execution_count": 14,
   "metadata": {},
   "outputs": [
    {
     "data": {
      "image/png": "[encoded data removed]",
      "text/plain": [
       "<Figure size 800x400 with 2 Axes>"
      ]
     },
     "metadata": {},
     "output_type": "display_data"
    }
   ],
   "source": [
    "#plot the standard deviation for the mid stimulation level\n",
    "analysis_instance.plot_standard_deviation('Pooled', group_name='Lmc_opsin')"
   ]
  },
  {
   "cell_type": "code",
   "execution_count": null,
   "metadata": {},
   "outputs": [],
   "source": [
    "#now iterate for all the stims for the Lmc_opsin group and plot the mean firing rate\n",
    "for stim in ['Zero', 'Low', 'Mid', 'Max', 'Pooled']:\n",
    "    analysis_instance.plot_mean_firing(stim, group_name='Lmc_opsin')\n",
    "    "
   ]
  },
  {
   "cell_type": "code",
   "execution_count": null,
   "metadata": {},
   "outputs": [],
   "source": [
    "#repeat this for the standard deviation\n",
    "for stim in ['Zero', 'Low', 'Mid', 'Max', 'Pooled']:\n",
    "    analysis_instance.plot_standard_deviation(stim, group_name='Lmc_opsin')\n",
    "    "
   ]
  },
  {
   "cell_type": "code",
   "execution_count": null,
   "metadata": {},
   "outputs": [],
   "source": [
    "#now plot the fold change for the Lmc_opsin group\n",
    "for stim in ['Zero', 'Low', 'Mid', 'Max', 'Pooled']:\n",
    "    analysis_instance.plot_fold_change(stim, group_name='Lmc_opsin')"
   ]
  },
  {
   "cell_type": "code",
   "execution_count": 41,
   "metadata": {},
   "outputs": [
    {
     "data": {
      "application/vnd.plotly.v1+json": {
       "config": {
        "plotlyServerURL": "https://plot.ly"
       },
       "data": [
        {
         "hovertemplate": "Unit ID: cid134<br>Phase: %{x}<br>Fold Change: %{y}",
         "line": {
          "color": "grey"
         },
         "marker": {
          "color": "grey"
         },
         "mode": "lines+markers",
         "name": "cid134 Pre",
         "type": "scatter",
         "x": [
          1,
          2
         ],
         "y": [
          1,
          10.866666666666664
         ]
        },
        {
         "hovertemplate": "Unit ID: cid145<br>Phase: %{x}<br>Fold Change: %{y}",
         "line": {
          "color": "grey"
         },
         "marker": {
          "color": "grey"
         },
         "mode": "lines+markers",
         "name": "cid145 Pre",
         "type": "scatter",
         "x": [
          1,
          2
         ],
         "y": [
          1,
          11.46875
         ]
        },
        {
         "hovertemplate": "Unit ID: cid148<br>Phase: %{x}<br>Fold Change: %{y}",
         "line": {
          "color": "grey"
         },
         "marker": {
          "color": "grey"
         },
         "mode": "lines+markers",
         "name": "cid148 Pre",
         "type": "scatter",
         "x": [
          1,
          2
         ],
         "y": [
          1,
          12.615384615384617
         ]
        },
        {
         "hovertemplate": "Unit ID: cid156<br>Phase: %{x}<br>Fold Change: %{y}",
         "line": {
          "color": "grey"
         },
         "marker": {
          "color": "grey"
         },
         "mode": "lines+markers",
         "name": "cid156 Pre",
         "type": "scatter",
         "x": [
          1,
          2
         ],
         "y": [
          1,
          15.500000000000002
         ]
        },
        {
         "hovertemplate": "Unit ID: cid238<br>Phase: %{x}<br>Fold Change: %{y}",
         "line": {
          "color": "grey"
         },
         "marker": {
          "color": "grey"
         },
         "mode": "lines+markers",
         "name": "cid238 Pre",
         "type": "scatter",
         "x": [
          1,
          2
         ],
         "y": [
          1,
          5
         ]
        },
        {
         "hovertemplate": "Unit ID: cid52<br>Phase: %{x}<br>Fold Change: %{y}",
         "line": {
          "color": "grey"
         },
         "marker": {
          "color": "grey"
         },
         "mode": "lines+markers",
         "name": "cid52 Pre",
         "type": "scatter",
         "x": [
          1,
          2
         ],
         "y": [
          1,
          10.80952380952381
         ]
        },
        {
         "hovertemplate": "Unit ID: cid91<br>Phase: %{x}<br>Fold Change: %{y}",
         "line": {
          "color": "grey"
         },
         "marker": {
          "color": "grey"
         },
         "mode": "lines+markers",
         "name": "cid91 Pre",
         "type": "scatter",
         "x": [
          1,
          2
         ],
         "y": [
          1,
          24.999999999999996
         ]
        },
        {
         "hovertemplate": "Unit ID: cid113<br>Phase: %{x}<br>Fold Change: %{y}",
         "line": {
          "color": "grey"
         },
         "marker": {
          "color": "grey"
         },
         "mode": "lines+markers",
         "name": "cid113 Pre",
         "type": "scatter",
         "x": [
          1,
          2
         ],
         "y": [
          1,
          11.454545454545453
         ]
        },
        {
         "hovertemplate": "Unit ID: cid79<br>Phase: %{x}<br>Fold Change: %{y}",
         "line": {
          "color": "grey"
         },
         "marker": {
          "color": "grey"
         },
         "mode": "lines+markers",
         "name": "cid79 Pre",
         "type": "scatter",
         "x": [
          1,
          2
         ],
         "y": [
          1,
          6.999999999999999
         ]
        },
        {
         "hovertemplate": "Unit ID: cid82<br>Phase: %{x}<br>Fold Change: %{y}",
         "line": {
          "color": "grey"
         },
         "marker": {
          "color": "grey"
         },
         "mode": "lines+markers",
         "name": "cid82 Pre",
         "type": "scatter",
         "x": [
          1,
          2
         ],
         "y": [
          1,
          18
         ]
        },
        {
         "hovertemplate": "Unit ID: cid102<br>Phase: %{x}<br>Fold Change: %{y}",
         "line": {
          "color": "grey"
         },
         "marker": {
          "color": "grey"
         },
         "mode": "lines+markers",
         "name": "cid102 Pre",
         "type": "scatter",
         "x": [
          1,
          2
         ],
         "y": [
          1,
          4.571428571428571
         ]
        },
        {
         "hovertemplate": "Unit ID: cid39<br>Phase: %{x}<br>Fold Change: %{y}",
         "line": {
          "color": "grey"
         },
         "marker": {
          "color": "grey"
         },
         "mode": "lines+markers",
         "name": "cid39 Pre",
         "type": "scatter",
         "x": [
          1,
          2
         ],
         "y": [
          1,
          3.9672131147540988
         ]
        },
        {
         "hovertemplate": "Unit ID: cid81<br>Phase: %{x}<br>Fold Change: %{y}",
         "line": {
          "color": "grey"
         },
         "marker": {
          "color": "grey"
         },
         "mode": "lines+markers",
         "name": "cid81 Pre",
         "type": "scatter",
         "x": [
          1,
          2
         ],
         "y": [
          1,
          3.5181347150259064
         ]
        },
        {
         "hovertemplate": "Unit ID: cid93<br>Phase: %{x}<br>Fold Change: %{y}",
         "line": {
          "color": "grey"
         },
         "marker": {
          "color": "grey"
         },
         "mode": "lines+markers",
         "name": "cid93 Pre",
         "type": "scatter",
         "x": [
          1,
          2
         ],
         "y": [
          1,
          4.364963503649635
         ]
        },
        {
         "line": {
          "color": "red",
          "width": 2
         },
         "marker": {
          "color": "red"
         },
         "mode": "lines+markers",
         "name": "Grand Mean Pre",
         "type": "scatter",
         "x": [
          1,
          2
         ],
         "y": [
          1,
          10.295472175069913
         ]
        },
        {
         "hovertemplate": "Unit ID: cid134<br>Phase: %{x}<br>Fold Change: %{y}",
         "line": {
          "color": "blue"
         },
         "marker": {
          "color": "blue"
         },
         "mode": "lines+markers",
         "name": "cid134 Post",
         "type": "scatter",
         "x": [
          1,
          2
         ],
         "y": [
          1,
          22.206896551724142
         ]
        },
        {
         "hovertemplate": "Unit ID: cid145<br>Phase: %{x}<br>Fold Change: %{y}",
         "line": {
          "color": "blue"
         },
         "marker": {
          "color": "blue"
         },
         "mode": "lines+markers",
         "name": "cid145 Post",
         "type": "scatter",
         "x": [
          1,
          2
         ],
         "y": [
          1,
          21.19318181818182
         ]
        },
        {
         "hovertemplate": "Unit ID: cid148<br>Phase: %{x}<br>Fold Change: %{y}",
         "line": {
          "color": "blue"
         },
         "marker": {
          "color": "blue"
         },
         "mode": "lines+markers",
         "name": "cid148 Post",
         "type": "scatter",
         "x": [
          1,
          2
         ],
         "y": [
          1,
          26.17391304347826
         ]
        },
        {
         "hovertemplate": "Unit ID: cid156<br>Phase: %{x}<br>Fold Change: %{y}",
         "line": {
          "color": "blue"
         },
         "marker": {
          "color": "blue"
         },
         "mode": "lines+markers",
         "name": "cid156 Post",
         "type": "scatter",
         "x": [
          1,
          2
         ],
         "y": [
          1,
          152.99999999999997
         ]
        },
        {
         "hovertemplate": "Unit ID: cid238<br>Phase: %{x}<br>Fold Change: %{y}",
         "line": {
          "color": "blue"
         },
         "marker": {
          "color": "blue"
         },
         "mode": "lines+markers",
         "name": "cid238 Post",
         "type": "scatter",
         "x": [
          1,
          2
         ],
         "y": [
          1,
          29.25
         ]
        },
        {
         "hovertemplate": "Unit ID: cid52<br>Phase: %{x}<br>Fold Change: %{y}",
         "line": {
          "color": "blue"
         },
         "marker": {
          "color": "blue"
         },
         "mode": "lines+markers",
         "name": "cid52 Post",
         "type": "scatter",
         "x": [
          1,
          2
         ],
         "y": [
          1,
          19.649122807017545
         ]
        },
        {
         "hovertemplate": "Unit ID: cid91<br>Phase: %{x}<br>Fold Change: %{y}",
         "line": {
          "color": "blue"
         },
         "marker": {
          "color": "blue"
         },
         "mode": "lines+markers",
         "name": "cid91 Post",
         "type": "scatter",
         "x": [
          1,
          2
         ],
         "y": [
          1,
          19.900000000000002
         ]
        },
        {
         "hovertemplate": "Unit ID: cid113<br>Phase: %{x}<br>Fold Change: %{y}",
         "line": {
          "color": "blue"
         },
         "marker": {
          "color": "blue"
         },
         "mode": "lines+markers",
         "name": "cid113 Post",
         "type": "scatter",
         "x": [
          1,
          2
         ],
         "y": [
          1,
          19.35294117647058
         ]
        },
        {
         "hovertemplate": "Unit ID: cid79<br>Phase: %{x}<br>Fold Change: %{y}",
         "line": {
          "color": "blue"
         },
         "marker": {
          "color": "blue"
         },
         "mode": "lines+markers",
         "name": "cid79 Post",
         "type": "scatter",
         "x": [
          1,
          2
         ],
         "y": [
          1,
          null
         ]
        },
        {
         "hovertemplate": "Unit ID: cid82<br>Phase: %{x}<br>Fold Change: %{y}",
         "line": {
          "color": "blue"
         },
         "marker": {
          "color": "blue"
         },
         "mode": "lines+markers",
         "name": "cid82 Post",
         "type": "scatter",
         "x": [
          1,
          2
         ],
         "y": [
          1,
          18.105263157894733
         ]
        },
        {
         "hovertemplate": "Unit ID: cid102<br>Phase: %{x}<br>Fold Change: %{y}",
         "line": {
          "color": "blue"
         },
         "marker": {
          "color": "blue"
         },
         "mode": "lines+markers",
         "name": "cid102 Post",
         "type": "scatter",
         "x": [
          1,
          2
         ],
         "y": [
          1,
          2.095890410958904
         ]
        },
        {
         "hovertemplate": "Unit ID: cid39<br>Phase: %{x}<br>Fold Change: %{y}",
         "line": {
          "color": "blue"
         },
         "marker": {
          "color": "blue"
         },
         "mode": "lines+markers",
         "name": "cid39 Post",
         "type": "scatter",
         "x": [
          1,
          2
         ],
         "y": [
          1,
          5.417582417582416
         ]
        },
        {
         "hovertemplate": "Unit ID: cid81<br>Phase: %{x}<br>Fold Change: %{y}",
         "line": {
          "color": "blue"
         },
         "marker": {
          "color": "blue"
         },
         "mode": "lines+markers",
         "name": "cid81 Post",
         "type": "scatter",
         "x": [
          1,
          2
         ],
         "y": [
          1,
          4.692653673163417
         ]
        },
        {
         "hovertemplate": "Unit ID: cid93<br>Phase: %{x}<br>Fold Change: %{y}",
         "line": {
          "color": "blue"
         },
         "marker": {
          "color": "blue"
         },
         "mode": "lines+markers",
         "name": "cid93 Post",
         "type": "scatter",
         "x": [
          1,
          2
         ],
         "y": [
          1,
          2.503448275862069
         ]
        },
        {
         "line": {
          "color": "green",
          "width": 2
         },
         "marker": {
          "color": "green"
         },
         "mode": "lines+markers",
         "name": "Grand Mean Post",
         "type": "scatter",
         "x": [
          1,
          2
         ],
         "y": [
          1,
          26.426222564025686
         ]
        }
       ],
       "layout": {
        "height": 600,
        "template": {
         "data": {
          "bar": [
           {
            "error_x": {
             "color": "#2a3f5f"
            },
            "error_y": {
             "color": "#2a3f5f"
            },
            "marker": {
             "line": {
              "color": "white",
              "width": 0.5
             },
             "pattern": {
              "fillmode": "overlay",
              "size": 10,
              "solidity": 0.2
             }
            },
            "type": "bar"
           }
          ],
          "barpolar": [
           {
            "marker": {
             "line": {
              "color": "white",
              "width": 0.5
             },
             "pattern": {
              "fillmode": "overlay",
              "size": 10,
              "solidity": 0.2
             }
            },
            "type": "barpolar"
           }
          ],
          "carpet": [
           {
            "aaxis": {
             "endlinecolor": "#2a3f5f",
             "gridcolor": "#C8D4E3",
             "linecolor": "#C8D4E3",
             "minorgridcolor": "#C8D4E3",
             "startlinecolor": "#2a3f5f"
            },
            "baxis": {
             "endlinecolor": "#2a3f5f",
             "gridcolor": "#C8D4E3",
             "linecolor": "#C8D4E3",
             "minorgridcolor": "#C8D4E3",
             "startlinecolor": "#2a3f5f"
            },
            "type": "carpet"
           }
          ],
          "choropleth": [
           {
            "colorbar": {
             "outlinewidth": 0,
             "ticks": ""
            },
            "type": "choropleth"
           }
          ],
          "contour": [
           {
            "colorbar": {
             "outlinewidth": 0,
             "ticks": ""
            },
            "colorscale": [
             [
              0,
              "#0d0887"
             ],
             [
              0.1111111111111111,
              "#46039f"
             ],
             [
              0.2222222222222222,
              "#7201a8"
             ],
             [
              0.3333333333333333,
              "#9c179e"
             ],
             [
              0.4444444444444444,
              "#bd3786"
             ],
             [
              0.5555555555555556,
              "#d8576b"
             ],
             [
              0.6666666666666666,
              "#ed7953"
             ],
             [
              0.7777777777777778,
              "#fb9f3a"
             ],
             [
              0.8888888888888888,
              "#fdca26"
             ],
             [
              1,
              "#f0f921"
             ]
            ],
            "type": "contour"
           }
          ],
          "contourcarpet": [
           {
            "colorbar": {
             "outlinewidth": 0,
             "ticks": ""
            },
            "type": "contourcarpet"
           }
          ],
          "heatmap": [
           {
            "colorbar": {
             "outlinewidth": 0,
             "ticks": ""
            },
            "colorscale": [
             [
              0,
              "#0d0887"
             ],
             [
              0.1111111111111111,
              "#46039f"
             ],
             [
              0.2222222222222222,
              "#7201a8"
             ],
             [
              0.3333333333333333,
              "#9c179e"
             ],
             [
              0.4444444444444444,
              "#bd3786"
             ],
             [
              0.5555555555555556,
              "#d8576b"
             ],
             [
              0.6666666666666666,
              "#ed7953"
             ],
             [
              0.7777777777777778,
              "#fb9f3a"
             ],
             [
              0.8888888888888888,
              "#fdca26"
             ],
             [
              1,
              "#f0f921"
             ]
            ],
            "type": "heatmap"
           }
          ],
          "heatmapgl": [
           {
            "colorbar": {
             "outlinewidth": 0,
             "ticks": ""
            },
            "colorscale": [
             [
              0,
              "#0d0887"
             ],
             [
              0.1111111111111111,
              "#46039f"
             ],
             [
              0.2222222222222222,
              "#7201a8"
             ],
             [
              0.3333333333333333,
              "#9c179e"
             ],
             [
              0.4444444444444444,
              "#bd3786"
             ],
             [
              0.5555555555555556,
              "#d8576b"
             ],
             [
              0.6666666666666666,
              "#ed7953"
             ],
             [
              0.7777777777777778,
              "#fb9f3a"
             ],
             [
              0.8888888888888888,
              "#fdca26"
             ],
             [
              1,
              "#f0f921"
             ]
            ],
            "type": "heatmapgl"
           }
          ],
          "histogram": [
           {
            "marker": {
             "pattern": {
              "fillmode": "overlay",
              "size": 10,
              "solidity": 0.2
             }
            },
            "type": "histogram"
           }
          ],
          "histogram2d": [
           {
            "colorbar": {
             "outlinewidth": 0,
             "ticks": ""
            },
            "colorscale": [
             [
              0,
              "#0d0887"
             ],
             [
              0.1111111111111111,
              "#46039f"
             ],
             [
              0.2222222222222222,
              "#7201a8"
             ],
             [
              0.3333333333333333,
              "#9c179e"
             ],
             [
              0.4444444444444444,
              "#bd3786"
             ],
             [
              0.5555555555555556,
              "#d8576b"
             ],
             [
              0.6666666666666666,
              "#ed7953"
             ],
             [
              0.7777777777777778,
              "#fb9f3a"
             ],
             [
              0.8888888888888888,
              "#fdca26"
             ],
             [
              1,
              "#f0f921"
             ]
            ],
            "type": "histogram2d"
           }
          ],
          "histogram2dcontour": [
           {
            "colorbar": {
             "outlinewidth": 0,
             "ticks": ""
            },
            "colorscale": [
             [
              0,
              "#0d0887"
             ],
             [
              0.1111111111111111,
              "#46039f"
             ],
             [
              0.2222222222222222,
              "#7201a8"
             ],
             [
              0.3333333333333333,
              "#9c179e"
             ],
             [
              0.4444444444444444,
              "#bd3786"
             ],
             [
              0.5555555555555556,
              "#d8576b"
             ],
             [
              0.6666666666666666,
              "#ed7953"
             ],
             [
              0.7777777777777778,
              "#fb9f3a"
             ],
             [
              0.8888888888888888,
              "#fdca26"
             ],
             [
              1,
              "#f0f921"
             ]
            ],
            "type": "histogram2dcontour"
           }
          ],
          "mesh3d": [
           {
            "colorbar": {
             "outlinewidth": 0,
             "ticks": ""
            },
            "type": "mesh3d"
           }
          ],
          "parcoords": [
           {
            "line": {
             "colorbar": {
              "outlinewidth": 0,
              "ticks": ""
             }
            },
            "type": "parcoords"
           }
          ],
          "pie": [
           {
            "automargin": true,
            "type": "pie"
           }
          ],
          "scatter": [
           {
            "fillpattern": {
             "fillmode": "overlay",
             "size": 10,
             "solidity": 0.2
            },
            "type": "scatter"
           }
          ],
          "scatter3d": [
           {
            "line": {
             "colorbar": {
              "outlinewidth": 0,
              "ticks": ""
             }
            },
            "marker": {
             "colorbar": {
              "outlinewidth": 0,
              "ticks": ""
             }
            },
            "type": "scatter3d"
           }
          ],
          "scattercarpet": [
           {
            "marker": {
             "colorbar": {
              "outlinewidth": 0,
              "ticks": ""
             }
            },
            "type": "scattercarpet"
           }
          ],
          "scattergeo": [
           {
            "marker": {
             "colorbar": {
              "outlinewidth": 0,
              "ticks": ""
             }
            },
            "type": "scattergeo"
           }
          ],
          "scattergl": [
           {
            "marker": {
             "colorbar": {
              "outlinewidth": 0,
              "ticks": ""
             }
            },
            "type": "scattergl"
           }
          ],
          "scattermapbox": [
           {
            "marker": {
             "colorbar": {
              "outlinewidth": 0,
              "ticks": ""
             }
            },
            "type": "scattermapbox"
           }
          ],
          "scatterpolar": [
           {
            "marker": {
             "colorbar": {
              "outlinewidth": 0,
              "ticks": ""
             }
            },
            "type": "scatterpolar"
           }
          ],
          "scatterpolargl": [
           {
            "marker": {
             "colorbar": {
              "outlinewidth": 0,
              "ticks": ""
             }
            },
            "type": "scatterpolargl"
           }
          ],
          "scatterternary": [
           {
            "marker": {
             "colorbar": {
              "outlinewidth": 0,
              "ticks": ""
             }
            },
            "type": "scatterternary"
           }
          ],
          "surface": [
           {
            "colorbar": {
             "outlinewidth": 0,
             "ticks": ""
            },
            "colorscale": [
             [
              0,
              "#0d0887"
             ],
             [
              0.1111111111111111,
              "#46039f"
             ],
             [
              0.2222222222222222,
              "#7201a8"
             ],
             [
              0.3333333333333333,
              "#9c179e"
             ],
             [
              0.4444444444444444,
              "#bd3786"
             ],
             [
              0.5555555555555556,
              "#d8576b"
             ],
             [
              0.6666666666666666,
              "#ed7953"
             ],
             [
              0.7777777777777778,
              "#fb9f3a"
             ],
             [
              0.8888888888888888,
              "#fdca26"
             ],
             [
              1,
              "#f0f921"
             ]
            ],
            "type": "surface"
           }
          ],
          "table": [
           {
            "cells": {
             "fill": {
              "color": "#EBF0F8"
             },
             "line": {
              "color": "white"
             }
            },
            "header": {
             "fill": {
              "color": "#C8D4E3"
             },
             "line": {
              "color": "white"
             }
            },
            "type": "table"
           }
          ]
         },
         "layout": {
          "annotationdefaults": {
           "arrowcolor": "#2a3f5f",
           "arrowhead": 0,
           "arrowwidth": 1
          },
          "autotypenumbers": "strict",
          "coloraxis": {
           "colorbar": {
            "outlinewidth": 0,
            "ticks": ""
           }
          },
          "colorscale": {
           "diverging": [
            [
             0,
             "#8e0152"
            ],
            [
             0.1,
             "#c51b7d"
            ],
            [
             0.2,
             "#de77ae"
            ],
            [
             0.3,
             "#f1b6da"
            ],
            [
             0.4,
             "#fde0ef"
            ],
            [
             0.5,
             "#f7f7f7"
            ],
            [
             0.6,
             "#e6f5d0"
            ],
            [
             0.7,
             "#b8e186"
            ],
            [
             0.8,
             "#7fbc41"
            ],
            [
             0.9,
             "#4d9221"
            ],
            [
             1,
             "#276419"
            ]
           ],
           "sequential": [
            [
             0,
             "#0d0887"
            ],
            [
             0.1111111111111111,
             "#46039f"
            ],
            [
             0.2222222222222222,
             "#7201a8"
            ],
            [
             0.3333333333333333,
             "#9c179e"
            ],
            [
             0.4444444444444444,
             "#bd3786"
            ],
            [
             0.5555555555555556,
             "#d8576b"
            ],
            [
             0.6666666666666666,
             "#ed7953"
            ],
            [
             0.7777777777777778,
             "#fb9f3a"
            ],
            [
             0.8888888888888888,
             "#fdca26"
            ],
            [
             1,
             "#f0f921"
            ]
           ],
           "sequentialminus": [
            [
             0,
             "#0d0887"
            ],
            [
             0.1111111111111111,
             "#46039f"
            ],
            [
             0.2222222222222222,
             "#7201a8"
            ],
            [
             0.3333333333333333,
             "#9c179e"
            ],
            [
             0.4444444444444444,
             "#bd3786"
            ],
            [
             0.5555555555555556,
             "#d8576b"
            ],
            [
             0.6666666666666666,
             "#ed7953"
            ],
            [
             0.7777777777777778,
             "#fb9f3a"
            ],
            [
             0.8888888888888888,
             "#fdca26"
            ],
            [
             1,
             "#f0f921"
            ]
           ]
          },
          "colorway": [
           "#636efa",
           "#EF553B",
           "#00cc96",
           "#ab63fa",
           "#FFA15A",
           "#19d3f3",
           "#FF6692",
           "#B6E880",
           "#FF97FF",
           "#FECB52"
          ],
          "font": {
           "color": "#2a3f5f"
          },
          "geo": {
           "bgcolor": "white",
           "lakecolor": "white",
           "landcolor": "white",
           "showlakes": true,
           "showland": true,
           "subunitcolor": "#C8D4E3"
          },
          "hoverlabel": {
           "align": "left"
          },
          "hovermode": "closest",
          "mapbox": {
           "style": "light"
          },
          "paper_bgcolor": "white",
          "plot_bgcolor": "white",
          "polar": {
           "angularaxis": {
            "gridcolor": "#EBF0F8",
            "linecolor": "#EBF0F8",
            "ticks": ""
           },
           "bgcolor": "white",
           "radialaxis": {
            "gridcolor": "#EBF0F8",
            "linecolor": "#EBF0F8",
            "ticks": ""
           }
          },
          "scene": {
           "xaxis": {
            "backgroundcolor": "white",
            "gridcolor": "#DFE8F3",
            "gridwidth": 2,
            "linecolor": "#EBF0F8",
            "showbackground": true,
            "ticks": "",
            "zerolinecolor": "#EBF0F8"
           },
           "yaxis": {
            "backgroundcolor": "white",
            "gridcolor": "#DFE8F3",
            "gridwidth": 2,
            "linecolor": "#EBF0F8",
            "showbackground": true,
            "ticks": "",
            "zerolinecolor": "#EBF0F8"
           },
           "zaxis": {
            "backgroundcolor": "white",
            "gridcolor": "#DFE8F3",
            "gridwidth": 2,
            "linecolor": "#EBF0F8",
            "showbackground": true,
            "ticks": "",
            "zerolinecolor": "#EBF0F8"
           }
          },
          "shapedefaults": {
           "line": {
            "color": "#2a3f5f"
           }
          },
          "ternary": {
           "aaxis": {
            "gridcolor": "#DFE8F3",
            "linecolor": "#A2B1C6",
            "ticks": ""
           },
           "baxis": {
            "gridcolor": "#DFE8F3",
            "linecolor": "#A2B1C6",
            "ticks": ""
           },
           "bgcolor": "white",
           "caxis": {
            "gridcolor": "#DFE8F3",
            "linecolor": "#A2B1C6",
            "ticks": ""
           }
          },
          "title": {
           "x": 0.05
          },
          "xaxis": {
           "automargin": true,
           "gridcolor": "#EBF0F8",
           "linecolor": "#EBF0F8",
           "ticks": "",
           "title": {
            "standoff": 15
           },
           "zerolinecolor": "#EBF0F8",
           "zerolinewidth": 2
          },
          "yaxis": {
           "automargin": true,
           "gridcolor": "#EBF0F8",
           "linecolor": "#EBF0F8",
           "ticks": "",
           "title": {
            "standoff": 15
           },
           "zerolinecolor": "#EBF0F8",
           "zerolinewidth": 2
          }
         }
        },
        "title": {
         "text": "Fold Change with Pooled Stimulation for group Lmc_opsin"
        },
        "updatemenus": [
         {
          "buttons": [
           {
            "args": [
             {
              "visible": [
               true,
               true,
               true,
               true,
               true,
               true,
               true,
               true,
               true,
               true,
               true,
               true,
               true,
               true,
               true,
               true,
               true,
               true,
               true,
               true,
               true,
               true,
               true,
               true,
               true,
               true,
               true,
               true,
               true,
               true
              ]
             }
            ],
            "label": "Both",
            "method": "update"
           },
           {
            "args": [
             {
              "visible": [
               true,
               true,
               true,
               true,
               true,
               true,
               true,
               true,
               true,
               true,
               true,
               true,
               true,
               true,
               true,
               false,
               false,
               false,
               false,
               false,
               false,
               false,
               false,
               false,
               false,
               false,
               false,
               false,
               false,
               false
              ]
             }
            ],
            "label": "Pre",
            "method": "update"
           },
           {
            "args": [
             {
              "visible": [
               false,
               false,
               false,
               false,
               false,
               false,
               false,
               false,
               false,
               false,
               false,
               false,
               false,
               false,
               false,
               true,
               true,
               true,
               true,
               true,
               true,
               true,
               true,
               true,
               true,
               true,
               true,
               true,
               true,
               true
              ]
             }
            ],
            "label": "Post",
            "method": "update"
           }
          ],
          "x": 1.15,
          "xanchor": "left",
          "y": 1.2,
          "yanchor": "top"
         }
        ],
        "width": 800,
        "xaxis": {
         "ticktext": [
          "Baseline",
          "Fold Change"
         ],
         "tickvals": [
          1,
          2
         ],
         "title": {
          "text": "Phase"
         }
        },
        "yaxis": {
         "title": {
          "text": "Fold Change"
         }
        }
       }
      }
     },
     "metadata": {},
     "output_type": "display_data"
    }
   ],
   "source": [
    "analysis_instance.plot_fold_change_plotly('Pooled', group_name='Lmc_opsin')"
   ]
  },
  {
   "cell_type": "code",
   "execution_count": 47,
   "metadata": {},
   "outputs": [
    {
     "data": {
      "application/vnd.plotly.v1+json": {
       "config": {
        "plotlyServerURL": "https://plot.ly"
       },
       "data": [
        {
         "hovertemplate": "Unit ID: cid134<br>Phase: %{x}<br>Std Dev: %{y}",
         "line": {
          "color": "grey"
         },
         "marker": {
          "color": "grey"
         },
         "mode": "lines+markers",
         "name": "cid134 Pre",
         "type": "scatter",
         "x": [
          "Early",
          "Late"
         ],
         "y": [
          0.0029798055176364904,
          0.014138916746797547
         ]
        },
        {
         "hovertemplate": "Unit ID: cid145<br>Phase: %{x}<br>Std Dev: %{y}",
         "line": {
          "color": "grey"
         },
         "marker": {
          "color": "grey"
         },
         "mode": "lines+markers",
         "name": "cid145 Pre",
         "type": "scatter",
         "x": [
          "Early",
          "Late"
         ],
         "y": [
          0.005456956029209254,
          0.027303957766779005
         ]
        },
        {
         "hovertemplate": "Unit ID: cid148<br>Phase: %{x}<br>Std Dev: %{y}",
         "line": {
          "color": "grey"
         },
         "marker": {
          "color": "grey"
         },
         "mode": "lines+markers",
         "name": "cid148 Pre",
         "type": "scatter",
         "x": [
          "Early",
          "Late"
         ],
         "y": [
          0.0024971535912436914,
          0.0140700304726567
         ]
        },
        {
         "hovertemplate": "Unit ID: cid156<br>Phase: %{x}<br>Std Dev: %{y}",
         "line": {
          "color": "grey"
         },
         "marker": {
          "color": "grey"
         },
         "mode": "lines+markers",
         "name": "cid156 Pre",
         "type": "scatter",
         "x": [
          "Early",
          "Late"
         ],
         "y": [
          0,
          0.003697159609896641
         ]
        },
        {
         "hovertemplate": "Unit ID: cid238<br>Phase: %{x}<br>Std Dev: %{y}",
         "line": {
          "color": "grey"
         },
         "marker": {
          "color": "grey"
         },
         "mode": "lines+markers",
         "name": "cid238 Pre",
         "type": "scatter",
         "x": [
          "Early",
          "Late"
         ],
         "y": [
          0,
          0.0014981051954049897
         ]
        },
        {
         "hovertemplate": "Unit ID: cid52<br>Phase: %{x}<br>Std Dev: %{y}",
         "line": {
          "color": "grey"
         },
         "marker": {
          "color": "grey"
         },
         "mode": "lines+markers",
         "name": "cid52 Pre",
         "type": "scatter",
         "x": [
          "Early",
          "Late"
         ],
         "y": [
          0.0021037146549859383,
          0.012248520710059172
         ]
        },
        {
         "hovertemplate": "Unit ID: cid91<br>Phase: %{x}<br>Std Dev: %{y}",
         "line": {
          "color": "grey"
         },
         "marker": {
          "color": "grey"
         },
         "mode": "lines+markers",
         "name": "cid91 Pre",
         "type": "scatter",
         "x": [
          "Early",
          "Late"
         ],
         "y": [
          0.0006720601592663045,
          0.0025581025232209813
         ]
        },
        {
         "hovertemplate": "Unit ID: cid113<br>Phase: %{x}<br>Std Dev: %{y}",
         "line": {
          "color": "grey"
         },
         "marker": {
          "color": "grey"
         },
         "mode": "lines+markers",
         "name": "cid113 Pre",
         "type": "scatter",
         "x": [
          "Early",
          "Late"
         ],
         "y": [
          0.0011549835086356885,
          0.005158799649438366
         ]
        },
        {
         "hovertemplate": "Unit ID: cid79<br>Phase: %{x}<br>Std Dev: %{y}",
         "line": {
          "color": "grey"
         },
         "marker": {
          "color": "grey"
         },
         "mode": "lines+markers",
         "name": "cid79 Pre",
         "type": "scatter",
         "x": [
          "Early",
          "Late"
         ],
         "y": [
          0,
          0.0014981051954049897
         ]
        },
        {
         "hovertemplate": "Unit ID: cid82<br>Phase: %{x}<br>Std Dev: %{y}",
         "line": {
          "color": "grey"
         },
         "marker": {
          "color": "grey"
         },
         "mode": "lines+markers",
         "name": "cid82 Pre",
         "type": "scatter",
         "x": [
          "Early",
          "Late"
         ],
         "y": [
          0.0009467455621301774,
          0.005106957956762894
         ]
        },
        {
         "hovertemplate": "Unit ID: cid102<br>Phase: %{x}<br>Std Dev: %{y}",
         "line": {
          "color": "grey"
         },
         "marker": {
          "color": "grey"
         },
         "mode": "lines+markers",
         "name": "cid102 Pre",
         "type": "scatter",
         "x": [
          "Early",
          "Late"
         ],
         "y": [
          0.0051613309173970424,
          0.054875394298271415
         ]
        },
        {
         "hovertemplate": "Unit ID: cid39<br>Phase: %{x}<br>Std Dev: %{y}",
         "line": {
          "color": "grey"
         },
         "marker": {
          "color": "grey"
         },
         "mode": "lines+markers",
         "name": "cid39 Pre",
         "type": "scatter",
         "x": [
          "Early",
          "Late"
         ],
         "y": [
          0.00580290314866725,
          0.018873239422249638
         ]
        },
        {
         "hovertemplate": "Unit ID: cid81<br>Phase: %{x}<br>Std Dev: %{y}",
         "line": {
          "color": "grey"
         },
         "marker": {
          "color": "grey"
         },
         "mode": "lines+markers",
         "name": "cid81 Pre",
         "type": "scatter",
         "x": [
          "Early",
          "Late"
         ],
         "y": [
          0.013834537905142517,
          0.05042678866463144
         ]
        },
        {
         "hovertemplate": "Unit ID: cid93<br>Phase: %{x}<br>Std Dev: %{y}",
         "line": {
          "color": "grey"
         },
         "marker": {
          "color": "grey"
         },
         "mode": "lines+markers",
         "name": "cid93 Pre",
         "type": "scatter",
         "x": [
          "Early",
          "Late"
         ],
         "y": [
          0.007012731672397946,
          0.061632462126560386
         ]
        },
        {
         "line": {
          "color": "red",
          "width": 2
         },
         "marker": {
          "color": "red"
         },
         "mode": "lines+markers",
         "name": "Mean Std Dev Pre",
         "type": "scatter",
         "x": [
          "Early",
          "Late"
         ],
         "y": [
          0.003401637333336593,
          0.01950618145272387
         ]
        },
        {
         "hovertemplate": "Unit ID: cid134<br>Phase: %{x}<br>Std Dev: %{y}",
         "line": {
          "color": "blue"
         },
         "marker": {
          "color": "blue"
         },
         "mode": "lines+markers",
         "name": "cid134 Post",
         "type": "scatter",
         "x": [
          "Early",
          "Late"
         ],
         "y": [
          0.002399209004379498,
          0.014858782857582528
         ]
        },
        {
         "hovertemplate": "Unit ID: cid145<br>Phase: %{x}<br>Std Dev: %{y}",
         "line": {
          "color": "blue"
         },
         "marker": {
          "color": "blue"
         },
         "mode": "lines+markers",
         "name": "cid145 Post",
         "type": "scatter",
         "x": [
          "Early",
          "Late"
         ],
         "y": [
          0.005196797619972866,
          0.025322596381051544
         ]
        },
        {
         "hovertemplate": "Unit ID: cid148<br>Phase: %{x}<br>Std Dev: %{y}",
         "line": {
          "color": "blue"
         },
         "marker": {
          "color": "blue"
         },
         "mode": "lines+markers",
         "name": "cid148 Post",
         "type": "scatter",
         "x": [
          "Early",
          "Late"
         ],
         "y": [
          0.003067244542381876,
          0.012830400515708523
         ]
        },
        {
         "hovertemplate": "Unit ID: cid156<br>Phase: %{x}<br>Std Dev: %{y}",
         "line": {
          "color": "blue"
         },
         "marker": {
          "color": "blue"
         },
         "mode": "lines+markers",
         "name": "cid156 Post",
         "type": "scatter",
         "x": [
          "Early",
          "Late"
         ],
         "y": [
          0,
          0.0065492749871749485
         ]
        },
        {
         "hovertemplate": "Unit ID: cid238<br>Phase: %{x}<br>Std Dev: %{y}",
         "line": {
          "color": "blue"
         },
         "marker": {
          "color": "blue"
         },
         "mode": "lines+markers",
         "name": "cid238 Post",
         "type": "scatter",
         "x": [
          "Early",
          "Late"
         ],
         "y": [
          0.0007768352360235542,
          0.004892096054560874
         ]
        },
        {
         "hovertemplate": "Unit ID: cid52<br>Phase: %{x}<br>Std Dev: %{y}",
         "line": {
          "color": "blue"
         },
         "marker": {
          "color": "blue"
         },
         "mode": "lines+markers",
         "name": "cid52 Post",
         "type": "scatter",
         "x": [
          "Early",
          "Late"
         ],
         "y": [
          0.004316282447950796,
          0.016893829000194822
         ]
        },
        {
         "hovertemplate": "Unit ID: cid91<br>Phase: %{x}<br>Std Dev: %{y}",
         "line": {
          "color": "blue"
         },
         "marker": {
          "color": "blue"
         },
         "mode": "lines+markers",
         "name": "cid91 Post",
         "type": "scatter",
         "x": [
          "Early",
          "Late"
         ],
         "y": [
          0.001533622271190938,
          0.005955736809513915
         ]
        },
        {
         "hovertemplate": "Unit ID: cid113<br>Phase: %{x}<br>Std Dev: %{y}",
         "line": {
          "color": "blue"
         },
         "marker": {
          "color": "blue"
         },
         "mode": "lines+markers",
         "name": "cid113 Post",
         "type": "scatter",
         "x": [
          "Early",
          "Late"
         ],
         "y": [
          0.0023405971592156552,
          0.00972618966667311
         ]
        },
        {
         "hovertemplate": "Unit ID: cid79<br>Phase: %{x}<br>Std Dev: %{y}",
         "line": {
          "color": "blue"
         },
         "marker": {
          "color": "blue"
         },
         "mode": "lines+markers",
         "name": "cid79 Post",
         "type": "scatter",
         "x": [
          "Early",
          "Late"
         ],
         "y": [
          0,
          0.001495879113092918
         ]
        },
        {
         "hovertemplate": "Unit ID: cid82<br>Phase: %{x}<br>Std Dev: %{y}",
         "line": {
          "color": "blue"
         },
         "marker": {
          "color": "blue"
         },
         "mode": "lines+markers",
         "name": "cid82 Post",
         "type": "scatter",
         "x": [
          "Early",
          "Late"
         ],
         "y": [
          0.0023405971592156552,
          0.009682209327892875
         ]
        },
        {
         "hovertemplate": "Unit ID: cid102<br>Phase: %{x}<br>Std Dev: %{y}",
         "line": {
          "color": "blue"
         },
         "marker": {
          "color": "blue"
         },
         "mode": "lines+markers",
         "name": "cid102 Post",
         "type": "scatter",
         "x": [
          "Early",
          "Late"
         ],
         "y": [
          0.0016901496428569837,
          0.007159623198983533
         ]
        },
        {
         "hovertemplate": "Unit ID: cid39<br>Phase: %{x}<br>Std Dev: %{y}",
         "line": {
          "color": "blue"
         },
         "marker": {
          "color": "blue"
         },
         "mode": "lines+markers",
         "name": "cid39 Post",
         "type": "scatter",
         "x": [
          "Early",
          "Late"
         ],
         "y": [
          0.00542759131381144,
          0.017376513881440136
         ]
        },
        {
         "hovertemplate": "Unit ID: cid81<br>Phase: %{x}<br>Std Dev: %{y}",
         "line": {
          "color": "blue"
         },
         "marker": {
          "color": "blue"
         },
         "mode": "lines+markers",
         "name": "cid81 Post",
         "type": "scatter",
         "x": [
          "Early",
          "Late"
         ],
         "y": [
          0.017714348670080066,
          0.0647371502230067
         ]
        },
        {
         "hovertemplate": "Unit ID: cid93<br>Phase: %{x}<br>Std Dev: %{y}",
         "line": {
          "color": "blue"
         },
         "marker": {
          "color": "blue"
         },
         "mode": "lines+markers",
         "name": "cid93 Post",
         "type": "scatter",
         "x": [
          "Early",
          "Late"
         ],
         "y": [
          0.0040508781030016445,
          0.014552991054907578
         ]
        },
        {
         "line": {
          "color": "green",
          "width": 2
         },
         "marker": {
          "color": "green"
         },
         "mode": "lines+markers",
         "name": "Mean Std Dev Post",
         "type": "scatter",
         "x": [
          "Early",
          "Late"
         ],
         "y": [
          0.003632439512148641,
          0.015145233790841716
         ]
        }
       ],
       "layout": {
        "height": 600,
        "template": {
         "data": {
          "bar": [
           {
            "error_x": {
             "color": "#2a3f5f"
            },
            "error_y": {
             "color": "#2a3f5f"
            },
            "marker": {
             "line": {
              "color": "white",
              "width": 0.5
             },
             "pattern": {
              "fillmode": "overlay",
              "size": 10,
              "solidity": 0.2
             }
            },
            "type": "bar"
           }
          ],
          "barpolar": [
           {
            "marker": {
             "line": {
              "color": "white",
              "width": 0.5
             },
             "pattern": {
              "fillmode": "overlay",
              "size": 10,
              "solidity": 0.2
             }
            },
            "type": "barpolar"
           }
          ],
          "carpet": [
           {
            "aaxis": {
             "endlinecolor": "#2a3f5f",
             "gridcolor": "#C8D4E3",
             "linecolor": "#C8D4E3",
             "minorgridcolor": "#C8D4E3",
             "startlinecolor": "#2a3f5f"
            },
            "baxis": {
             "endlinecolor": "#2a3f5f",
             "gridcolor": "#C8D4E3",
             "linecolor": "#C8D4E3",
             "minorgridcolor": "#C8D4E3",
             "startlinecolor": "#2a3f5f"
            },
            "type": "carpet"
           }
          ],
          "choropleth": [
           {
            "colorbar": {
             "outlinewidth": 0,
             "ticks": ""
            },
            "type": "choropleth"
           }
          ],
          "contour": [
           {
            "colorbar": {
             "outlinewidth": 0,
             "ticks": ""
            },
            "colorscale": [
             [
              0,
              "#0d0887"
             ],
             [
              0.1111111111111111,
              "#46039f"
             ],
             [
              0.2222222222222222,
              "#7201a8"
             ],
             [
              0.3333333333333333,
              "#9c179e"
             ],
             [
              0.4444444444444444,
              "#bd3786"
             ],
             [
              0.5555555555555556,
              "#d8576b"
             ],
             [
              0.6666666666666666,
              "#ed7953"
             ],
             [
              0.7777777777777778,
              "#fb9f3a"
             ],
             [
              0.8888888888888888,
              "#fdca26"
             ],
             [
              1,
              "#f0f921"
             ]
            ],
            "type": "contour"
           }
          ],
          "contourcarpet": [
           {
            "colorbar": {
             "outlinewidth": 0,
             "ticks": ""
            },
            "type": "contourcarpet"
           }
          ],
          "heatmap": [
           {
            "colorbar": {
             "outlinewidth": 0,
             "ticks": ""
            },
            "colorscale": [
             [
              0,
              "#0d0887"
             ],
             [
              0.1111111111111111,
              "#46039f"
             ],
             [
              0.2222222222222222,
              "#7201a8"
             ],
             [
              0.3333333333333333,
              "#9c179e"
             ],
             [
              0.4444444444444444,
              "#bd3786"
             ],
             [
              0.5555555555555556,
              "#d8576b"
             ],
             [
              0.6666666666666666,
              "#ed7953"
             ],
             [
              0.7777777777777778,
              "#fb9f3a"
             ],
             [
              0.8888888888888888,
              "#fdca26"
             ],
             [
              1,
              "#f0f921"
             ]
            ],
            "type": "heatmap"
           }
          ],
          "heatmapgl": [
           {
            "colorbar": {
             "outlinewidth": 0,
             "ticks": ""
            },
            "colorscale": [
             [
              0,
              "#0d0887"
             ],
             [
              0.1111111111111111,
              "#46039f"
             ],
             [
              0.2222222222222222,
              "#7201a8"
             ],
             [
              0.3333333333333333,
              "#9c179e"
             ],
             [
              0.4444444444444444,
              "#bd3786"
             ],
             [
              0.5555555555555556,
              "#d8576b"
             ],
             [
              0.6666666666666666,
              "#ed7953"
             ],
             [
              0.7777777777777778,
              "#fb9f3a"
             ],
             [
              0.8888888888888888,
              "#fdca26"
             ],
             [
              1,
              "#f0f921"
             ]
            ],
            "type": "heatmapgl"
           }
          ],
          "histogram": [
           {
            "marker": {
             "pattern": {
              "fillmode": "overlay",
              "size": 10,
              "solidity": 0.2
             }
            },
            "type": "histogram"
           }
          ],
          "histogram2d": [
           {
            "colorbar": {
             "outlinewidth": 0,
             "ticks": ""
            },
            "colorscale": [
             [
              0,
              "#0d0887"
             ],
             [
              0.1111111111111111,
              "#46039f"
             ],
             [
              0.2222222222222222,
              "#7201a8"
             ],
             [
              0.3333333333333333,
              "#9c179e"
             ],
             [
              0.4444444444444444,
              "#bd3786"
             ],
             [
              0.5555555555555556,
              "#d8576b"
             ],
             [
              0.6666666666666666,
              "#ed7953"
             ],
             [
              0.7777777777777778,
              "#fb9f3a"
             ],
             [
              0.8888888888888888,
              "#fdca26"
             ],
             [
              1,
              "#f0f921"
             ]
            ],
            "type": "histogram2d"
           }
          ],
          "histogram2dcontour": [
           {
            "colorbar": {
             "outlinewidth": 0,
             "ticks": ""
            },
            "colorscale": [
             [
              0,
              "#0d0887"
             ],
             [
              0.1111111111111111,
              "#46039f"
             ],
             [
              0.2222222222222222,
              "#7201a8"
             ],
             [
              0.3333333333333333,
              "#9c179e"
             ],
             [
              0.4444444444444444,
              "#bd3786"
             ],
             [
              0.5555555555555556,
              "#d8576b"
             ],
             [
              0.6666666666666666,
              "#ed7953"
             ],
             [
              0.7777777777777778,
              "#fb9f3a"
             ],
             [
              0.8888888888888888,
              "#fdca26"
             ],
             [
              1,
              "#f0f921"
             ]
            ],
            "type": "histogram2dcontour"
           }
          ],
          "mesh3d": [
           {
            "colorbar": {
             "outlinewidth": 0,
             "ticks": ""
            },
            "type": "mesh3d"
           }
          ],
          "parcoords": [
           {
            "line": {
             "colorbar": {
              "outlinewidth": 0,
              "ticks": ""
             }
            },
            "type": "parcoords"
           }
          ],
          "pie": [
           {
            "automargin": true,
            "type": "pie"
           }
          ],
          "scatter": [
           {
            "fillpattern": {
             "fillmode": "overlay",
             "size": 10,
             "solidity": 0.2
            },
            "type": "scatter"
           }
          ],
          "scatter3d": [
           {
            "line": {
             "colorbar": {
              "outlinewidth": 0,
              "ticks": ""
             }
            },
            "marker": {
             "colorbar": {
              "outlinewidth": 0,
              "ticks": ""
             }
            },
            "type": "scatter3d"
           }
          ],
          "scattercarpet": [
           {
            "marker": {
             "colorbar": {
              "outlinewidth": 0,
              "ticks": ""
             }
            },
            "type": "scattercarpet"
           }
          ],
          "scattergeo": [
           {
            "marker": {
             "colorbar": {
              "outlinewidth": 0,
              "ticks": ""
             }
            },
            "type": "scattergeo"
           }
          ],
          "scattergl": [
           {
            "marker": {
             "colorbar": {
              "outlinewidth": 0,
              "ticks": ""
             }
            },
            "type": "scattergl"
           }
          ],
          "scattermapbox": [
           {
            "marker": {
             "colorbar": {
              "outlinewidth": 0,
              "ticks": ""
             }
            },
            "type": "scattermapbox"
           }
          ],
          "scatterpolar": [
           {
            "marker": {
             "colorbar": {
              "outlinewidth": 0,
              "ticks": ""
             }
            },
            "type": "scatterpolar"
           }
          ],
          "scatterpolargl": [
           {
            "marker": {
             "colorbar": {
              "outlinewidth": 0,
              "ticks": ""
             }
            },
            "type": "scatterpolargl"
           }
          ],
          "scatterternary": [
           {
            "marker": {
             "colorbar": {
              "outlinewidth": 0,
              "ticks": ""
             }
            },
            "type": "scatterternary"
           }
          ],
          "surface": [
           {
            "colorbar": {
             "outlinewidth": 0,
             "ticks": ""
            },
            "colorscale": [
             [
              0,
              "#0d0887"
             ],
             [
              0.1111111111111111,
              "#46039f"
             ],
             [
              0.2222222222222222,
              "#7201a8"
             ],
             [
              0.3333333333333333,
              "#9c179e"
             ],
             [
              0.4444444444444444,
              "#bd3786"
             ],
             [
              0.5555555555555556,
              "#d8576b"
             ],
             [
              0.6666666666666666,
              "#ed7953"
             ],
             [
              0.7777777777777778,
              "#fb9f3a"
             ],
             [
              0.8888888888888888,
              "#fdca26"
             ],
             [
              1,
              "#f0f921"
             ]
            ],
            "type": "surface"
           }
          ],
          "table": [
           {
            "cells": {
             "fill": {
              "color": "#EBF0F8"
             },
             "line": {
              "color": "white"
             }
            },
            "header": {
             "fill": {
              "color": "#C8D4E3"
             },
             "line": {
              "color": "white"
             }
            },
            "type": "table"
           }
          ]
         },
         "layout": {
          "annotationdefaults": {
           "arrowcolor": "#2a3f5f",
           "arrowhead": 0,
           "arrowwidth": 1
          },
          "autotypenumbers": "strict",
          "coloraxis": {
           "colorbar": {
            "outlinewidth": 0,
            "ticks": ""
           }
          },
          "colorscale": {
           "diverging": [
            [
             0,
             "#8e0152"
            ],
            [
             0.1,
             "#c51b7d"
            ],
            [
             0.2,
             "#de77ae"
            ],
            [
             0.3,
             "#f1b6da"
            ],
            [
             0.4,
             "#fde0ef"
            ],
            [
             0.5,
             "#f7f7f7"
            ],
            [
             0.6,
             "#e6f5d0"
            ],
            [
             0.7,
             "#b8e186"
            ],
            [
             0.8,
             "#7fbc41"
            ],
            [
             0.9,
             "#4d9221"
            ],
            [
             1,
             "#276419"
            ]
           ],
           "sequential": [
            [
             0,
             "#0d0887"
            ],
            [
             0.1111111111111111,
             "#46039f"
            ],
            [
             0.2222222222222222,
             "#7201a8"
            ],
            [
             0.3333333333333333,
             "#9c179e"
            ],
            [
             0.4444444444444444,
             "#bd3786"
            ],
            [
             0.5555555555555556,
             "#d8576b"
            ],
            [
             0.6666666666666666,
             "#ed7953"
            ],
            [
             0.7777777777777778,
             "#fb9f3a"
            ],
            [
             0.8888888888888888,
             "#fdca26"
            ],
            [
             1,
             "#f0f921"
            ]
           ],
           "sequentialminus": [
            [
             0,
             "#0d0887"
            ],
            [
             0.1111111111111111,
             "#46039f"
            ],
            [
             0.2222222222222222,
             "#7201a8"
            ],
            [
             0.3333333333333333,
             "#9c179e"
            ],
            [
             0.4444444444444444,
             "#bd3786"
            ],
            [
             0.5555555555555556,
             "#d8576b"
            ],
            [
             0.6666666666666666,
             "#ed7953"
            ],
            [
             0.7777777777777778,
             "#fb9f3a"
            ],
            [
             0.8888888888888888,
             "#fdca26"
            ],
            [
             1,
             "#f0f921"
            ]
           ]
          },
          "colorway": [
           "#636efa",
           "#EF553B",
           "#00cc96",
           "#ab63fa",
           "#FFA15A",
           "#19d3f3",
           "#FF6692",
           "#B6E880",
           "#FF97FF",
           "#FECB52"
          ],
          "font": {
           "color": "#2a3f5f"
          },
          "geo": {
           "bgcolor": "white",
           "lakecolor": "white",
           "landcolor": "white",
           "showlakes": true,
           "showland": true,
           "subunitcolor": "#C8D4E3"
          },
          "hoverlabel": {
           "align": "left"
          },
          "hovermode": "closest",
          "mapbox": {
           "style": "light"
          },
          "paper_bgcolor": "white",
          "plot_bgcolor": "white",
          "polar": {
           "angularaxis": {
            "gridcolor": "#EBF0F8",
            "linecolor": "#EBF0F8",
            "ticks": ""
           },
           "bgcolor": "white",
           "radialaxis": {
            "gridcolor": "#EBF0F8",
            "linecolor": "#EBF0F8",
            "ticks": ""
           }
          },
          "scene": {
           "xaxis": {
            "backgroundcolor": "white",
            "gridcolor": "#DFE8F3",
            "gridwidth": 2,
            "linecolor": "#EBF0F8",
            "showbackground": true,
            "ticks": "",
            "zerolinecolor": "#EBF0F8"
           },
           "yaxis": {
            "backgroundcolor": "white",
            "gridcolor": "#DFE8F3",
            "gridwidth": 2,
            "linecolor": "#EBF0F8",
            "showbackground": true,
            "ticks": "",
            "zerolinecolor": "#EBF0F8"
           },
           "zaxis": {
            "backgroundcolor": "white",
            "gridcolor": "#DFE8F3",
            "gridwidth": 2,
            "linecolor": "#EBF0F8",
            "showbackground": true,
            "ticks": "",
            "zerolinecolor": "#EBF0F8"
           }
          },
          "shapedefaults": {
           "line": {
            "color": "#2a3f5f"
           }
          },
          "ternary": {
           "aaxis": {
            "gridcolor": "#DFE8F3",
            "linecolor": "#A2B1C6",
            "ticks": ""
           },
           "baxis": {
            "gridcolor": "#DFE8F3",
            "linecolor": "#A2B1C6",
            "ticks": ""
           },
           "bgcolor": "white",
           "caxis": {
            "gridcolor": "#DFE8F3",
            "linecolor": "#A2B1C6",
            "ticks": ""
           }
          },
          "title": {
           "x": 0.05
          },
          "xaxis": {
           "automargin": true,
           "gridcolor": "#EBF0F8",
           "linecolor": "#EBF0F8",
           "ticks": "",
           "title": {
            "standoff": 15
           },
           "zerolinecolor": "#EBF0F8",
           "zerolinewidth": 2
          },
          "yaxis": {
           "automargin": true,
           "gridcolor": "#EBF0F8",
           "linecolor": "#EBF0F8",
           "ticks": "",
           "title": {
            "standoff": 15
           },
           "zerolinecolor": "#EBF0F8",
           "zerolinewidth": 2
          }
         }
        },
        "title": {
         "text": "Standard Deviation with Low Stimulation for group Lmc_opsin"
        },
        "updatemenus": [
         {
          "buttons": [
           {
            "args": [
             {
              "visible": [
               true,
               true,
               true,
               true,
               true,
               true,
               true,
               true,
               true,
               true,
               true,
               true,
               true,
               true,
               true,
               true,
               true,
               true,
               true,
               true,
               true,
               true,
               true,
               true,
               true,
               true,
               true,
               true,
               true,
               true
              ]
             }
            ],
            "label": "Both",
            "method": "update"
           },
           {
            "args": [
             {
              "visible": [
               true,
               true,
               true,
               true,
               true,
               true,
               true,
               true,
               true,
               true,
               true,
               true,
               true,
               true,
               true,
               false,
               false,
               false,
               false,
               false,
               false,
               false,
               false,
               false,
               false,
               false,
               false,
               false,
               false,
               false
              ]
             }
            ],
            "label": "Pre",
            "method": "update"
           },
           {
            "args": [
             {
              "visible": [
               false,
               false,
               false,
               false,
               false,
               false,
               false,
               false,
               false,
               false,
               false,
               false,
               false,
               false,
               false,
               true,
               true,
               true,
               true,
               true,
               true,
               true,
               true,
               true,
               true,
               true,
               true,
               true,
               true,
               true
              ]
             }
            ],
            "label": "Post",
            "method": "update"
           }
          ],
          "x": 1.15,
          "xanchor": "left",
          "y": 1.2,
          "yanchor": "top"
         }
        ],
        "width": 800,
        "xaxis": {
         "ticktext": [
          "Early",
          "Late"
         ],
         "tickvals": [
          0,
          1
         ],
         "title": {
          "text": "Phase"
         }
        },
        "yaxis": {
         "title": {
          "text": "Standard Deviation"
         }
        }
       }
      }
     },
     "metadata": {},
     "output_type": "display_data"
    }
   ],
   "source": [
    "analysis_instance.plot_standard_deviation_plotly('Low', group_name='Lmc_opsin', data_type='both')"
   ]
  },
  {
   "cell_type": "code",
   "execution_count": null,
   "metadata": {},
   "outputs": [],
   "source": []
  }
 ],
 "metadata": {
  "kernelspec": {
   "display_name": "matlab_python_proj",
   "language": "python",
   "name": "python3"
  },
  "language_info": {
   "codemirror_mode": {
    "name": "ipython",
    "version": 3
   },
   "file_extension": ".py",
   "mimetype": "text/x-python",
   "name": "python",
   "nbconvert_exporter": "python",
   "pygments_lexer": "ipython3",
   "version": "3.11.4"
  },
  "orig_nbformat": 4
 },
 "nbformat": 4,
 "nbformat_minor": 2
}

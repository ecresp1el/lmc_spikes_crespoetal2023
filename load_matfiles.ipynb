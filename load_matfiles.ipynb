{
 "cells": [
  {
   "cell_type": "code",
   "execution_count": null,
   "metadata": {},
   "outputs": [],
   "source": [
    "from Extract_ephys_from_struct import ExtractEphysData\n",
    "\n",
    "#now test the class\n",
    "#initialize the class\n",
    "EED = ExtractEphysData('/Users/cresp1el/Documents/MATLAB/lmc_20ms_data.mat')\n",
    "\n",
    "#test the methods of the class\n",
    "EED.load_matfiles_printdata()\n",
    "\n",
    "#test the extract_ephys_data method\n",
    "EED.extract_ephys_data('Lmc_opsin', 'lmc_ch_1_3094_rec1', 'cid134')\n",
    "\n",
    "#what are the group names?\n",
    "EED.group_names"
   ]
  }
 ],
 "metadata": {
  "language_info": {
   "name": "python"
  },
  "orig_nbformat": 4
 },
 "nbformat": 4,
 "nbformat_minor": 2
}

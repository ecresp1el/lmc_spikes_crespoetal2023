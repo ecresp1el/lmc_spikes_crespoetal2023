{
 "cells": [
  {
   "cell_type": "markdown",
   "metadata": {},
   "source": [
    "# MCS MEA — Pair Viewer (Inline Only)\n",
    "\n",
    "HERE ARE THE GUI RELEVANT CHANGES\n",
    "\n",
    "Instructions:\n",
    "- Use the mcs_mea_env kernel (PyQt5 + pyqtgraph installed).\n",
    "- Run the next cell to enable the Qt event loop in Jupyter.\n",
    "- Run \"Build Ready + Pairs\".\n",
    "- Set plate/pair/channel and run \"Launch GUI\".\n",
    "\n",
    "Notes:\n",
    "- Raw traces may be blank if raw H5 cannot be read in-notebook; IFR always shows.\n",
    "- Chemical timestamps (if present) are shown as red dashed lines.\n",
    "- Accepted/rejected channel selections save under `mcs_mea_outputs/selections/`.\n"
   ]
  },
  {
   "cell_type": "code",
   "execution_count": null,
   "metadata": {},
   "outputs": [],
   "source": [
    "%gui qt5\n",
    "import os\n",
    "os.environ.setdefault('QT_MAC_WANTS_LAYER','1')"
   ]
  },
  {
   "cell_type": "code",
   "execution_count": null,
   "metadata": {},
   "outputs": [],
   "source": [
    "# Build Ready + Pairs (self-contained)\n",
    "import sys\n",
    "from pathlib import Path\n",
    "import pandas as pd\n",
    "# Ensure repo root on sys.path\n",
    "def _ensure_repo_on_path():\n",
    "    here = Path.cwd()\n",
    "    for cand in [here, *here.parents]:\n",
    "        if (cand / 'mcs_mea_analysis').exists():\n",
    "            if str(cand) not in sys.path:\n",
    "                sys.path.insert(0, str(cand))\n",
    "            return cand\n",
    "    return here\n",
    "REPO_ROOT = _ensure_repo_on_path()\n",
    "from pathlib import Path as _P\n",
    "from mcs_mea_analysis.ready import ReadinessConfig, build_ready_index\n",
    "from mcs_mea_analysis.pairings import PairingIndex\n",
    "OUTPUT_ROOT = _P('/Volumes/Manny2TB/mcs_mea_outputs') if (_P('/Volumes/Manny2TB/mcs_mea_outputs').exists()) else _P('_mcs_mea_outputs_local')\n",
    "ready_csv, _, ready_rows = build_ready_index(ReadinessConfig(output_root=OUTPUT_ROOT, require_ifr_npz=True))\n",
    "df = pd.DataFrame(ready_rows)\n",
    "px = PairingIndex.from_ready_rows(df.to_dict('records'), group_by_round=True)\n",
    "pairs_df = pd.DataFrame(px.pairs_dataframe())\n",
    "ready_pairs_df = pairs_df.query('pair_status==\"ready_pair\"').copy()\n",
    "print('Ready pairs:', len(ready_pairs_df))\n",
    "print('Pairs per plate:')\n",
    "display(ready_pairs_df.groupby('plate').size().to_frame('n_pairs'))\n"
   ]
  },
  {
   "cell_type": "code",
   "execution_count": null,
   "metadata": {},
   "outputs": [],
   "source": [
    "# Inline launcher function (only)\n",
    "from mcs_mea_analysis.pair_viewer_gui import PairInputs, launch_pair_viewer\n",
    "from pathlib import Path as _Path2\n",
    "import pandas as pd\n",
    "\n",
    "def _get_pair_context(plate:int, pair_idx:int=0):\n",
    "    rpp = ready_pairs_df[ready_pairs_df['plate']==plate].reset_index(drop=True)\n",
    "    if rpp.empty: raise RuntimeError(f'No ready pairs for plate {plate}')\n",
    "    if not (0 <= pair_idx < len(rpp)): raise RuntimeError(f'pair_idx {pair_idx} out of range [0..{len(rpp)-1}]')\n",
    "    row = rpp.iloc[pair_idx]\n",
    "    ctz_h5 = df.loc[df['recording_stem']==row['ctz_stem'], 'path']\n",
    "    veh_h5 = df.loc[df['recording_stem']==row['veh_stem'], 'path']\n",
    "    chem_c = df.loc[df['recording_stem']==row['ctz_stem'], 'chem_timestamp']\n",
    "    chem_v = df.loc[df['recording_stem']==row['veh_stem'], 'chem_timestamp']\n",
    "    return row, ctz_h5, veh_h5, chem_c, chem_v\n",
    "\n",
    "def open_pair_inline(plate:int, pair_idx:int=0, ch:int=0):\n",
    "    row, ctz_h5, veh_h5, chem_c, chem_v = _get_pair_context(plate, pair_idx)\n",
    "    pin = PairInputs(\n",
    "        plate=int(row['plate']) if pd.notna(row['plate']) else None,\n",
    "        round=str(row['round']) if pd.notna(row['round']) else None,\n",
    "        ctz_npz=_Path2(row['ctz_npz_path']),\n",
    "        veh_npz=_Path2(row['veh_npz_path']),\n",
    "        ctz_h5=_Path2(ctz_h5.iloc[0]) if not ctz_h5.empty else None,\n",
    "        veh_h5=_Path2(veh_h5.iloc[0]) if not veh_h5.empty else None,\n",
    "        chem_ctz_s=float(chem_c.iloc[0]) if not chem_c.empty and pd.notna(chem_c.iloc[0]) else None,\n",
    "        chem_veh_s=float(chem_v.iloc[0]) if not chem_v.empty and pd.notna(chem_v.iloc[0]) else None,\n",
    "        initial_channel=int(ch),\n",
    "    )\n",
    "    launch_pair_viewer(pin)\n"
   ]
  },
  {
   "cell_type": "code",
   "execution_count": null,
   "metadata": {},
   "outputs": [],
   "source": [
    "# Launch GUI — set inputs here\n",
    "plate = 2# e.g., 4,5,2\n",
    "pair_idx = 0 # 0-based index within that plate\n",
    "ch = 0       # channel to start at\n",
    "open_pair_inline(plate=plate, pair_idx=pair_idx, ch=ch)"
   ]
  }
 ],
 "metadata": {
  "kernelspec": {
   "display_name": "mcs_mea_env",
   "language": "python",
   "name": "python3"
  },
  "language_info": {
   "codemirror_mode": {
    "name": "ipython",
    "version": 3
   },
   "file_extension": ".py",
   "mimetype": "text/x-python",
   "name": "python",
   "nbconvert_exporter": "python",
   "pygments_lexer": "ipython3",
   "version": "3.9.23"
  }
 },
 "nbformat": 4,
 "nbformat_minor": 5
}
